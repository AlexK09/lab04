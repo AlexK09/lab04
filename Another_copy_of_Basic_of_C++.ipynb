{
  "nbformat": 4,
  "nbformat_minor": 0,
  "metadata": {
    "colab": {
      "provenance": [],
      "include_colab_link": true
    },
    "kernelspec": {
      "name": "python3",
      "display_name": "Python 3"
    },
    "accelerator": "GPU"
  },
  "cells": [
    {
      "cell_type": "markdown",
      "metadata": {
        "id": "view-in-github",
        "colab_type": "text"
      },
      "source": [
        "<a href=\"https://colab.research.google.com/github/AlexK09/lab04/blob/master/Another_copy_of_Basic_of_C%2B%2B.ipynb\" target=\"_parent\"><img src=\"https://colab.research.google.com/assets/colab-badge.svg\" alt=\"Open In Colab\"/></a>"
      ]
    },
    {
      "cell_type": "code",
      "metadata": {
        "id": "2HT0jogV8WLR",
        "outputId": "f1d6833c-a57b-4b68-89f8-7bdbe851e5b6",
        "colab": {
          "base_uri": "https://localhost:8080/"
        }
      },
      "source": [
        "!apt-get --purge remove cuda nvidia* libnvidia-*\n",
        "!dpkg -l | grep cuda- | awk '{print $2}' | xargs -n1 dpkg --purge\n",
        "!apt-get remove cuda-*\n",
        "!apt autoremove\n",
        "!apt-get update"
      ],
      "execution_count": null,
      "outputs": [
        {
          "output_type": "stream",
          "name": "stdout",
          "text": [
            "Reading package lists... Done\n",
            "Building dependency tree... Done\n",
            "Reading state information... Done\n",
            "Note, selecting 'nvidia-docker2' for glob 'nvidia*'\n",
            "Note, selecting 'nvidia-cuda-toolkit-doc' for glob 'nvidia*'\n",
            "Note, selecting 'nvidia-dkms-450-server' for glob 'nvidia*'\n",
            "Note, selecting 'nvidia-headless-390' for glob 'nvidia*'\n",
            "Note, selecting 'nvidia-cuda-toolkit-gcc' for glob 'nvidia*'\n",
            "Note, selecting 'nvidia-headless-418' for glob 'nvidia*'\n",
            "Note, selecting 'nvidia-headless-430' for glob 'nvidia*'\n",
            "Note, selecting 'nvidia-headless-435' for glob 'nvidia*'\n",
            "Note, selecting 'nvidia-headless-440' for glob 'nvidia*'\n",
            "Note, selecting 'nvidia-headless-450' for glob 'nvidia*'\n",
            "Note, selecting 'nvidia-headless-455' for glob 'nvidia*'\n",
            "Note, selecting 'nvidia-headless-460' for glob 'nvidia*'\n",
            "Note, selecting 'nvidia-headless-465' for glob 'nvidia*'\n",
            "Note, selecting 'nvidia-headless-470' for glob 'nvidia*'\n",
            "Note, selecting 'nvidia-dkms-470-server' for glob 'nvidia*'\n",
            "Note, selecting 'nvidia-headless-495' for glob 'nvidia*'\n",
            "Note, selecting 'nvidia-headless-510' for glob 'nvidia*'\n",
            "Note, selecting 'nvidia-headless-515' for glob 'nvidia*'\n",
            "Note, selecting 'nvidia-compute-utils-515-server' for glob 'nvidia*'\n",
            "Note, selecting 'nvidia-headless-520' for glob 'nvidia*'\n",
            "Note, selecting 'nvidia-headless-525' for glob 'nvidia*'\n",
            "Note, selecting 'nvidia-headless-530' for glob 'nvidia*'\n",
            "Note, selecting 'nvidia-headless-535' for glob 'nvidia*'\n",
            "Note, selecting 'nvidia-headless-545' for glob 'nvidia*'\n",
            "Note, selecting 'nvidia-driver-440-server' for glob 'nvidia*'\n",
            "Note, selecting 'nvidia-fabricmanager-dev' for glob 'nvidia*'\n",
            "Note, selecting 'nvidia-compute-utils-535-server' for glob 'nvidia*'\n",
            "Note, selecting 'nvidia-325-updates' for glob 'nvidia*'\n",
            "Note, selecting 'nvidia-driver-460-server' for glob 'nvidia*'\n",
            "Note, selecting 'nvidia-primus-vk-common' for glob 'nvidia*'\n",
            "Note, selecting 'nvidia-opencl-dev' for glob 'nvidia*'\n",
            "Note, selecting 'nvidia-kernel-open-515' for glob 'nvidia*'\n",
            "Note, selecting 'nvidia-kernel-open-520' for glob 'nvidia*'\n",
            "Note, selecting 'nvidia-kernel-open-525' for glob 'nvidia*'\n",
            "Note, selecting 'nvidia-kernel-open-530' for glob 'nvidia*'\n",
            "Note, selecting 'nvidia-kernel-open-535' for glob 'nvidia*'\n",
            "Note, selecting 'nvidia-kernel-open-545' for glob 'nvidia*'\n",
            "Note, selecting 'nvidia-kernel-common-418-server' for glob 'nvidia*'\n",
            "Note, selecting 'nvidia-cg-toolkit' for glob 'nvidia*'\n",
            "Note, selecting 'nvidia-kernel-common-525-server' for glob 'nvidia*'\n",
            "Note, selecting 'nvidia-dkms-510-server' for glob 'nvidia*'\n",
            "Note, selecting 'nvidia-libopencl1-dev' for glob 'nvidia*'\n",
            "Note, selecting 'nvidia-texture-tools' for glob 'nvidia*'\n",
            "Note, selecting 'nvidia-driver-525-open' for glob 'nvidia*'\n",
            "Note, selecting 'nvidia-opencl-icd' for glob 'nvidia*'\n",
            "Note, selecting 'nvidia-headless-450-server' for glob 'nvidia*'\n",
            "Note, selecting 'nvidia-compute-utils-390' for glob 'nvidia*'\n",
            "Note, selecting 'nvidia-utils' for glob 'nvidia*'\n",
            "Note, selecting 'nvidia-compute-utils-418' for glob 'nvidia*'\n",
            "Note, selecting 'nvidia-compute-utils-430' for glob 'nvidia*'\n",
            "Note, selecting 'nvidia-compute-utils-435' for glob 'nvidia*'\n",
            "Note, selecting 'nvidia-compute-utils-440' for glob 'nvidia*'\n",
            "Note, selecting 'nvidia-compute-utils-450' for glob 'nvidia*'\n",
            "Note, selecting 'nvidia-compute-utils-455' for glob 'nvidia*'\n",
            "Note, selecting 'nvidia-compute-utils-460' for glob 'nvidia*'\n",
            "Note, selecting 'nvidia-compute-utils-465' for glob 'nvidia*'\n",
            "Note, selecting 'nvidia-compute-utils-470' for glob 'nvidia*'\n",
            "Note, selecting 'nvidia-compute-utils-495' for glob 'nvidia*'\n",
            "Note, selecting 'nvidia-dkms-390' for glob 'nvidia*'\n",
            "Note, selecting 'nvidia-headless-470-server' for glob 'nvidia*'\n",
            "Note, selecting 'nvidia-compute-utils-510' for glob 'nvidia*'\n",
            "Note, selecting 'nvidia-compute-utils-515' for glob 'nvidia*'\n",
            "Note, selecting 'nvidia-compute-utils-520' for glob 'nvidia*'\n",
            "Note, selecting 'nvidia-compute-utils-525' for glob 'nvidia*'\n",
            "Note, selecting 'nvidia-compute-utils-530' for glob 'nvidia*'\n",
            "Note, selecting 'nvidia-compute-utils-535' for glob 'nvidia*'\n",
            "Note, selecting 'nvidia-compute-utils-545' for glob 'nvidia*'\n",
            "Note, selecting 'nvidia-dkms-418' for glob 'nvidia*'\n",
            "Note, selecting 'nvidia-dkms-430' for glob 'nvidia*'\n",
            "Note, selecting 'nvidia-dkms-435' for glob 'nvidia*'\n",
            "Note, selecting 'nvidia-dkms-440' for glob 'nvidia*'\n",
            "Note, selecting 'nvidia-dkms-450' for glob 'nvidia*'\n",
            "Note, selecting 'nvidia-dkms-455' for glob 'nvidia*'\n",
            "Note, selecting 'nvidia-dkms-460' for glob 'nvidia*'\n",
            "Note, selecting 'nvidia-dkms-465' for glob 'nvidia*'\n",
            "Note, selecting 'nvidia-dkms-470' for glob 'nvidia*'\n",
            "Note, selecting 'nvidia-dkms-495' for glob 'nvidia*'\n",
            "Note, selecting 'nvidia-381-updates' for glob 'nvidia*'\n",
            "Note, selecting 'nvidia-dkms-510' for glob 'nvidia*'\n",
            "Note, selecting 'nvidia-dkms-515' for glob 'nvidia*'\n",
            "Note, selecting 'nvidia-dkms-520' for glob 'nvidia*'\n",
            "Note, selecting 'nvidia-dkms-525' for glob 'nvidia*'\n",
            "Note, selecting 'nvidia-dkms-530' for glob 'nvidia*'\n",
            "Note, selecting 'nvidia-dkms-535' for glob 'nvidia*'\n",
            "Note, selecting 'nvidia-fs' for glob 'nvidia*'\n",
            "Note, selecting 'nvidia-dkms-545' for glob 'nvidia*'\n",
            "Note, selecting 'nvidia-container-runtime' for glob 'nvidia*'\n",
            "Note, selecting 'nvidia-driver-390' for glob 'nvidia*'\n",
            "Note, selecting 'nvidia-driver-410' for glob 'nvidia*'\n",
            "Note, selecting 'nvidia-driver-418' for glob 'nvidia*'\n",
            "Note, selecting 'nvidia-driver-430' for glob 'nvidia*'\n",
            "Note, selecting 'nvidia-driver-435' for glob 'nvidia*'\n",
            "Note, selecting 'nvidia-driver-440' for glob 'nvidia*'\n",
            "Note, selecting 'nvidia-driver-450' for glob 'nvidia*'\n",
            "Note, selecting 'nvidia-driver-455' for glob 'nvidia*'\n",
            "Note, selecting 'nvidia-driver-460' for glob 'nvidia*'\n",
            "Note, selecting 'nvidia-driver-465' for glob 'nvidia*'\n",
            "Note, selecting 'nvidia-driver-470' for glob 'nvidia*'\n",
            "Note, selecting 'nvidia-driver-495' for glob 'nvidia*'\n",
            "Note, selecting 'nvidia-driver-510' for glob 'nvidia*'\n",
            "Note, selecting 'nvidia-driver-515' for glob 'nvidia*'\n",
            "Note, selecting 'nvidia-driver-520' for glob 'nvidia*'\n",
            "Note, selecting 'nvidia-driver-525' for glob 'nvidia*'\n",
            "Note, selecting 'nvidia-driver-530' for glob 'nvidia*'\n",
            "Note, selecting 'nvidia-driver-535' for glob 'nvidia*'\n",
            "Note, selecting 'nvidia-driver-545' for glob 'nvidia*'\n",
            "Note, selecting 'nvidia-dkms-440-server' for glob 'nvidia*'\n",
            "Note, selecting 'nvidia-headless-no-dkms-545-open' for glob 'nvidia*'\n",
            "Note, selecting 'nvidia-dkms-460-server' for glob 'nvidia*'\n",
            "Note, selecting 'nvidia-headless-510-server' for glob 'nvidia*'\n",
            "Note, selecting 'nvidia-387-updates' for glob 'nvidia*'\n",
            "Note, selecting 'nvidia-headless-no-dkms-515-server' for glob 'nvidia*'\n",
            "Note, selecting 'nvidia-dkms-520-open' for glob 'nvidia*'\n",
            "Note, selecting 'nvidia-utils-535-server' for glob 'nvidia*'\n",
            "Note, selecting 'nvidia-driver-450-server' for glob 'nvidia*'\n",
            "Note, selecting 'nvidia-headless-no-dkms-535-server' for glob 'nvidia*'\n",
            "Note, selecting 'nvidia-driver-470-server' for glob 'nvidia*'\n",
            "Note, selecting 'nvidia-primus-vk-wrapper' for glob 'nvidia*'\n",
            "Note, selecting 'nvidia-kernel-common-515-server' for glob 'nvidia*'\n",
            "Note, selecting 'nvidia-kernel-source-535-server-open' for glob 'nvidia*'\n",
            "Note, selecting 'nvidia-docker' for glob 'nvidia*'\n",
            "Note, selecting 'nvidia-kernel-common-535-server' for glob 'nvidia*'\n",
            "Note, selecting 'nvidia-378-updates' for glob 'nvidia*'\n",
            "Note, selecting 'nvidia-313-updates' for glob 'nvidia*'\n",
            "Note, selecting 'nvidia-headless-440-server' for glob 'nvidia*'\n",
            "Note, selecting 'nvidia-headless-460-server' for glob 'nvidia*'\n",
            "Note, selecting 'nvidia-utils-390' for glob 'nvidia*'\n",
            "Note, selecting 'nvidia-headless-545-open' for glob 'nvidia*'\n",
            "Note, selecting 'nvidia-utils-418' for glob 'nvidia*'\n",
            "Note, selecting 'nvidia-headless' for glob 'nvidia*'\n",
            "Note, selecting 'nvidia-utils-430' for glob 'nvidia*'\n",
            "Note, selecting 'nvidia-utils-435' for glob 'nvidia*'\n",
            "Note, selecting 'nvidia-utils-440' for glob 'nvidia*'\n",
            "Note, selecting 'nvidia-utils-450' for glob 'nvidia*'\n",
            "Note, selecting 'nvidia-utils-455' for glob 'nvidia*'\n",
            "Note, selecting 'nvidia-utils-460' for glob 'nvidia*'\n",
            "Note, selecting 'nvidia-utils-465' for glob 'nvidia*'\n",
            "Note, selecting 'nvidia-utils-470' for glob 'nvidia*'\n",
            "Note, selecting 'nvidia-utils-495' for glob 'nvidia*'\n",
            "Note, selecting 'nvidia-utils-510' for glob 'nvidia*'\n",
            "Note, selecting 'nvidia-utils-515' for glob 'nvidia*'\n",
            "Note, selecting 'nvidia-utils-520' for glob 'nvidia*'\n",
            "Note, selecting 'nvidia-utils-525' for glob 'nvidia*'\n",
            "Note, selecting 'nvidia-utils-530' for glob 'nvidia*'\n",
            "Note, selecting 'nvidia-utils-535' for glob 'nvidia*'\n",
            "Note, selecting 'nvidia-utils-545' for glob 'nvidia*'\n",
            "Note, selecting 'nvidia-319-updates' for glob 'nvidia*'\n",
            "Note, selecting 'nvidia-kernel-source-510-server' for glob 'nvidia*'\n",
            "Note, selecting 'nvidia-kernel-source-530-open' for glob 'nvidia*'\n",
            "Note, selecting 'nvidia-egl-wayland-common' for glob 'nvidia*'\n",
            "Note, selecting 'nvidia-384-updates' for glob 'nvidia*'\n",
            "Note, selecting 'nvidia-304-updates' for glob 'nvidia*'\n",
            "Note, selecting 'nvidia-utils-418-server' for glob 'nvidia*'\n",
            "Note, selecting 'nvidia-utils-525-server' for glob 'nvidia*'\n",
            "Note, selecting 'nvidia-headless-515-open' for glob 'nvidia*'\n",
            "Note, selecting 'nvidia-headless-no-dkms-418-server' for glob 'nvidia*'\n",
            "Note, selecting 'nvidia-headless-no-dkms-525-server' for glob 'nvidia*'\n",
            "Note, selecting 'nvidia-kernel-source-545-open' for glob 'nvidia*'\n",
            "Note, selecting 'nvidia-kernel-source-440-server' for glob 'nvidia*'\n",
            "Note, selecting 'nvidia-375-updates' for glob 'nvidia*'\n",
            "Note, selecting 'nvidia-310-updates' for glob 'nvidia*'\n",
            "Note, selecting 'nvidia-kernel-source-460-server' for glob 'nvidia*'\n",
            "Note, selecting 'nvidia-kernel-source-515-open' for glob 'nvidia*'\n",
            "Note, selecting 'nvidia-headless-no-dkms-535-server-open' for glob 'nvidia*'\n",
            "Note, selecting 'nvidia-headless-no-dkms-530-open' for glob 'nvidia*'\n",
            "Note, selecting 'nvidia-364-updates' for glob 'nvidia*'\n",
            "Note, selecting 'nvidia-gds-11-7' for glob 'nvidia*'\n",
            "Note, selecting 'nvidia-gds-11-8' for glob 'nvidia*'\n",
            "Note, selecting 'nvidia-gds-12-0' for glob 'nvidia*'\n",
            "Note, selecting 'nvidia-gds-12-1' for glob 'nvidia*'\n",
            "Note, selecting 'nvidia-gds-12-2' for glob 'nvidia*'\n",
            "Note, selecting 'nvidia-gds-12-3' for glob 'nvidia*'\n",
            "Note, selecting 'nvidia-utils-515-server' for glob 'nvidia*'\n",
            "Note, selecting 'nvidia-firmware-545-server-545.29.02' for glob 'nvidia*'\n",
            "Note, selecting 'nvidia-dkms-525-open' for glob 'nvidia*'\n",
            "Note, selecting 'nvidia-headless-no-dkms-515-open' for glob 'nvidia*'\n",
            "Note, selecting 'nvidia-headless-530-open' for glob 'nvidia*'\n",
            "Note, selecting 'nvidia-kernel-source-450-server' for glob 'nvidia*'\n",
            "Note, selecting 'nvidia-legacy-390xx-opencl-icd' for glob 'nvidia*'\n",
            "Note, selecting 'nvidia-kernel-source-470-server' for glob 'nvidia*'\n",
            "Note, selecting 'nvidia-profiler' for glob 'nvidia*'\n",
            "Note, selecting 'nvidia-361-updates' for glob 'nvidia*'\n",
            "Note, selecting 'nvidia-firmware-535-535.54.03' for glob 'nvidia*'\n",
            "Note, selecting 'nvidia-current-updates' for glob 'nvidia*'\n",
            "Note, selecting 'nvidia-compute-utils-510-server' for glob 'nvidia*'\n",
            "Note, selecting 'nvidia-visual-profiler' for glob 'nvidia*'\n",
            "Note, selecting 'nvidia-dkms-515-server' for glob 'nvidia*'\n",
            "Note, selecting 'nvidia-367-updates' for glob 'nvidia*'\n",
            "Note, selecting 'nvidia-dkms-535-server' for glob 'nvidia*'\n",
            "Note, selecting 'nvidia-kernel-common-390' for glob 'nvidia*'\n",
            "Note, selecting 'nvidia-kernel-common-396' for glob 'nvidia*'\n",
            "Note, selecting 'nvidia-driver-545-open' for glob 'nvidia*'\n",
            "Note, selecting 'nvidia-kernel-common-418' for glob 'nvidia*'\n",
            "Note, selecting 'nvidia-kernel-common-430' for glob 'nvidia*'\n",
            "Note, selecting 'nvidia-kernel-common-435' for glob 'nvidia*'\n",
            "Note, selecting 'nvidia-kernel-common-440' for glob 'nvidia*'\n",
            "Note, selecting 'nvidia-kernel-common-450' for glob 'nvidia*'\n",
            "Note, selecting 'nvidia-kernel-common-455' for glob 'nvidia*'\n",
            "Note, selecting 'nvidia-kernel-common-460' for glob 'nvidia*'\n",
            "Note, selecting 'nvidia-kernel-common-465' for glob 'nvidia*'\n",
            "Note, selecting 'nvidia-kernel-common-470' for glob 'nvidia*'\n",
            "Note, selecting 'nvidia-kernel-common-495' for glob 'nvidia*'\n",
            "Note, selecting 'nvidia-kernel-source-535-open' for glob 'nvidia*'\n",
            "Note, selecting 'nvidia-legacy-390xx-smi' for glob 'nvidia*'\n",
            "Note, selecting 'nvidia-prebuilt-kernel' for glob 'nvidia*'\n",
            "Note, selecting 'nvidia-kernel-common-510' for glob 'nvidia*'\n",
            "Note, selecting 'nvidia-kernel-common-515' for glob 'nvidia*'\n",
            "Note, selecting 'nvidia-kernel-common-520' for glob 'nvidia*'\n",
            "Note, selecting 'nvidia-kernel-common-525' for glob 'nvidia*'\n",
            "Note, selecting 'nvidia-kernel-common-530' for glob 'nvidia*'\n",
            "Note, selecting 'nvidia-kernel-common-535' for glob 'nvidia*'\n",
            "Note, selecting 'nvidia-kernel-common-545' for glob 'nvidia*'\n",
            "Note, selecting 'nvidia-driver-418-server' for glob 'nvidia*'\n",
            "Note, selecting 'nvidia-current' for glob 'nvidia*'\n",
            "Note, selecting 'nvidia-compute-utils' for glob 'nvidia*'\n",
            "Note, selecting 'nvidia-driver-525-server' for glob 'nvidia*'\n",
            "Note, selecting 'nvidia-fs-modules' for glob 'nvidia*'\n",
            "Note, selecting 'nvidia-kernel-common' for glob 'nvidia*'\n",
            "Note, selecting 'nvidia-compute-utils-440-server' for glob 'nvidia*'\n",
            "Note, selecting 'nvidia-358-updates' for glob 'nvidia*'\n",
            "Note, selecting 'nvidia-driver-515-open' for glob 'nvidia*'\n",
            "Note, selecting 'nvidia-compute-utils-460-server' for glob 'nvidia*'\n",
            "Note, selecting 'nvidia-cuda-dev' for glob 'nvidia*'\n",
            "Note, selecting 'nvidia-cuda-doc' for glob 'nvidia*'\n",
            "Note, selecting 'nvidia-headless-515-server' for glob 'nvidia*'\n",
            "Note, selecting 'nvidia-fabricmanager' for glob 'nvidia*'\n",
            "Note, selecting 'nvidia-headless-535-server' for glob 'nvidia*'\n",
            "Note, selecting 'nvidia-cuda-gdb' for glob 'nvidia*'\n",
            "Note, selecting 'nvidia-340-dev' for glob 'nvidia*'\n",
            "Note, selecting 'nvidia-cuda-toolkit' for glob 'nvidia*'\n",
            "Note, selecting 'nvidia-dkms-545-open' for glob 'nvidia*'\n",
            "Note, selecting 'nvidia-headless-no-dkms-510-server' for glob 'nvidia*'\n",
            "Note, selecting 'nvidia-headless-no-dkms-535-open' for glob 'nvidia*'\n",
            "Note, selecting 'nvidia-dkms-418-server' for glob 'nvidia*'\n",
            "Note, selecting 'nvidia-dkms-525-server' for glob 'nvidia*'\n",
            "Note, selecting 'nvidia-prime' for glob 'nvidia*'\n",
            "Note, selecting 'nvidia-kernel-common-510-server' for glob 'nvidia*'\n",
            "Note, selecting 'nvidia-firmware-545-545.29.02' for glob 'nvidia*'\n",
            "Note, selecting 'nvidia-kernel-dkms' for glob 'nvidia*'\n",
            "Note, selecting 'nvidia-driver-515-server' for glob 'nvidia*'\n",
            "Note, selecting 'nvidia-dkms-515-open' for glob 'nvidia*'\n",
            "Note, selecting 'nvidia-355-updates' for glob 'nvidia*'\n",
            "Note, selecting 'nvidia-driver-535-server' for glob 'nvidia*'\n",
            "Note, selecting 'nvidia-headless-520-open' for glob 'nvidia*'\n",
            "Note, selecting 'nvidia-opencl-icd-340' for glob 'nvidia*'\n",
            "Note, selecting 'nvidia-opencl-icd-384' for glob 'nvidia*'\n",
            "Note, selecting 'nvidia-compute-utils-450-server' for glob 'nvidia*'\n",
            "Note, selecting 'nvidia-kernel-open' for glob 'nvidia*'\n",
            "Note, selecting 'nvidia-304' for glob 'nvidia*'\n",
            "Note, selecting 'nvidia-310' for glob 'nvidia*'\n",
            "Note, selecting 'nvidia-313' for glob 'nvidia*'\n",
            "Note, selecting 'nvidia-319' for glob 'nvidia*'\n",
            "Note, selecting 'nvidia-325' for glob 'nvidia*'\n",
            "Note, selecting 'nvidia-331' for glob 'nvidia*'\n",
            "Note, selecting 'nvidia-334' for glob 'nvidia*'\n",
            "Note, selecting 'nvidia-337' for glob 'nvidia*'\n",
            "Note, selecting 'nvidia-340' for glob 'nvidia*'\n",
            "Note, selecting 'nvidia-343' for glob 'nvidia*'\n",
            "Note, selecting 'nvidia-346' for glob 'nvidia*'\n",
            "Note, selecting 'nvidia-349' for glob 'nvidia*'\n",
            "Note, selecting 'nvidia-352' for glob 'nvidia*'\n",
            "Note, selecting 'nvidia-355' for glob 'nvidia*'\n",
            "Note, selecting 'nvidia-358' for glob 'nvidia*'\n",
            "Note, selecting 'nvidia-361' for glob 'nvidia*'\n",
            "Note, selecting 'nvidia-364' for glob 'nvidia*'\n",
            "Note, selecting 'nvidia-367' for glob 'nvidia*'\n",
            "Note, selecting 'nvidia-375' for glob 'nvidia*'\n",
            "Note, selecting 'nvidia-378' for glob 'nvidia*'\n",
            "Note, selecting 'nvidia-381' for glob 'nvidia*'\n",
            "Note, selecting 'nvidia-384' for glob 'nvidia*'\n",
            "Note, selecting 'nvidia-387' for glob 'nvidia*'\n",
            "Note, selecting 'nvidia-390' for glob 'nvidia*'\n",
            "Note, selecting 'nvidia-fs-dkms' for glob 'nvidia*'\n",
            "Note, selecting 'nvidia-compute-utils-470-server' for glob 'nvidia*'\n",
            "Note, selecting 'nvidia-kernel-common-440-server' for glob 'nvidia*'\n",
            "Note, selecting 'nvidia-headless-418-server' for glob 'nvidia*'\n",
            "Note, selecting 'nvidia-340-uvm' for glob 'nvidia*'\n",
            "Note, selecting 'nvidia-headless-525-server' for glob 'nvidia*'\n",
            "Note, selecting 'nvidia-headless-535-open' for glob 'nvidia*'\n",
            "Note, selecting 'nvidia-346-updates' for glob 'nvidia*'\n",
            "Note, selecting 'nvidia-fs-prebuilt-kernel' for glob 'nvidia*'\n",
            "Note, selecting 'nvidia-kernel-common-460-server' for glob 'nvidia*'\n",
            "Note, selecting 'nvidia' for glob 'nvidia*'\n",
            "Note, selecting 'nvidia-driver-530-open' for glob 'nvidia*'\n",
            "Note, selecting 'nvidia-kernel-source-520-open' for glob 'nvidia*'\n",
            "Note, selecting 'nvidia-headless-535-server-open' for glob 'nvidia*'\n",
            "Note, selecting 'nvidia-settings' for glob 'nvidia*'\n",
            "Note, selecting 'nvidia-headless-no-dkms-390' for glob 'nvidia*'\n",
            "Note, selecting 'nvidia-headless-no-dkms-418' for glob 'nvidia*'\n",
            "Note, selecting 'nvidia-headless-no-dkms-430' for glob 'nvidia*'\n",
            "Note, selecting 'nvidia-headless-no-dkms-435' for glob 'nvidia*'\n",
            "Note, selecting 'nvidia-headless-no-dkms-440' for glob 'nvidia*'\n",
            "Note, selecting 'nvidia-headless-no-dkms-450' for glob 'nvidia*'\n",
            "Note, selecting 'nvidia-headless-no-dkms-455' for glob 'nvidia*'\n",
            "Note, selecting 'nvidia-headless-no-dkms-460' for glob 'nvidia*'\n",
            "Note, selecting 'nvidia-headless-no-dkms-465' for glob 'nvidia*'\n",
            "Note, selecting 'nvidia-headless-no-dkms-470' for glob 'nvidia*'\n",
            "Note, selecting 'nvidia-headless-no-dkms-495' for glob 'nvidia*'\n",
            "Note, selecting 'nvidia-container-runtime-hook' for glob 'nvidia*'\n",
            "Note, selecting 'nvidia-cudnn' for glob 'nvidia*'\n",
            "Note, selecting 'nvidia-headless-no-dkms-510' for glob 'nvidia*'\n",
            "Note, selecting 'nvidia-headless-no-dkms-515' for glob 'nvidia*'\n",
            "Note, selecting 'nvidia-headless-no-dkms-520' for glob 'nvidia*'\n",
            "Note, selecting 'nvidia-headless-no-dkms-525' for glob 'nvidia*'\n",
            "Note, selecting 'nvidia-headless-no-dkms-530' for glob 'nvidia*'\n",
            "Note, selecting 'nvidia-headless-no-dkms-535' for glob 'nvidia*'\n",
            "Note, selecting 'nvidia-headless-no-dkms-545' for glob 'nvidia*'\n",
            "Note, selecting 'nvidia-352-updates' for glob 'nvidia*'\n",
            "Note, selecting 'nvidia-firmware-535-535.113.01' for glob 'nvidia*'\n",
            "Note, selecting 'nvidia-libopencl1' for glob 'nvidia*'\n",
            "Note, selecting 'nvidia-fabricmanager-dev-450' for glob 'nvidia*'\n",
            "Note, selecting 'nvidia-fabricmanager-dev-460' for glob 'nvidia*'\n",
            "Note, selecting 'nvidia-fabricmanager-dev-470' for glob 'nvidia*'\n",
            "Note, selecting 'nvidia-fabricmanager-dev-510' for glob 'nvidia*'\n",
            "Note, selecting 'nvidia-fabricmanager-dev-515' for glob 'nvidia*'\n",
            "Note, selecting 'nvidia-fabricmanager-dev-520' for glob 'nvidia*'\n",
            "Note, selecting 'nvidia-fabricmanager-dev-525' for glob 'nvidia*'\n",
            "Note, selecting 'nvidia-fabricmanager-dev-530' for glob 'nvidia*'\n",
            "Note, selecting 'nvidia-fabricmanager-dev-535' for glob 'nvidia*'\n",
            "Note, selecting 'nvidia-fabricmanager-dev-545' for glob 'nvidia*'\n",
            "Note, selecting 'nvidia-firmware-535-server-535.113.01' for glob 'nvidia*'\n",
            "Note, selecting 'nvidia-kernel-source-418-server' for glob 'nvidia*'\n",
            "Note, selecting 'nvidia-kernel-source-525-server' for glob 'nvidia*'\n",
            "Note, selecting 'nvidia-headless-no-dkms-450-server' for glob 'nvidia*'\n",
            "Note, selecting 'nvidia-dkms-530-open' for glob 'nvidia*'\n",
            "Note, selecting 'nvidia-headless-no-dkms-470-server' for glob 'nvidia*'\n",
            "Note, selecting 'nvidia-343-updates' for glob 'nvidia*'\n",
            "Note, selecting 'nvidia-headless-no-dkms-520-open' for glob 'nvidia*'\n",
            "Note, selecting 'nvidia-kernel-common-450-server' for glob 'nvidia*'\n",
            "Note, selecting 'nvidia-kernel-common-470-server' for glob 'nvidia*'\n",
            "Note, selecting 'nvidia-utils-510-server' for glob 'nvidia*'\n",
            "Note, selecting 'nvidia-349-updates' for glob 'nvidia*'\n",
            "Note, selecting 'nvidia-fabricmanager-450' for glob 'nvidia*'\n",
            "Note, selecting 'nvidia-fabricmanager-460' for glob 'nvidia*'\n",
            "Note, selecting 'nvidia-fabricmanager-470' for glob 'nvidia*'\n",
            "Note, selecting 'nvidia-fabricmanager-510' for glob 'nvidia*'\n",
            "Note, selecting 'nvidia-fabricmanager-515' for glob 'nvidia*'\n",
            "Note, selecting 'nvidia-fabricmanager-520' for glob 'nvidia*'\n",
            "Note, selecting 'nvidia-fabricmanager-525' for glob 'nvidia*'\n",
            "Note, selecting 'nvidia-fabricmanager-530' for glob 'nvidia*'\n",
            "Note, selecting 'nvidia-fabricmanager-535' for glob 'nvidia*'\n",
            "Note, selecting 'nvidia-fabricmanager-545' for glob 'nvidia*'\n",
            "Note, selecting 'nvidia-334-updates' for glob 'nvidia*'\n",
            "Note, selecting 'nvidia-driver-535-server-open' for glob 'nvidia*'\n",
            "Note, selecting 'nvidia-container-toolkit' for glob 'nvidia*'\n",
            "Note, selecting 'nvidia-libopencl1-340' for glob 'nvidia*'\n",
            "Note, selecting 'nvidia-libopencl1-384' for glob 'nvidia*'\n",
            "Note, selecting 'nvidia-container-toolkit-base' for glob 'nvidia*'\n",
            "Note, selecting 'nvidia-utils-440-server' for glob 'nvidia*'\n",
            "Note, selecting 'nvidia-firmware-535-535.129.03' for glob 'nvidia*'\n",
            "Note, selecting 'nvidia-kernel-source-515-server' for glob 'nvidia*'\n",
            "Note, selecting 'nvidia-kernel-source-390' for glob 'nvidia*'\n",
            "Note, selecting 'nvidia-headless-no-dkms-440-server' for glob 'nvidia*'\n",
            "Note, selecting 'nvidia-340-updates' for glob 'nvidia*'\n",
            "Note, selecting 'nvidia-utils-460-server' for glob 'nvidia*'\n",
            "Note, selecting 'nvidia-kernel-source-418' for glob 'nvidia*'\n",
            "Note, selecting 'nvidia-kernel-source-430' for glob 'nvidia*'\n",
            "Note, selecting 'nvidia-kernel-source-435' for glob 'nvidia*'\n",
            "Note, selecting 'nvidia-kernel-source-440' for glob 'nvidia*'\n",
            "Note, selecting 'nvidia-kernel-source-450' for glob 'nvidia*'\n",
            "Note, selecting 'nvidia-kernel-source-455' for glob 'nvidia*'\n",
            "Note, selecting 'nvidia-kernel-source-460' for glob 'nvidia*'\n",
            "Note, selecting 'nvidia-kernel-source-465' for glob 'nvidia*'\n",
            "Note, selecting 'nvidia-kernel-source-470' for glob 'nvidia*'\n",
            "Note, selecting 'nvidia-kernel-source-495' for glob 'nvidia*'\n",
            "Note, selecting 'nvidia-kernel-source-510' for glob 'nvidia*'\n",
            "Note, selecting 'nvidia-kernel-source-515' for glob 'nvidia*'\n",
            "Note, selecting 'nvidia-headless-525-open' for glob 'nvidia*'\n",
            "Note, selecting 'nvidia-kernel-source-535-server' for glob 'nvidia*'\n",
            "Note, selecting 'nvidia-kernel-source-520' for glob 'nvidia*'\n",
            "Note, selecting 'nvidia-kernel-source-525' for glob 'nvidia*'\n",
            "Note, selecting 'nvidia-kernel-source-530' for glob 'nvidia*'\n",
            "Note, selecting 'nvidia-kernel-source-535' for glob 'nvidia*'\n",
            "Note, selecting 'nvidia-kernel-source-545' for glob 'nvidia*'\n",
            "Note, selecting 'nvidia-headless-no-dkms-460-server' for glob 'nvidia*'\n",
            "Note, selecting 'nvidia-driver-520-open' for glob 'nvidia*'\n",
            "Note, selecting 'nvidia-firmware-535-server-535.129.03' for glob 'nvidia*'\n",
            "Note, selecting 'nvidia-firmware-535-535.104.05' for glob 'nvidia*'\n",
            "Note, selecting 'nvidia-firmware-535-535.104.12' for glob 'nvidia*'\n",
            "Note, selecting 'nvidia-dkms-535-server-open' for glob 'nvidia*'\n",
            "Note, selecting 'nvidia-384-dev' for glob 'nvidia*'\n",
            "Note, selecting 'nvidia-experimental-304' for glob 'nvidia*'\n",
            "Note, selecting 'nvidia-experimental-310' for glob 'nvidia*'\n",
            "Note, selecting 'nvidia-experimental-313' for glob 'nvidia*'\n",
            "Note, selecting 'nvidia-experimental-319' for glob 'nvidia*'\n",
            "Note, selecting 'nvidia-experimental-325' for glob 'nvidia*'\n",
            "Note, selecting 'nvidia-experimental-331' for glob 'nvidia*'\n",
            "Note, selecting 'nvidia-experimental-334' for glob 'nvidia*'\n",
            "Note, selecting 'nvidia-experimental-337' for glob 'nvidia*'\n",
            "Note, selecting 'nvidia-experimental-340' for glob 'nvidia*'\n",
            "Note, selecting 'nvidia-experimental-343' for glob 'nvidia*'\n",
            "Note, selecting 'nvidia-experimental-346' for glob 'nvidia*'\n",
            "Note, selecting 'nvidia-experimental-349' for glob 'nvidia*'\n",
            "Note, selecting 'nvidia-experimental-352' for glob 'nvidia*'\n",
            "Note, selecting 'nvidia-experimental-355' for glob 'nvidia*'\n",
            "Note, selecting 'nvidia-experimental-358' for glob 'nvidia*'\n",
            "Note, selecting 'nvidia-experimental-361' for glob 'nvidia*'\n",
            "Note, selecting 'nvidia-experimental-364' for glob 'nvidia*'\n",
            "Note, selecting 'nvidia-experimental-367' for glob 'nvidia*'\n",
            "Note, selecting 'nvidia-experimental-375' for glob 'nvidia*'\n",
            "Note, selecting 'nvidia-experimental-378' for glob 'nvidia*'\n",
            "Note, selecting 'nvidia-experimental-381' for glob 'nvidia*'\n",
            "Note, selecting 'nvidia-experimental-384' for glob 'nvidia*'\n",
            "Note, selecting 'nvidia-experimental-387' for glob 'nvidia*'\n",
            "Note, selecting 'nvidia-firmware-535-server-535.104.05' for glob 'nvidia*'\n",
            "Note, selecting 'nvidia-firmware-535-server-535.104.12' for glob 'nvidia*'\n",
            "Note, selecting 'nvidia-331-updates' for glob 'nvidia*'\n",
            "Note, selecting 'nvidia-firmware-535-535.86.05' for glob 'nvidia*'\n",
            "Note, selecting 'nvidia-driver-535-open' for glob 'nvidia*'\n",
            "Note, selecting 'nvidia-kernel-source-525-open' for glob 'nvidia*'\n",
            "Note, selecting 'nvidia-337-updates' for glob 'nvidia*'\n",
            "Note, selecting 'nvidia-gds' for glob 'nvidia*'\n",
            "Note, selecting 'nvidia-firmware-535-server-535.54.03' for glob 'nvidia*'\n",
            "Note, selecting 'nvidia-compute-utils-418-server' for glob 'nvidia*'\n",
            "Note, selecting 'nvidia-fs-prebuilt' for glob 'nvidia*'\n",
            "Note, selecting 'nvidia-compute-utils-525-server' for glob 'nvidia*'\n",
            "Note, selecting 'nvidia-utils-450-server' for glob 'nvidia*'\n",
            "Note, selecting 'nvidia-settings-binary' for glob 'nvidia*'\n",
            "Note, selecting 'nvidia-dkms-kernel' for glob 'nvidia*'\n",
            "Note, selecting 'nvidia-modprobe' for glob 'nvidia*'\n",
            "Note, selecting 'nvidia-utils-470-server' for glob 'nvidia*'\n",
            "Note, selecting 'nvidia-cg-dev' for glob 'nvidia*'\n",
            "Note, selecting 'nvidia-dkms-535-open' for glob 'nvidia*'\n",
            "Note, selecting 'nvidia-cg-doc' for glob 'nvidia*'\n",
            "Note, selecting 'nvidia-kernel-source' for glob 'nvidia*'\n",
            "Note, selecting 'nvidia-common' for glob 'nvidia*'\n",
            "Note, selecting 'nvidia-persistenced' for glob 'nvidia*'\n",
            "Note, selecting 'nvidia-headless-no-dkms-525-open' for glob 'nvidia*'\n",
            "Note, selecting 'nvidia-driver-binary' for glob 'nvidia*'\n",
            "Note, selecting 'nvidia-smi' for glob 'nvidia*'\n",
            "Note, selecting 'nvidia-driver-510-server' for glob 'nvidia*'\n",
            "Package 'nvidia-egl-wayland-common' is not installed, so not removed\n",
            "Note, selecting 'nvidia-settings' instead of 'nvidia-settings-binary'\n",
            "Package 'nvidia-390' is not installed, so not removed\n",
            "Note, selecting 'libnvtt-bin' instead of 'nvidia-texture-tools'\n",
            "Package 'nvidia-libopencl1-dev' is not installed, so not removed\n",
            "Package 'nvidia-current' is not installed, so not removed\n",
            "Package 'nvidia-current-updates' is not installed, so not removed\n",
            "Package 'nvidia-libopencl1' is not installed, so not removed\n",
            "Package 'nvidia' is not installed, so not removed\n",
            "Package 'nvidia-driver-410' is not installed, so not removed\n",
            "Package 'nvidia-387' is not installed, so not removed\n",
            "Package 'nvidia-387-updates' is not installed, so not removed\n",
            "Package 'nvidia-experimental-387' is not installed, so not removed\n",
            "Package 'nvidia-384-updates' is not installed, so not removed\n",
            "Package 'nvidia-experimental-384' is not installed, so not removed\n",
            "Package 'nvidia-381' is not installed, so not removed\n",
            "Package 'nvidia-381-updates' is not installed, so not removed\n",
            "Package 'nvidia-experimental-381' is not installed, so not removed\n",
            "Package 'nvidia-378' is not installed, so not removed\n",
            "Package 'nvidia-378-updates' is not installed, so not removed\n",
            "Package 'nvidia-experimental-378' is not installed, so not removed\n",
            "Package 'nvidia-375' is not installed, so not removed\n",
            "Package 'nvidia-375-updates' is not installed, so not removed\n",
            "Package 'nvidia-experimental-375' is not installed, so not removed\n",
            "Package 'nvidia-367' is not installed, so not removed\n",
            "Package 'nvidia-367-updates' is not installed, so not removed\n",
            "Package 'nvidia-experimental-367' is not installed, so not removed\n",
            "Package 'nvidia-364' is not installed, so not removed\n",
            "Package 'nvidia-364-updates' is not installed, so not removed\n",
            "Package 'nvidia-experimental-364' is not installed, so not removed\n",
            "Package 'nvidia-361' is not installed, so not removed\n",
            "Package 'nvidia-361-updates' is not installed, so not removed\n",
            "Package 'nvidia-experimental-361' is not installed, so not removed\n",
            "Package 'nvidia-358' is not installed, so not removed\n",
            "Package 'nvidia-358-updates' is not installed, so not removed\n",
            "Package 'nvidia-experimental-358' is not installed, so not removed\n",
            "Package 'nvidia-355' is not installed, so not removed\n",
            "Package 'nvidia-355-updates' is not installed, so not removed\n",
            "Package 'nvidia-experimental-355' is not installed, so not removed\n",
            "Package 'nvidia-352' is not installed, so not removed\n",
            "Package 'nvidia-352-updates' is not installed, so not removed\n",
            "Package 'nvidia-experimental-352' is not installed, so not removed\n",
            "Package 'nvidia-349' is not installed, so not removed\n",
            "Package 'nvidia-349-updates' is not installed, so not removed\n",
            "Package 'nvidia-experimental-349' is not installed, so not removed\n",
            "Package 'nvidia-346' is not installed, so not removed\n",
            "Package 'nvidia-346-updates' is not installed, so not removed\n",
            "Package 'nvidia-experimental-346' is not installed, so not removed\n",
            "Package 'nvidia-343' is not installed, so not removed\n",
            "Package 'nvidia-343-updates' is not installed, so not removed\n",
            "Package 'nvidia-experimental-343' is not installed, so not removed\n",
            "Package 'nvidia-340-updates' is not installed, so not removed\n",
            "Package 'nvidia-experimental-340' is not installed, so not removed\n",
            "Package 'nvidia-337' is not installed, so not removed\n",
            "Package 'nvidia-337-updates' is not installed, so not removed\n",
            "Package 'nvidia-experimental-337' is not installed, so not removed\n",
            "Package 'nvidia-334' is not installed, so not removed\n",
            "Package 'nvidia-334-updates' is not installed, so not removed\n",
            "Package 'nvidia-experimental-334' is not installed, so not removed\n",
            "Package 'nvidia-331' is not installed, so not removed\n",
            "Package 'nvidia-331-updates' is not installed, so not removed\n",
            "Package 'nvidia-experimental-331' is not installed, so not removed\n",
            "Package 'nvidia-325' is not installed, so not removed\n",
            "Package 'nvidia-325-updates' is not installed, so not removed\n",
            "Package 'nvidia-experimental-325' is not installed, so not removed\n",
            "Package 'nvidia-319' is not installed, so not removed\n",
            "Package 'nvidia-319-updates' is not installed, so not removed\n",
            "Package 'nvidia-experimental-319' is not installed, so not removed\n",
            "Package 'nvidia-313' is not installed, so not removed\n",
            "Package 'nvidia-313-updates' is not installed, so not removed\n",
            "Package 'nvidia-experimental-313' is not installed, so not removed\n",
            "Package 'nvidia-310' is not installed, so not removed\n",
            "Package 'nvidia-310-updates' is not installed, so not removed\n",
            "Package 'nvidia-experimental-310' is not installed, so not removed\n",
            "Package 'nvidia-304' is not installed, so not removed\n",
            "Package 'nvidia-304-updates' is not installed, so not removed\n",
            "Package 'nvidia-experimental-304' is not installed, so not removed\n",
            "Package 'nvidia-legacy-390xx-opencl-icd' is not installed, so not removed\n",
            "Package 'nvidia-legacy-390xx-smi' is not installed, so not removed\n",
            "Package 'nvidia-cuda-doc' is not installed, so not removed\n",
            "Package 'nvidia-firmware-535-server-535.113.01' is not installed, so not removed\n",
            "Package 'nvidia-firmware-535-535.104.12' is not installed, so not removed\n",
            "Package 'nvidia-fs-prebuilt' is not installed, so not removed\n",
            "Package 'nvidia-kernel-common-396' is not installed, so not removed\n",
            "Package 'nvidia-kernel-dkms' is not installed, so not removed\n",
            "Package 'nvidia-container-runtime-hook' is not installed, so not removed\n",
            "Package 'nvidia-docker' is not installed, so not removed\n",
            "Package 'nvidia-firmware-545-server-545.29.02' is not installed, so not removed\n",
            "Note, selecting 'libnvidia-egl-gbm1' for glob 'libnvidia-*'\n",
            "Note, selecting 'libnvidia-compute-440-server' for glob 'libnvidia-*'\n",
            "Note, selecting 'libnvidia-common-390' for glob 'libnvidia-*'\n",
            "Note, selecting 'libnvidia-common-418' for glob 'libnvidia-*'\n",
            "Note, selecting 'libnvidia-common-430' for glob 'libnvidia-*'\n",
            "Note, selecting 'libnvidia-common-435' for glob 'libnvidia-*'\n",
            "Note, selecting 'libnvidia-common-440' for glob 'libnvidia-*'\n",
            "Note, selecting 'libnvidia-common-450' for glob 'libnvidia-*'\n",
            "Note, selecting 'libnvidia-common-455' for glob 'libnvidia-*'\n",
            "Note, selecting 'libnvidia-common-460' for glob 'libnvidia-*'\n",
            "Note, selecting 'libnvidia-common-465' for glob 'libnvidia-*'\n",
            "Note, selecting 'libnvidia-common-470' for glob 'libnvidia-*'\n",
            "Note, selecting 'libnvidia-common-495' for glob 'libnvidia-*'\n",
            "Note, selecting 'libnvidia-gl-510-server' for glob 'libnvidia-*'\n",
            "Note, selecting 'libnvidia-common-510' for glob 'libnvidia-*'\n",
            "Note, selecting 'libnvidia-common-515' for glob 'libnvidia-*'\n",
            "Note, selecting 'libnvidia-common-520' for glob 'libnvidia-*'\n",
            "Note, selecting 'libnvidia-fbc1-390' for glob 'libnvidia-*'\n",
            "Note, selecting 'libnvidia-common-525' for glob 'libnvidia-*'\n",
            "Note, selecting 'libnvidia-common-530' for glob 'libnvidia-*'\n",
            "Note, selecting 'libnvidia-common-535' for glob 'libnvidia-*'\n",
            "Note, selecting 'libnvidia-common-545' for glob 'libnvidia-*'\n",
            "Note, selecting 'libnvidia-fbc1-418' for glob 'libnvidia-*'\n",
            "Note, selecting 'libnvidia-fbc1-430' for glob 'libnvidia-*'\n",
            "Note, selecting 'libnvidia-fbc1-435' for glob 'libnvidia-*'\n",
            "Note, selecting 'libnvidia-fbc1-440' for glob 'libnvidia-*'\n",
            "Note, selecting 'libnvidia-fbc1-450' for glob 'libnvidia-*'\n",
            "Note, selecting 'libnvidia-fbc1-455' for glob 'libnvidia-*'\n",
            "Note, selecting 'libnvidia-fbc1-460' for glob 'libnvidia-*'\n",
            "Note, selecting 'libnvidia-fbc1-465' for glob 'libnvidia-*'\n",
            "Note, selecting 'libnvidia-fbc1-470' for glob 'libnvidia-*'\n",
            "Note, selecting 'libnvidia-fbc1-495' for glob 'libnvidia-*'\n",
            "Note, selecting 'libnvidia-fbc1-510' for glob 'libnvidia-*'\n",
            "Note, selecting 'libnvidia-fbc1-515' for glob 'libnvidia-*'\n",
            "Note, selecting 'libnvidia-fbc1-520' for glob 'libnvidia-*'\n",
            "Note, selecting 'libnvidia-fbc1-525' for glob 'libnvidia-*'\n",
            "Note, selecting 'libnvidia-fbc1-530' for glob 'libnvidia-*'\n",
            "Note, selecting 'libnvidia-fbc1-535' for glob 'libnvidia-*'\n",
            "Note, selecting 'libnvidia-fbc1-545' for glob 'libnvidia-*'\n",
            "Note, selecting 'libnvidia-extra-525-server' for glob 'libnvidia-*'\n",
            "Note, selecting 'libnvidia-gl-390' for glob 'libnvidia-*'\n",
            "Note, selecting 'libnvidia-gl-410' for glob 'libnvidia-*'\n",
            "Note, selecting 'libnvidia-gl-418' for glob 'libnvidia-*'\n",
            "Note, selecting 'libnvidia-gl-430' for glob 'libnvidia-*'\n",
            "Note, selecting 'libnvidia-gl-435' for glob 'libnvidia-*'\n",
            "Note, selecting 'libnvidia-gl-440' for glob 'libnvidia-*'\n",
            "Note, selecting 'libnvidia-gl-450' for glob 'libnvidia-*'\n",
            "Note, selecting 'libnvidia-gl-455' for glob 'libnvidia-*'\n",
            "Note, selecting 'libnvidia-gl-460' for glob 'libnvidia-*'\n",
            "Note, selecting 'libnvidia-gl-465' for glob 'libnvidia-*'\n",
            "Note, selecting 'libnvidia-gl-470' for glob 'libnvidia-*'\n",
            "Note, selecting 'libnvidia-gl-495' for glob 'libnvidia-*'\n",
            "Note, selecting 'libnvidia-gl-510' for glob 'libnvidia-*'\n",
            "Note, selecting 'libnvidia-gl-515' for glob 'libnvidia-*'\n",
            "Note, selecting 'libnvidia-gl-520' for glob 'libnvidia-*'\n",
            "Note, selecting 'libnvidia-gl-525' for glob 'libnvidia-*'\n",
            "Note, selecting 'libnvidia-gl-530' for glob 'libnvidia-*'\n",
            "Note, selecting 'libnvidia-gl-535' for glob 'libnvidia-*'\n",
            "Note, selecting 'libnvidia-gl-545' for glob 'libnvidia-*'\n",
            "Note, selecting 'libnvidia-cfg1-any' for glob 'libnvidia-*'\n",
            "Note, selecting 'libnvidia-common-450-server' for glob 'libnvidia-*'\n",
            "Note, selecting 'libnvidia-tesla-cuda1' for glob 'libnvidia-*'\n",
            "Note, selecting 'libnvidia-common-470-server' for glob 'libnvidia-*'\n",
            "Note, selecting 'libnvidia-gl-440-server' for glob 'libnvidia-*'\n",
            "Note, selecting 'libnvidia-extra-440' for glob 'libnvidia-*'\n",
            "Note, selecting 'libnvidia-extra-450' for glob 'libnvidia-*'\n",
            "Note, selecting 'libnvidia-extra-455' for glob 'libnvidia-*'\n",
            "Note, selecting 'libnvidia-extra-460' for glob 'libnvidia-*'\n",
            "Note, selecting 'libnvidia-extra-465' for glob 'libnvidia-*'\n",
            "Note, selecting 'libnvidia-extra-470' for glob 'libnvidia-*'\n",
            "Note, selecting 'libnvidia-extra-495' for glob 'libnvidia-*'\n",
            "Note, selecting 'libnvidia-gl-460-server' for glob 'libnvidia-*'\n",
            "Note, selecting 'libnvidia-extra-510' for glob 'libnvidia-*'\n",
            "Note, selecting 'libnvidia-extra-515' for glob 'libnvidia-*'\n",
            "Note, selecting 'libnvidia-extra-520' for glob 'libnvidia-*'\n",
            "Note, selecting 'libnvidia-extra-525' for glob 'libnvidia-*'\n",
            "Note, selecting 'libnvidia-extra-530' for glob 'libnvidia-*'\n",
            "Note, selecting 'libnvidia-extra-535' for glob 'libnvidia-*'\n",
            "Note, selecting 'libnvidia-extra-545' for glob 'libnvidia-*'\n",
            "Note, selecting 'libnvidia-legacy-390xx-egl-wayland1' for glob 'libnvidia-*'\n",
            "Note, selecting 'libnvidia-common-510-server' for glob 'libnvidia-*'\n",
            "Note, selecting 'libnvidia-fbc1' for glob 'libnvidia-*'\n",
            "Note, selecting 'libnvidia-encode-515-server' for glob 'libnvidia-*'\n",
            "Note, selecting 'libnvidia-encode-535-server' for glob 'libnvidia-*'\n",
            "Note, selecting 'libnvidia-container1' for glob 'libnvidia-*'\n",
            "Note, selecting 'libnvidia-common-440-server' for glob 'libnvidia-*'\n",
            "Note, selecting 'libnvidia-container1-dbg' for glob 'libnvidia-*'\n",
            "Note, selecting 'libnvidia-common-460-server' for glob 'libnvidia-*'\n",
            "Note, selecting 'libnvidia-encode-390' for glob 'libnvidia-*'\n",
            "Note, selecting 'libnvidia-container-dev' for glob 'libnvidia-*'\n",
            "Note, selecting 'libnvidia-encode-418' for glob 'libnvidia-*'\n",
            "Note, selecting 'libnvidia-encode-430' for glob 'libnvidia-*'\n",
            "Note, selecting 'libnvidia-encode-435' for glob 'libnvidia-*'\n",
            "Note, selecting 'libnvidia-encode-440' for glob 'libnvidia-*'\n",
            "Note, selecting 'libnvidia-encode-450' for glob 'libnvidia-*'\n",
            "Note, selecting 'libnvidia-encode-455' for glob 'libnvidia-*'\n",
            "Note, selecting 'libnvidia-encode-460' for glob 'libnvidia-*'\n",
            "Note, selecting 'libnvidia-encode-465' for glob 'libnvidia-*'\n",
            "Note, selecting 'libnvidia-encode-470' for glob 'libnvidia-*'\n",
            "Note, selecting 'libnvidia-encode-495' for glob 'libnvidia-*'\n",
            "Note, selecting 'libnvidia-encode-510' for glob 'libnvidia-*'\n",
            "Note, selecting 'libnvidia-encode-515' for glob 'libnvidia-*'\n",
            "Note, selecting 'libnvidia-encode-520' for glob 'libnvidia-*'\n",
            "Note, selecting 'libnvidia-encode-525' for glob 'libnvidia-*'\n",
            "Note, selecting 'libnvidia-encode-530' for glob 'libnvidia-*'\n",
            "Note, selecting 'libnvidia-encode-535' for glob 'libnvidia-*'\n",
            "Note, selecting 'libnvidia-encode-545' for glob 'libnvidia-*'\n",
            "Note, selecting 'libnvidia-gl-450-server' for glob 'libnvidia-*'\n",
            "Note, selecting 'libnvidia-gl-470-server' for glob 'libnvidia-*'\n",
            "Note, selecting 'libnvidia-encode' for glob 'libnvidia-*'\n",
            "Note, selecting 'libnvidia-compute-525-server' for glob 'libnvidia-*'\n",
            "Note, selecting 'libnvidia-cfg1-510-server' for glob 'libnvidia-*'\n",
            "Note, selecting 'libnvidia-ifr1-390' for glob 'libnvidia-*'\n",
            "Note, selecting 'libnvidia-ifr1-418' for glob 'libnvidia-*'\n",
            "Note, selecting 'libnvidia-ifr1-430' for glob 'libnvidia-*'\n",
            "Note, selecting 'libnvidia-ifr1-435' for glob 'libnvidia-*'\n",
            "Note, selecting 'libnvidia-ifr1-440' for glob 'libnvidia-*'\n",
            "Note, selecting 'libnvidia-ifr1-450' for glob 'libnvidia-*'\n",
            "Note, selecting 'libnvidia-ifr1-455' for glob 'libnvidia-*'\n",
            "Note, selecting 'libnvidia-ifr1-460' for glob 'libnvidia-*'\n",
            "Note, selecting 'libnvidia-ifr1-465' for glob 'libnvidia-*'\n",
            "Note, selecting 'libnvidia-ifr1-470' for glob 'libnvidia-*'\n",
            "Note, selecting 'libnvidia-ifr1-418-server' for glob 'libnvidia-*'\n",
            "Note, selecting 'libnvidia-encode-418-server' for glob 'libnvidia-*'\n",
            "Note, selecting 'libnvidia-encode-525-server' for glob 'libnvidia-*'\n",
            "Note, selecting 'libnvidia-cfg1-440-server' for glob 'libnvidia-*'\n",
            "Note, selecting 'libnvidia-cfg1-460-server' for glob 'libnvidia-*'\n",
            "Note, selecting 'libnvidia-compute-495-server' for glob 'libnvidia-*'\n",
            "Note, selecting 'libnvidia-decode-450-server' for glob 'libnvidia-*'\n",
            "Note, selecting 'libnvidia-compute-515-server' for glob 'libnvidia-*'\n",
            "Note, selecting 'libnvidia-decode-470-server' for glob 'libnvidia-*'\n",
            "Note, selecting 'libnvidia-compute-535-server' for glob 'libnvidia-*'\n",
            "Note, selecting 'libnvidia-nscq-450' for glob 'libnvidia-*'\n",
            "Note, selecting 'libnvidia-nscq-460' for glob 'libnvidia-*'\n",
            "Note, selecting 'libnvidia-nscq-470' for glob 'libnvidia-*'\n",
            "Note, selecting 'libnvidia-nscq-510' for glob 'libnvidia-*'\n",
            "Note, selecting 'libnvidia-nscq-515' for glob 'libnvidia-*'\n",
            "Note, selecting 'libnvidia-nscq-520' for glob 'libnvidia-*'\n",
            "Note, selecting 'libnvidia-nscq-525' for glob 'libnvidia-*'\n",
            "Note, selecting 'libnvidia-nscq-530' for glob 'libnvidia-*'\n",
            "Note, selecting 'libnvidia-nscq-535' for glob 'libnvidia-*'\n",
            "Note, selecting 'libnvidia-nscq-545' for glob 'libnvidia-*'\n",
            "Note, selecting 'libnvidia-decode-510-server' for glob 'libnvidia-*'\n",
            "Note, selecting 'libnvidia-decode-390' for glob 'libnvidia-*'\n",
            "Note, selecting 'libnvidia-fbc1-450-server' for glob 'libnvidia-*'\n",
            "Note, selecting 'libnvidia-gl-515-server' for glob 'libnvidia-*'\n",
            "Note, selecting 'libnvidia-decode-418' for glob 'libnvidia-*'\n",
            "Note, selecting 'libnvidia-decode-430' for glob 'libnvidia-*'\n",
            "Note, selecting 'libnvidia-decode-435' for glob 'libnvidia-*'\n",
            "Note, selecting 'libnvidia-decode-440' for glob 'libnvidia-*'\n",
            "Note, selecting 'libnvidia-decode-450' for glob 'libnvidia-*'\n",
            "Note, selecting 'libnvidia-decode-455' for glob 'libnvidia-*'\n",
            "Note, selecting 'libnvidia-decode-460' for glob 'libnvidia-*'\n",
            "Note, selecting 'libnvidia-decode-465' for glob 'libnvidia-*'\n",
            "Note, selecting 'libnvidia-decode-470' for glob 'libnvidia-*'\n",
            "Note, selecting 'libnvidia-decode-495' for glob 'libnvidia-*'\n",
            "Note, selecting 'libnvidia-cfg1-450-server' for glob 'libnvidia-*'\n",
            "Note, selecting 'libnvidia-decode-510' for glob 'libnvidia-*'\n",
            "Note, selecting 'libnvidia-decode-515' for glob 'libnvidia-*'\n",
            "Note, selecting 'libnvidia-decode-520' for glob 'libnvidia-*'\n",
            "Note, selecting 'libnvidia-decode-525' for glob 'libnvidia-*'\n",
            "Note, selecting 'libnvidia-decode-530' for glob 'libnvidia-*'\n",
            "Note, selecting 'libnvidia-decode-535' for glob 'libnvidia-*'\n",
            "Note, selecting 'libnvidia-decode-545' for glob 'libnvidia-*'\n",
            "Note, selecting 'libnvidia-fbc1-470-server' for glob 'libnvidia-*'\n",
            "Note, selecting 'libnvidia-gl-535-server' for glob 'libnvidia-*'\n",
            "Note, selecting 'libnvidia-cfg1-470-server' for glob 'libnvidia-*'\n",
            "Note, selecting 'libnvidia-egl-wayland1' for glob 'libnvidia-*'\n",
            "Note, selecting 'libnvidia-ml1' for glob 'libnvidia-*'\n",
            "Note, selecting 'libnvidia-encode1' for glob 'libnvidia-*'\n",
            "Note, selecting 'libnvidia-decode-440-server' for glob 'libnvidia-*'\n",
            "Note, selecting 'libnvidia-compute-418-server' for glob 'libnvidia-*'\n",
            "Note, selecting 'libnvidia-decode-460-server' for glob 'libnvidia-*'\n",
            "Note, selecting 'libnvidia-fbc1-510-server' for glob 'libnvidia-*'\n",
            "Note, selecting 'libnvidia-extra' for glob 'libnvidia-*'\n",
            "Note, selecting 'libnvidia-common-515-server' for glob 'libnvidia-*'\n",
            "Note, selecting 'libnvidia-extra-450-server' for glob 'libnvidia-*'\n",
            "Note, selecting 'libnvidia-common-535-server' for glob 'libnvidia-*'\n",
            "Note, selecting 'libnvidia-fbc1-440-server' for glob 'libnvidia-*'\n",
            "Note, selecting 'libnvidia-extra-470-server' for glob 'libnvidia-*'\n",
            "Note, selecting 'libnvidia-gl-418-server' for glob 'libnvidia-*'\n",
            "Note, selecting 'libnvidia-fbc1-460-server' for glob 'libnvidia-*'\n",
            "Note, selecting 'libnvidia-gl-525-server' for glob 'libnvidia-*'\n",
            "Note, selecting 'libnvidia-extra-510-server' for glob 'libnvidia-*'\n",
            "Note, selecting 'libnvidia-common-418-server' for glob 'libnvidia-*'\n",
            "Note, selecting 'libnvidia-extra-440-server' for glob 'libnvidia-*'\n",
            "Note, selecting 'libnvidia-cfg1-515-server' for glob 'libnvidia-*'\n",
            "Note, selecting 'libnvidia-common-525-server' for glob 'libnvidia-*'\n",
            "Note, selecting 'libnvidia-ml-dev' for glob 'libnvidia-*'\n",
            "Note, selecting 'libnvidia-extra-460-server' for glob 'libnvidia-*'\n",
            "Note, selecting 'libnvidia-cfg1-535-server' for glob 'libnvidia-*'\n",
            "Note, selecting 'libnvidia-nscq' for glob 'libnvidia-*'\n",
            "Note, selecting 'libnvidia-container-tools' for glob 'libnvidia-*'\n",
            "Note, selecting 'libnvidia-ifr1' for glob 'libnvidia-*'\n",
            "Note, selecting 'libnvidia-cfg1-418-server' for glob 'libnvidia-*'\n",
            "Note, selecting 'libnvidia-cfg1-525-server' for glob 'libnvidia-*'\n",
            "Note, selecting 'libnvidia-ml.so.1' for glob 'libnvidia-*'\n",
            "Note, selecting 'libnvidia-compute-510-server' for glob 'libnvidia-*'\n",
            "Note, selecting 'libnvidia-encode-450-server' for glob 'libnvidia-*'\n",
            "Note, selecting 'libnvidia-encode-470-server' for glob 'libnvidia-*'\n",
            "Note, selecting 'libnvidia-decode-515-server' for glob 'libnvidia-*'\n",
            "Note, selecting 'libnvidia-decode-535-server' for glob 'libnvidia-*'\n",
            "Note, selecting 'libnvidia-encode-510-server' for glob 'libnvidia-*'\n",
            "Note, selecting 'libnvidia-gl' for glob 'libnvidia-*'\n",
            "Note, selecting 'libnvidia-cfg1-390' for glob 'libnvidia-*'\n",
            "Note, selecting 'libnvidia-egl-wayland-dev' for glob 'libnvidia-*'\n",
            "Note, selecting 'libnvidia-cfg1-418' for glob 'libnvidia-*'\n",
            "Note, selecting 'libnvidia-cfg1-430' for glob 'libnvidia-*'\n",
            "Note, selecting 'libnvidia-cfg1-435' for glob 'libnvidia-*'\n",
            "Note, selecting 'libnvidia-cfg1-440' for glob 'libnvidia-*'\n",
            "Note, selecting 'libnvidia-cfg1-450' for glob 'libnvidia-*'\n",
            "Note, selecting 'libnvidia-cfg1-455' for glob 'libnvidia-*'\n",
            "Note, selecting 'libnvidia-cfg1-460' for glob 'libnvidia-*'\n",
            "Note, selecting 'libnvidia-cfg1-465' for glob 'libnvidia-*'\n",
            "Note, selecting 'libnvidia-cfg1-470' for glob 'libnvidia-*'\n",
            "Note, selecting 'libnvidia-cfg1-495' for glob 'libnvidia-*'\n",
            "Note, selecting 'libnvidia-compute-460-server' for glob 'libnvidia-*'\n",
            "Note, selecting 'libnvidia-cfg1-510' for glob 'libnvidia-*'\n",
            "Note, selecting 'libnvidia-cfg1-515' for glob 'libnvidia-*'\n",
            "Note, selecting 'libnvidia-cfg1-520' for glob 'libnvidia-*'\n",
            "Note, selecting 'libnvidia-cfg1-525' for glob 'libnvidia-*'\n",
            "Note, selecting 'libnvidia-cfg1-530' for glob 'libnvidia-*'\n",
            "Note, selecting 'libnvidia-cfg1-535' for glob 'libnvidia-*'\n",
            "Note, selecting 'libnvidia-cfg1-545' for glob 'libnvidia-*'\n",
            "Note, selecting 'libnvidia-ifr1-440-server' for glob 'libnvidia-*'\n",
            "Note, selecting 'libnvidia-fbc1-515-server' for glob 'libnvidia-*'\n",
            "Note, selecting 'libnvidia-ifr1-460-server' for glob 'libnvidia-*'\n",
            "Note, selecting 'libnvidia-fbc1-535-server' for glob 'libnvidia-*'\n",
            "Note, selecting 'libnvidia-encode-440-server' for glob 'libnvidia-*'\n",
            "Note, selecting 'libnvidia-compute-390' for glob 'libnvidia-*'\n",
            "Note, selecting 'libnvidia-compute-418' for glob 'libnvidia-*'\n",
            "Note, selecting 'libnvidia-compute-430' for glob 'libnvidia-*'\n",
            "Note, selecting 'libnvidia-compute-435' for glob 'libnvidia-*'\n",
            "Note, selecting 'libnvidia-compute-440' for glob 'libnvidia-*'\n",
            "Note, selecting 'libnvidia-compute-450' for glob 'libnvidia-*'\n",
            "Note, selecting 'libnvidia-compute-455' for glob 'libnvidia-*'\n",
            "Note, selecting 'libnvidia-compute-460' for glob 'libnvidia-*'\n",
            "Note, selecting 'libnvidia-compute-465' for glob 'libnvidia-*'\n",
            "Note, selecting 'libnvidia-compute-470' for glob 'libnvidia-*'\n",
            "Note, selecting 'libnvidia-compute-495' for glob 'libnvidia-*'\n",
            "Note, selecting 'libnvidia-encode-460-server' for glob 'libnvidia-*'\n",
            "Note, selecting 'libnvidia-compute-510' for glob 'libnvidia-*'\n",
            "Note, selecting 'libnvidia-compute-515' for glob 'libnvidia-*'\n",
            "Note, selecting 'libnvidia-compute-520' for glob 'libnvidia-*'\n",
            "Note, selecting 'libnvidia-compute-525' for glob 'libnvidia-*'\n",
            "Note, selecting 'libnvidia-compute-530' for glob 'libnvidia-*'\n",
            "Note, selecting 'libnvidia-compute-535' for glob 'libnvidia-*'\n",
            "Note, selecting 'libnvidia-compute-545' for glob 'libnvidia-*'\n",
            "Note, selecting 'libnvidia-decode-418-server' for glob 'libnvidia-*'\n",
            "Note, selecting 'libnvidia-decode-525-server' for glob 'libnvidia-*'\n",
            "Note, selecting 'libnvidia-decode' for glob 'libnvidia-*'\n",
            "Note, selecting 'libnvidia-compute-450-server' for glob 'libnvidia-*'\n",
            "Note, selecting 'libnvidia-compute' for glob 'libnvidia-*'\n",
            "Note, selecting 'libnvidia-compute-470-server' for glob 'libnvidia-*'\n",
            "Note, selecting 'libnvidia-extra-515-server' for glob 'libnvidia-*'\n",
            "Note, selecting 'libnvidia-ifr1-450-server' for glob 'libnvidia-*'\n",
            "Note, selecting 'libnvidia-extra-535-server' for glob 'libnvidia-*'\n",
            "Note, selecting 'libnvidia-fbc1-418-server' for glob 'libnvidia-*'\n",
            "Note, selecting 'libnvidia-fbc1-525-server' for glob 'libnvidia-*'\n",
            "Note, selecting 'libnvidia-ifr1-470-server' for glob 'libnvidia-*'\n",
            "Note, selecting 'libnvidia-common' for glob 'libnvidia-*'\n",
            "Package 'libnvidia-gl-410' is not installed, so not removed\n",
            "Package 'libnvidia-legacy-390xx-egl-wayland1' is not installed, so not removed\n",
            "Package 'libnvidia-encode1' is not installed, so not removed\n",
            "Package 'libnvidia-tesla-cuda1' is not installed, so not removed\n",
            "Package 'libnvidia-compute-495-server' is not installed, so not removed\n",
            "Package 'libnvidia-egl-wayland-dev' is not installed, so not removed\n",
            "Package 'libnvidia-egl-wayland1' is not installed, so not removed\n",
            "Package 'nvidia-prime' is not installed, so not removed\n",
            "Package 'libnvidia-cfg1-418' is not installed, so not removed\n",
            "Package 'libnvidia-cfg1-435' is not installed, so not removed\n",
            "Package 'libnvidia-cfg1-440' is not installed, so not removed\n",
            "Package 'libnvidia-cfg1-450' is not installed, so not removed\n",
            "Package 'libnvidia-cfg1-455' is not installed, so not removed\n",
            "Package 'libnvidia-common-418' is not installed, so not removed\n",
            "Package 'libnvidia-common-435' is not installed, so not removed\n",
            "Package 'libnvidia-common-440' is not installed, so not removed\n",
            "Package 'libnvidia-common-450' is not installed, so not removed\n",
            "Package 'libnvidia-common-455' is not installed, so not removed\n",
            "Package 'libnvidia-compute-418' is not installed, so not removed\n",
            "Package 'libnvidia-compute-435' is not installed, so not removed\n",
            "Package 'libnvidia-compute-440' is not installed, so not removed\n",
            "Package 'libnvidia-compute-450' is not installed, so not removed\n",
            "Package 'libnvidia-compute-455' is not installed, so not removed\n",
            "Package 'libnvidia-decode-418' is not installed, so not removed\n",
            "Package 'libnvidia-decode-435' is not installed, so not removed\n",
            "Package 'libnvidia-decode-440' is not installed, so not removed\n",
            "Package 'libnvidia-decode-450' is not installed, so not removed\n",
            "Package 'libnvidia-decode-455' is not installed, so not removed\n",
            "Package 'libnvidia-encode-418' is not installed, so not removed\n",
            "Package 'libnvidia-encode-435' is not installed, so not removed\n",
            "Package 'libnvidia-encode-440' is not installed, so not removed\n",
            "Package 'libnvidia-encode-450' is not installed, so not removed\n",
            "Package 'libnvidia-encode-455' is not installed, so not removed\n",
            "Package 'libnvidia-extra-440' is not installed, so not removed\n",
            "Package 'libnvidia-extra-450' is not installed, so not removed\n",
            "Package 'libnvidia-extra-455' is not installed, so not removed\n",
            "Package 'libnvidia-fbc1-418' is not installed, so not removed\n",
            "Package 'libnvidia-fbc1-435' is not installed, so not removed\n",
            "Package 'libnvidia-fbc1-440' is not installed, so not removed\n",
            "Package 'libnvidia-fbc1-450' is not installed, so not removed\n",
            "Package 'libnvidia-fbc1-455' is not installed, so not removed\n",
            "Package 'libnvidia-gl-418' is not installed, so not removed\n",
            "Package 'libnvidia-gl-435' is not installed, so not removed\n",
            "Package 'libnvidia-gl-440' is not installed, so not removed\n",
            "Package 'libnvidia-gl-450' is not installed, so not removed\n",
            "Package 'libnvidia-gl-455' is not installed, so not removed\n",
            "Package 'libnvidia-ifr1-418' is not installed, so not removed\n",
            "Package 'libnvidia-ifr1-430' is not installed, so not removed\n",
            "Package 'libnvidia-ifr1-435' is not installed, so not removed\n",
            "Package 'libnvidia-ifr1-440' is not installed, so not removed\n",
            "Package 'libnvidia-ifr1-450' is not installed, so not removed\n",
            "Package 'libnvidia-ifr1-455' is not installed, so not removed\n",
            "Package 'nvidia-340' is not installed, so not removed\n",
            "Package 'nvidia-340-dev' is not installed, so not removed\n",
            "Package 'nvidia-340-uvm' is not installed, so not removed\n",
            "Package 'nvidia-compute-utils-418' is not installed, so not removed\n",
            "Package 'nvidia-compute-utils-435' is not installed, so not removed\n",
            "Package 'nvidia-compute-utils-440' is not installed, so not removed\n",
            "Package 'nvidia-compute-utils-450' is not installed, so not removed\n",
            "Package 'nvidia-compute-utils-455' is not installed, so not removed\n",
            "Package 'nvidia-dkms-418' is not installed, so not removed\n",
            "Package 'nvidia-dkms-435' is not installed, so not removed\n",
            "Package 'nvidia-dkms-440' is not installed, so not removed\n",
            "Package 'nvidia-dkms-450' is not installed, so not removed\n",
            "Package 'nvidia-dkms-455' is not installed, so not removed\n",
            "Package 'nvidia-driver-418' is not installed, so not removed\n",
            "Package 'nvidia-driver-435' is not installed, so not removed\n",
            "Package 'nvidia-driver-440' is not installed, so not removed\n",
            "Package 'nvidia-driver-450' is not installed, so not removed\n",
            "Package 'nvidia-driver-455' is not installed, so not removed\n",
            "Package 'nvidia-headless-418' is not installed, so not removed\n",
            "Package 'nvidia-headless-435' is not installed, so not removed\n",
            "Package 'nvidia-headless-440' is not installed, so not removed\n",
            "Package 'nvidia-headless-450' is not installed, so not removed\n",
            "Package 'nvidia-headless-455' is not installed, so not removed\n",
            "Package 'nvidia-headless-no-dkms-418' is not installed, so not removed\n",
            "Package 'nvidia-headless-no-dkms-435' is not installed, so not removed\n",
            "Package 'nvidia-headless-no-dkms-440' is not installed, so not removed\n",
            "Package 'nvidia-headless-no-dkms-450' is not installed, so not removed\n",
            "Package 'nvidia-headless-no-dkms-455' is not installed, so not removed\n",
            "Package 'nvidia-kernel-common-418' is not installed, so not removed\n",
            "Package 'nvidia-kernel-common-435' is not installed, so not removed\n",
            "Package 'nvidia-kernel-common-440' is not installed, so not removed\n",
            "Package 'nvidia-kernel-common-450' is not installed, so not removed\n",
            "Package 'nvidia-kernel-common-455' is not installed, so not removed\n",
            "Package 'nvidia-kernel-source-418' is not installed, so not removed\n",
            "Package 'nvidia-kernel-source-435' is not installed, so not removed\n",
            "Package 'nvidia-kernel-source-440' is not installed, so not removed\n",
            "Package 'nvidia-kernel-source-450' is not installed, so not removed\n",
            "Package 'nvidia-kernel-source-455' is not installed, so not removed\n",
            "Package 'nvidia-utils-418' is not installed, so not removed\n",
            "Package 'nvidia-utils-435' is not installed, so not removed\n",
            "Package 'nvidia-utils-440' is not installed, so not removed\n",
            "Package 'nvidia-utils-450' is not installed, so not removed\n",
            "Package 'nvidia-utils-455' is not installed, so not removed\n",
            "Package 'libnvidia-egl-gbm1' is not installed, so not removed\n",
            "Package 'libnvidia-ml-dev' is not installed, so not removed\n",
            "Package 'nvidia-cg-dev' is not installed, so not removed\n",
            "Package 'nvidia-cg-doc' is not installed, so not removed\n",
            "Package 'nvidia-cg-toolkit' is not installed, so not removed\n",
            "Package 'nvidia-cuda-dev' is not installed, so not removed\n",
            "Package 'nvidia-cuda-gdb' is not installed, so not removed\n",
            "Package 'nvidia-cuda-toolkit' is not installed, so not removed\n",
            "Package 'nvidia-cuda-toolkit-doc' is not installed, so not removed\n",
            "Package 'nvidia-cuda-toolkit-gcc' is not installed, so not removed\n",
            "Package 'nvidia-cudnn' is not installed, so not removed\n",
            "Package 'nvidia-libopencl1-340' is not installed, so not removed\n",
            "Package 'nvidia-opencl-icd-340' is not installed, so not removed\n",
            "Package 'nvidia-primus-vk-common' is not installed, so not removed\n",
            "Package 'nvidia-primus-vk-wrapper' is not installed, so not removed\n",
            "Package 'nvidia-profiler' is not installed, so not removed\n",
            "Package 'nvidia-visual-profiler' is not installed, so not removed\n",
            "Package 'libnvidia-cfg1-390' is not installed, so not removed\n",
            "Package 'libnvidia-cfg1-418-server' is not installed, so not removed\n",
            "Package 'libnvidia-cfg1-440-server' is not installed, so not removed\n",
            "Package 'libnvidia-cfg1-450-server' is not installed, so not removed\n",
            "Package 'libnvidia-cfg1-460' is not installed, so not removed\n",
            "Package 'libnvidia-cfg1-460-server' is not installed, so not removed\n",
            "Package 'libnvidia-cfg1-465' is not installed, so not removed\n",
            "Package 'libnvidia-cfg1-470' is not installed, so not removed\n",
            "Package 'libnvidia-cfg1-470-server' is not installed, so not removed\n",
            "Package 'libnvidia-cfg1-495' is not installed, so not removed\n",
            "Package 'libnvidia-cfg1-510' is not installed, so not removed\n",
            "Package 'libnvidia-cfg1-510-server' is not installed, so not removed\n",
            "Package 'libnvidia-cfg1-515' is not installed, so not removed\n",
            "Package 'libnvidia-cfg1-515-server' is not installed, so not removed\n",
            "Package 'libnvidia-cfg1-520' is not installed, so not removed\n",
            "Package 'libnvidia-cfg1-525-server' is not installed, so not removed\n",
            "Package 'libnvidia-cfg1-530' is not installed, so not removed\n",
            "Package 'libnvidia-cfg1-535-server' is not installed, so not removed\n",
            "Package 'libnvidia-common-390' is not installed, so not removed\n",
            "Package 'libnvidia-common-418-server' is not installed, so not removed\n",
            "Package 'libnvidia-common-440-server' is not installed, so not removed\n",
            "Package 'libnvidia-common-450-server' is not installed, so not removed\n",
            "Package 'libnvidia-common-460' is not installed, so not removed\n",
            "Package 'libnvidia-common-460-server' is not installed, so not removed\n",
            "Package 'libnvidia-common-465' is not installed, so not removed\n",
            "Package 'libnvidia-common-470' is not installed, so not removed\n",
            "Package 'libnvidia-common-470-server' is not installed, so not removed\n",
            "Package 'libnvidia-common-495' is not installed, so not removed\n",
            "Package 'libnvidia-common-510' is not installed, so not removed\n",
            "Package 'libnvidia-common-510-server' is not installed, so not removed\n",
            "Package 'libnvidia-common-515' is not installed, so not removed\n",
            "Package 'libnvidia-common-515-server' is not installed, so not removed\n",
            "Package 'libnvidia-common-520' is not installed, so not removed\n",
            "Package 'libnvidia-common-525-server' is not installed, so not removed\n",
            "Package 'libnvidia-common-530' is not installed, so not removed\n",
            "Package 'libnvidia-common-535-server' is not installed, so not removed\n",
            "Package 'libnvidia-compute-390' is not installed, so not removed\n",
            "Package 'libnvidia-compute-418-server' is not installed, so not removed\n",
            "Package 'libnvidia-compute-440-server' is not installed, so not removed\n",
            "Package 'libnvidia-compute-450-server' is not installed, so not removed\n",
            "Package 'libnvidia-compute-460' is not installed, so not removed\n",
            "Package 'libnvidia-compute-460-server' is not installed, so not removed\n",
            "Package 'libnvidia-compute-465' is not installed, so not removed\n",
            "Package 'libnvidia-compute-470' is not installed, so not removed\n",
            "Package 'libnvidia-compute-470-server' is not installed, so not removed\n",
            "Package 'libnvidia-compute-495' is not installed, so not removed\n",
            "Package 'libnvidia-compute-510' is not installed, so not removed\n",
            "Package 'libnvidia-compute-510-server' is not installed, so not removed\n",
            "Package 'libnvidia-compute-515' is not installed, so not removed\n",
            "Package 'libnvidia-compute-515-server' is not installed, so not removed\n",
            "Package 'libnvidia-compute-520' is not installed, so not removed\n",
            "Package 'libnvidia-compute-525-server' is not installed, so not removed\n",
            "Package 'libnvidia-compute-530' is not installed, so not removed\n",
            "Package 'libnvidia-compute-535-server' is not installed, so not removed\n",
            "Package 'libnvidia-decode-390' is not installed, so not removed\n",
            "Package 'libnvidia-decode-418-server' is not installed, so not removed\n",
            "Package 'libnvidia-decode-440-server' is not installed, so not removed\n",
            "Package 'libnvidia-decode-450-server' is not installed, so not removed\n",
            "Package 'libnvidia-decode-460' is not installed, so not removed\n",
            "Package 'libnvidia-decode-460-server' is not installed, so not removed\n",
            "Package 'libnvidia-decode-465' is not installed, so not removed\n",
            "Package 'libnvidia-decode-470' is not installed, so not removed\n",
            "Package 'libnvidia-decode-470-server' is not installed, so not removed\n",
            "Package 'libnvidia-decode-495' is not installed, so not removed\n",
            "Package 'libnvidia-decode-510' is not installed, so not removed\n",
            "Package 'libnvidia-decode-510-server' is not installed, so not removed\n",
            "Package 'libnvidia-decode-515' is not installed, so not removed\n",
            "Package 'libnvidia-decode-515-server' is not installed, so not removed\n",
            "Package 'libnvidia-decode-520' is not installed, so not removed\n",
            "Package 'libnvidia-decode-525-server' is not installed, so not removed\n",
            "Package 'libnvidia-decode-530' is not installed, so not removed\n",
            "Package 'libnvidia-decode-535-server' is not installed, so not removed\n",
            "Package 'libnvidia-encode-390' is not installed, so not removed\n",
            "Package 'libnvidia-encode-418-server' is not installed, so not removed\n",
            "Package 'libnvidia-encode-440-server' is not installed, so not removed\n",
            "Package 'libnvidia-encode-450-server' is not installed, so not removed\n",
            "Package 'libnvidia-encode-460' is not installed, so not removed\n",
            "Package 'libnvidia-encode-460-server' is not installed, so not removed\n",
            "Package 'libnvidia-encode-465' is not installed, so not removed\n",
            "Package 'libnvidia-encode-470' is not installed, so not removed\n",
            "Package 'libnvidia-encode-470-server' is not installed, so not removed\n",
            "Package 'libnvidia-encode-495' is not installed, so not removed\n",
            "Package 'libnvidia-encode-510' is not installed, so not removed\n",
            "Package 'libnvidia-encode-510-server' is not installed, so not removed\n",
            "Package 'libnvidia-encode-515' is not installed, so not removed\n",
            "Package 'libnvidia-encode-515-server' is not installed, so not removed\n",
            "Package 'libnvidia-encode-520' is not installed, so not removed\n",
            "Package 'libnvidia-encode-525-server' is not installed, so not removed\n",
            "Package 'libnvidia-encode-530' is not installed, so not removed\n",
            "Package 'libnvidia-encode-535-server' is not installed, so not removed\n",
            "Package 'libnvidia-extra-440-server' is not installed, so not removed\n",
            "Package 'libnvidia-extra-450-server' is not installed, so not removed\n",
            "Package 'libnvidia-extra-460' is not installed, so not removed\n",
            "Package 'libnvidia-extra-460-server' is not installed, so not removed\n",
            "Package 'libnvidia-extra-465' is not installed, so not removed\n",
            "Package 'libnvidia-extra-470' is not installed, so not removed\n",
            "Package 'libnvidia-extra-470-server' is not installed, so not removed\n",
            "Package 'libnvidia-extra-495' is not installed, so not removed\n",
            "Package 'libnvidia-extra-510' is not installed, so not removed\n",
            "Package 'libnvidia-extra-510-server' is not installed, so not removed\n",
            "Package 'libnvidia-extra-515' is not installed, so not removed\n",
            "Package 'libnvidia-extra-515-server' is not installed, so not removed\n",
            "Package 'libnvidia-extra-520' is not installed, so not removed\n",
            "Package 'libnvidia-extra-525-server' is not installed, so not removed\n",
            "Package 'libnvidia-extra-530' is not installed, so not removed\n",
            "Package 'libnvidia-extra-535-server' is not installed, so not removed\n",
            "Package 'libnvidia-fbc1-390' is not installed, so not removed\n",
            "Package 'libnvidia-fbc1-418-server' is not installed, so not removed\n",
            "Package 'libnvidia-fbc1-440-server' is not installed, so not removed\n",
            "Package 'libnvidia-fbc1-450-server' is not installed, so not removed\n",
            "Package 'libnvidia-fbc1-460' is not installed, so not removed\n",
            "Package 'libnvidia-fbc1-460-server' is not installed, so not removed\n",
            "Package 'libnvidia-fbc1-465' is not installed, so not removed\n",
            "Package 'libnvidia-fbc1-470' is not installed, so not removed\n",
            "Package 'libnvidia-fbc1-470-server' is not installed, so not removed\n",
            "Package 'libnvidia-fbc1-495' is not installed, so not removed\n",
            "Package 'libnvidia-fbc1-510' is not installed, so not removed\n",
            "Package 'libnvidia-fbc1-510-server' is not installed, so not removed\n",
            "Package 'libnvidia-fbc1-515' is not installed, so not removed\n",
            "Package 'libnvidia-fbc1-515-server' is not installed, so not removed\n",
            "Package 'libnvidia-fbc1-520' is not installed, so not removed\n",
            "Package 'libnvidia-fbc1-525-server' is not installed, so not removed\n",
            "Package 'libnvidia-fbc1-530' is not installed, so not removed\n",
            "Package 'libnvidia-fbc1-535-server' is not installed, so not removed\n",
            "Package 'libnvidia-gl-390' is not installed, so not removed\n",
            "Package 'libnvidia-gl-418-server' is not installed, so not removed\n",
            "Package 'libnvidia-gl-440-server' is not installed, so not removed\n",
            "Package 'libnvidia-gl-450-server' is not installed, so not removed\n",
            "Package 'libnvidia-gl-460' is not installed, so not removed\n",
            "Package 'libnvidia-gl-460-server' is not installed, so not removed\n",
            "Package 'libnvidia-gl-465' is not installed, so not removed\n",
            "Package 'libnvidia-gl-470' is not installed, so not removed\n",
            "Package 'libnvidia-gl-470-server' is not installed, so not removed\n",
            "Package 'libnvidia-gl-495' is not installed, so not removed\n",
            "Package 'libnvidia-gl-510' is not installed, so not removed\n",
            "Package 'libnvidia-gl-510-server' is not installed, so not removed\n",
            "Package 'libnvidia-gl-515' is not installed, so not removed\n",
            "Package 'libnvidia-gl-515-server' is not installed, so not removed\n",
            "Package 'libnvidia-gl-520' is not installed, so not removed\n",
            "Package 'libnvidia-gl-525-server' is not installed, so not removed\n",
            "Package 'libnvidia-gl-530' is not installed, so not removed\n",
            "Package 'libnvidia-gl-535-server' is not installed, so not removed\n",
            "Package 'libnvidia-ifr1-390' is not installed, so not removed\n",
            "Package 'libnvidia-ifr1-418-server' is not installed, so not removed\n",
            "Package 'libnvidia-ifr1-440-server' is not installed, so not removed\n",
            "Package 'libnvidia-ifr1-450-server' is not installed, so not removed\n",
            "Package 'libnvidia-ifr1-460' is not installed, so not removed\n",
            "Package 'libnvidia-ifr1-460-server' is not installed, so not removed\n",
            "Package 'libnvidia-ifr1-465' is not installed, so not removed\n",
            "Package 'libnvidia-ifr1-470' is not installed, so not removed\n",
            "Package 'libnvidia-ifr1-470-server' is not installed, so not removed\n",
            "Package 'libnvidia-nscq-515' is not installed, so not removed\n",
            "Package 'nvidia-384' is not installed, so not removed\n",
            "Package 'nvidia-384-dev' is not installed, so not removed\n",
            "Package 'nvidia-compute-utils-390' is not installed, so not removed\n",
            "Package 'nvidia-compute-utils-418-server' is not installed, so not removed\n",
            "Package 'nvidia-compute-utils-440-server' is not installed, so not removed\n",
            "Package 'nvidia-compute-utils-450-server' is not installed, so not removed\n",
            "Package 'nvidia-compute-utils-460' is not installed, so not removed\n",
            "Package 'nvidia-compute-utils-460-server' is not installed, so not removed\n",
            "Package 'nvidia-compute-utils-465' is not installed, so not removed\n",
            "Package 'nvidia-compute-utils-470' is not installed, so not removed\n",
            "Package 'nvidia-compute-utils-470-server' is not installed, so not removed\n",
            "Package 'nvidia-compute-utils-495' is not installed, so not removed\n",
            "Package 'nvidia-compute-utils-510' is not installed, so not removed\n",
            "Package 'nvidia-compute-utils-510-server' is not installed, so not removed\n",
            "Package 'nvidia-compute-utils-515' is not installed, so not removed\n",
            "Package 'nvidia-compute-utils-515-server' is not installed, so not removed\n",
            "Package 'nvidia-compute-utils-520' is not installed, so not removed\n",
            "Package 'nvidia-compute-utils-525-server' is not installed, so not removed\n",
            "Package 'nvidia-compute-utils-530' is not installed, so not removed\n",
            "Package 'nvidia-compute-utils-535-server' is not installed, so not removed\n",
            "Package 'nvidia-dkms-390' is not installed, so not removed\n",
            "Package 'nvidia-dkms-418-server' is not installed, so not removed\n",
            "Package 'nvidia-dkms-440-server' is not installed, so not removed\n",
            "Package 'nvidia-dkms-450-server' is not installed, so not removed\n",
            "Package 'nvidia-dkms-460' is not installed, so not removed\n",
            "Package 'nvidia-dkms-460-server' is not installed, so not removed\n",
            "Package 'nvidia-dkms-465' is not installed, so not removed\n",
            "Package 'nvidia-dkms-470' is not installed, so not removed\n",
            "Package 'nvidia-dkms-470-server' is not installed, so not removed\n",
            "Package 'nvidia-dkms-495' is not installed, so not removed\n",
            "Package 'nvidia-dkms-510' is not installed, so not removed\n",
            "Package 'nvidia-dkms-510-server' is not installed, so not removed\n",
            "Package 'nvidia-dkms-515' is not installed, so not removed\n",
            "Package 'nvidia-dkms-515-open' is not installed, so not removed\n",
            "Package 'nvidia-dkms-515-server' is not installed, so not removed\n",
            "Package 'nvidia-dkms-520' is not installed, so not removed\n",
            "Package 'nvidia-dkms-520-open' is not installed, so not removed\n",
            "Package 'nvidia-dkms-525-open' is not installed, so not removed\n",
            "Package 'nvidia-dkms-525-server' is not installed, so not removed\n",
            "Package 'nvidia-dkms-530' is not installed, so not removed\n",
            "Package 'nvidia-dkms-530-open' is not installed, so not removed\n",
            "Package 'nvidia-dkms-535-open' is not installed, so not removed\n",
            "Package 'nvidia-dkms-535-server' is not installed, so not removed\n",
            "Package 'nvidia-dkms-535-server-open' is not installed, so not removed\n",
            "Package 'nvidia-driver-390' is not installed, so not removed\n",
            "Package 'nvidia-driver-418-server' is not installed, so not removed\n",
            "Package 'nvidia-driver-440-server' is not installed, so not removed\n",
            "Package 'nvidia-driver-450-server' is not installed, so not removed\n",
            "Package 'nvidia-driver-460' is not installed, so not removed\n",
            "Package 'nvidia-driver-460-server' is not installed, so not removed\n",
            "Package 'nvidia-driver-465' is not installed, so not removed\n",
            "Package 'nvidia-driver-470' is not installed, so not removed\n",
            "Package 'nvidia-driver-470-server' is not installed, so not removed\n",
            "Package 'nvidia-driver-495' is not installed, so not removed\n",
            "Package 'nvidia-driver-510' is not installed, so not removed\n",
            "Package 'nvidia-driver-510-server' is not installed, so not removed\n",
            "Package 'nvidia-driver-515' is not installed, so not removed\n",
            "Package 'nvidia-driver-515-open' is not installed, so not removed\n",
            "Package 'nvidia-driver-515-server' is not installed, so not removed\n",
            "Package 'nvidia-driver-520' is not installed, so not removed\n",
            "Package 'nvidia-driver-520-open' is not installed, so not removed\n",
            "Package 'nvidia-driver-525-open' is not installed, so not removed\n",
            "Package 'nvidia-driver-525-server' is not installed, so not removed\n",
            "Package 'nvidia-driver-530' is not installed, so not removed\n",
            "Package 'nvidia-driver-530-open' is not installed, so not removed\n",
            "Package 'nvidia-driver-535-open' is not installed, so not removed\n",
            "Package 'nvidia-driver-535-server' is not installed, so not removed\n",
            "Package 'nvidia-driver-535-server-open' is not installed, so not removed\n",
            "Package 'nvidia-fabricmanager-515' is not installed, so not removed\n",
            "Package 'nvidia-fabricmanager-dev-515' is not installed, so not removed\n",
            "Package 'nvidia-firmware-535-535.104.05' is not installed, so not removed\n",
            "Package 'nvidia-firmware-535-535.113.01' is not installed, so not removed\n",
            "Package 'nvidia-firmware-535-535.129.03' is not installed, so not removed\n",
            "Package 'nvidia-firmware-535-535.54.03' is not installed, so not removed\n",
            "Package 'nvidia-firmware-535-535.86.05' is not installed, so not removed\n",
            "Package 'nvidia-firmware-535-server-535.104.05' is not installed, so not removed\n",
            "Package 'nvidia-firmware-535-server-535.104.12' is not installed, so not removed\n",
            "Package 'nvidia-firmware-535-server-535.129.03' is not installed, so not removed\n",
            "Package 'nvidia-firmware-535-server-535.54.03' is not installed, so not removed\n",
            "Package 'nvidia-headless-390' is not installed, so not removed\n",
            "Package 'nvidia-headless-418-server' is not installed, so not removed\n",
            "Package 'nvidia-headless-440-server' is not installed, so not removed\n",
            "Package 'nvidia-headless-450-server' is not installed, so not removed\n",
            "Package 'nvidia-headless-460' is not installed, so not removed\n",
            "Package 'nvidia-headless-460-server' is not installed, so not removed\n",
            "Package 'nvidia-headless-465' is not installed, so not removed\n",
            "Package 'nvidia-headless-470' is not installed, so not removed\n",
            "Package 'nvidia-headless-470-server' is not installed, so not removed\n",
            "Package 'nvidia-headless-495' is not installed, so not removed\n",
            "Package 'nvidia-headless-510' is not installed, so not removed\n",
            "Package 'nvidia-headless-510-server' is not installed, so not removed\n",
            "Package 'nvidia-headless-515' is not installed, so not removed\n",
            "Package 'nvidia-headless-515-open' is not installed, so not removed\n",
            "Package 'nvidia-headless-515-server' is not installed, so not removed\n",
            "Package 'nvidia-headless-520' is not installed, so not removed\n",
            "Package 'nvidia-headless-520-open' is not installed, so not removed\n",
            "Package 'nvidia-headless-525-open' is not installed, so not removed\n",
            "Package 'nvidia-headless-525-server' is not installed, so not removed\n",
            "Package 'nvidia-headless-530' is not installed, so not removed\n",
            "Package 'nvidia-headless-530-open' is not installed, so not removed\n",
            "Package 'nvidia-headless-535-open' is not installed, so not removed\n",
            "Package 'nvidia-headless-535-server' is not installed, so not removed\n",
            "Package 'nvidia-headless-535-server-open' is not installed, so not removed\n",
            "Package 'nvidia-headless-no-dkms-390' is not installed, so not removed\n",
            "Package 'nvidia-headless-no-dkms-418-server' is not installed, so not removed\n",
            "Package 'nvidia-headless-no-dkms-440-server' is not installed, so not removed\n",
            "Package 'nvidia-headless-no-dkms-450-server' is not installed, so not removed\n",
            "Package 'nvidia-headless-no-dkms-460' is not installed, so not removed\n",
            "Package 'nvidia-headless-no-dkms-460-server' is not installed, so not removed\n",
            "Package 'nvidia-headless-no-dkms-465' is not installed, so not removed\n",
            "Package 'nvidia-headless-no-dkms-470' is not installed, so not removed\n",
            "Package 'nvidia-headless-no-dkms-470-server' is not installed, so not removed\n",
            "Package 'nvidia-headless-no-dkms-495' is not installed, so not removed\n",
            "Package 'nvidia-headless-no-dkms-510' is not installed, so not removed\n",
            "Package 'nvidia-headless-no-dkms-510-server' is not installed, so not removed\n",
            "Package 'nvidia-headless-no-dkms-515' is not installed, so not removed\n",
            "Package 'nvidia-headless-no-dkms-515-open' is not installed, so not removed\n",
            "Package 'nvidia-headless-no-dkms-515-server' is not installed, so not removed\n",
            "Package 'nvidia-headless-no-dkms-520' is not installed, so not removed\n",
            "Package 'nvidia-headless-no-dkms-520-open' is not installed, so not removed\n",
            "Package 'nvidia-headless-no-dkms-525-open' is not installed, so not removed\n",
            "Package 'nvidia-headless-no-dkms-525-server' is not installed, so not removed\n",
            "Package 'nvidia-headless-no-dkms-530' is not installed, so not removed\n",
            "Package 'nvidia-headless-no-dkms-530-open' is not installed, so not removed\n",
            "Package 'nvidia-headless-no-dkms-535-open' is not installed, so not removed\n",
            "Package 'nvidia-headless-no-dkms-535-server' is not installed, so not removed\n",
            "Package 'nvidia-headless-no-dkms-535-server-open' is not installed, so not removed\n",
            "Package 'nvidia-kernel-common-390' is not installed, so not removed\n",
            "Package 'nvidia-kernel-common-418-server' is not installed, so not removed\n",
            "Package 'nvidia-kernel-common-440-server' is not installed, so not removed\n",
            "Package 'nvidia-kernel-common-450-server' is not installed, so not removed\n",
            "Package 'nvidia-kernel-common-460' is not installed, so not removed\n",
            "Package 'nvidia-kernel-common-460-server' is not installed, so not removed\n",
            "Package 'nvidia-kernel-common-465' is not installed, so not removed\n",
            "Package 'nvidia-kernel-common-470' is not installed, so not removed\n",
            "Package 'nvidia-kernel-common-470-server' is not installed, so not removed\n",
            "Package 'nvidia-kernel-common-495' is not installed, so not removed\n",
            "Package 'nvidia-kernel-common-510' is not installed, so not removed\n",
            "Package 'nvidia-kernel-common-510-server' is not installed, so not removed\n",
            "Package 'nvidia-kernel-common-515' is not installed, so not removed\n",
            "Package 'nvidia-kernel-common-515-server' is not installed, so not removed\n",
            "Package 'nvidia-kernel-common-520' is not installed, so not removed\n",
            "Package 'nvidia-kernel-common-525-server' is not installed, so not removed\n",
            "Package 'nvidia-kernel-common-530' is not installed, so not removed\n",
            "Package 'nvidia-kernel-common-535-server' is not installed, so not removed\n",
            "Package 'nvidia-kernel-source-390' is not installed, so not removed\n",
            "Package 'nvidia-kernel-source-418-server' is not installed, so not removed\n",
            "Package 'nvidia-kernel-source-440-server' is not installed, so not removed\n",
            "Package 'nvidia-kernel-source-450-server' is not installed, so not removed\n",
            "Package 'nvidia-kernel-source-460' is not installed, so not removed\n",
            "Package 'nvidia-kernel-source-460-server' is not installed, so not removed\n",
            "Package 'nvidia-kernel-source-465' is not installed, so not removed\n",
            "Package 'nvidia-kernel-source-470' is not installed, so not removed\n",
            "Package 'nvidia-kernel-source-470-server' is not installed, so not removed\n",
            "Package 'nvidia-kernel-source-495' is not installed, so not removed\n",
            "Package 'nvidia-kernel-source-510' is not installed, so not removed\n",
            "Package 'nvidia-kernel-source-510-server' is not installed, so not removed\n",
            "Package 'nvidia-kernel-source-515' is not installed, so not removed\n",
            "Package 'nvidia-kernel-source-515-open' is not installed, so not removed\n",
            "Package 'nvidia-kernel-source-515-server' is not installed, so not removed\n",
            "Package 'nvidia-kernel-source-520' is not installed, so not removed\n",
            "Package 'nvidia-kernel-source-520-open' is not installed, so not removed\n",
            "Package 'nvidia-kernel-source-525-open' is not installed, so not removed\n",
            "Package 'nvidia-kernel-source-525-server' is not installed, so not removed\n",
            "Package 'nvidia-kernel-source-530' is not installed, so not removed\n",
            "Package 'nvidia-kernel-source-530-open' is not installed, so not removed\n",
            "Package 'nvidia-kernel-source-535-open' is not installed, so not removed\n",
            "Package 'nvidia-kernel-source-535-server' is not installed, so not removed\n",
            "Package 'nvidia-kernel-source-535-server-open' is not installed, so not removed\n",
            "Package 'nvidia-utils-390' is not installed, so not removed\n",
            "Package 'nvidia-utils-418-server' is not installed, so not removed\n",
            "Package 'nvidia-utils-440-server' is not installed, so not removed\n",
            "Package 'nvidia-utils-450-server' is not installed, so not removed\n",
            "Package 'nvidia-utils-460' is not installed, so not removed\n",
            "Package 'nvidia-utils-460-server' is not installed, so not removed\n",
            "Package 'nvidia-utils-465' is not installed, so not removed\n",
            "Package 'nvidia-utils-470' is not installed, so not removed\n",
            "Package 'nvidia-utils-470-server' is not installed, so not removed\n",
            "Package 'nvidia-utils-495' is not installed, so not removed\n",
            "Package 'nvidia-utils-510' is not installed, so not removed\n",
            "Package 'nvidia-utils-510-server' is not installed, so not removed\n",
            "Package 'nvidia-utils-515' is not installed, so not removed\n",
            "Package 'nvidia-utils-515-server' is not installed, so not removed\n",
            "Package 'nvidia-utils-520' is not installed, so not removed\n",
            "Package 'nvidia-utils-525-server' is not installed, so not removed\n",
            "Package 'nvidia-utils-530' is not installed, so not removed\n",
            "Package 'nvidia-utils-535-server' is not installed, so not removed\n",
            "Package 'nvidia-common' is not installed, so not removed\n",
            "Package 'libnvidia-nscq-450' is not installed, so not removed\n",
            "Package 'libnvidia-nscq-460' is not installed, so not removed\n",
            "Package 'libnvidia-nscq-470' is not installed, so not removed\n",
            "Package 'libnvidia-nscq-510' is not installed, so not removed\n",
            "Package 'nvidia-fabricmanager-450' is not installed, so not removed\n",
            "Package 'nvidia-fabricmanager-460' is not installed, so not removed\n",
            "Package 'nvidia-fabricmanager-470' is not installed, so not removed\n",
            "Package 'nvidia-fabricmanager-510' is not installed, so not removed\n",
            "Package 'nvidia-fabricmanager-dev-450' is not installed, so not removed\n",
            "Package 'nvidia-fabricmanager-dev-460' is not installed, so not removed\n",
            "Package 'nvidia-fabricmanager-dev-470' is not installed, so not removed\n",
            "Package 'nvidia-fabricmanager-dev-510' is not installed, so not removed\n",
            "Package 'nvidia-libopencl1-384' is not installed, so not removed\n",
            "Package 'nvidia-opencl-icd-384' is not installed, so not removed\n",
            "Package 'nvidia-gds-11-7' is not installed, so not removed\n",
            "Package 'libnvidia-nscq-520' is not installed, so not removed\n",
            "Package 'nvidia-fabricmanager-520' is not installed, so not removed\n",
            "Package 'nvidia-fabricmanager-dev-520' is not installed, so not removed\n",
            "Package 'nvidia-gds-11-8' is not installed, so not removed\n",
            "Package 'nvidia-kernel-open-520' is not installed, so not removed\n",
            "Package 'nvidia-gds-12-0' is not installed, so not removed\n",
            "Package 'libnvidia-nscq-530' is not installed, so not removed\n",
            "Package 'nvidia-fabricmanager-530' is not installed, so not removed\n",
            "Package 'nvidia-fabricmanager-dev-530' is not installed, so not removed\n",
            "Package 'nvidia-kernel-open-530' is not installed, so not removed\n",
            "Package 'nvidia-kernel-open-515' is not installed, so not removed\n",
            "Package 'nvidia-container-runtime' is not installed, so not removed\n",
            "Package 'nvidia-docker2' is not installed, so not removed\n",
            "Package 'nvidia-gds-12-1' is not installed, so not removed\n",
            "Package 'nvidia-gds-12-2' is not installed, so not removed\n",
            "Package 'cuda' is not installed, so not removed\n",
            "Package 'libnvidia-cfg1-430' is not installed, so not removed\n",
            "Package 'libnvidia-common-430' is not installed, so not removed\n",
            "Package 'libnvidia-compute-430' is not installed, so not removed\n",
            "Package 'libnvidia-decode-430' is not installed, so not removed\n",
            "Package 'libnvidia-encode-430' is not installed, so not removed\n",
            "Package 'libnvidia-fbc1-430' is not installed, so not removed\n",
            "Package 'libnvidia-gl-430' is not installed, so not removed\n",
            "Package 'libnvidia-nscq-545' is not installed, so not removed\n",
            "Package 'nvidia-compute-utils-430' is not installed, so not removed\n",
            "Package 'nvidia-dkms-430' is not installed, so not removed\n",
            "Package 'nvidia-driver-430' is not installed, so not removed\n",
            "Package 'nvidia-fabricmanager-545' is not installed, so not removed\n",
            "Package 'nvidia-fabricmanager-dev-545' is not installed, so not removed\n",
            "Package 'nvidia-fs' is not installed, so not removed\n",
            "Package 'nvidia-fs-dkms' is not installed, so not removed\n",
            "Package 'nvidia-gds' is not installed, so not removed\n",
            "Package 'nvidia-gds-12-3' is not installed, so not removed\n",
            "Package 'nvidia-headless-430' is not installed, so not removed\n",
            "Package 'nvidia-headless-no-dkms-430' is not installed, so not removed\n",
            "Package 'nvidia-kernel-common-430' is not installed, so not removed\n",
            "Package 'nvidia-kernel-open-545' is not installed, so not removed\n",
            "Package 'nvidia-kernel-source-430' is not installed, so not removed\n",
            "Package 'nvidia-modprobe' is not installed, so not removed\n",
            "Package 'nvidia-settings' is not installed, so not removed\n",
            "Package 'nvidia-utils-430' is not installed, so not removed\n",
            "Package 'libnvidia-container1' is not installed, so not removed\n",
            "Package 'libnvidia-container1-dbg' is not installed, so not removed\n",
            "Package 'libnvidia-container-dev' is not installed, so not removed\n",
            "Package 'libnvidia-container-tools' is not installed, so not removed\n",
            "Package 'nvidia-container-toolkit' is not installed, so not removed\n",
            "Package 'nvidia-container-toolkit-base' is not installed, so not removed\n",
            "Package 'libnvidia-cfg1-525' is not installed, so not removed\n",
            "Package 'libnvidia-cfg1-535' is not installed, so not removed\n",
            "Package 'libnvidia-common-525' is not installed, so not removed\n",
            "Package 'libnvidia-common-535' is not installed, so not removed\n",
            "Package 'libnvidia-compute-525' is not installed, so not removed\n",
            "Package 'libnvidia-compute-535' is not installed, so not removed\n",
            "Package 'libnvidia-decode-525' is not installed, so not removed\n",
            "Package 'libnvidia-decode-535' is not installed, so not removed\n",
            "Package 'libnvidia-encode-525' is not installed, so not removed\n",
            "Package 'libnvidia-encode-535' is not installed, so not removed\n",
            "Package 'libnvidia-extra-525' is not installed, so not removed\n",
            "Package 'libnvidia-extra-535' is not installed, so not removed\n",
            "Package 'libnvidia-fbc1-525' is not installed, so not removed\n",
            "Package 'libnvidia-fbc1-535' is not installed, so not removed\n",
            "Package 'libnvidia-gl-525' is not installed, so not removed\n",
            "Package 'libnvidia-gl-535' is not installed, so not removed\n",
            "Package 'libnvidia-nscq-525' is not installed, so not removed\n",
            "Package 'libnvidia-nscq-535' is not installed, so not removed\n",
            "Package 'nvidia-compute-utils-525' is not installed, so not removed\n",
            "Package 'nvidia-compute-utils-535' is not installed, so not removed\n",
            "Package 'nvidia-dkms-525' is not installed, so not removed\n",
            "Package 'nvidia-dkms-535' is not installed, so not removed\n",
            "Package 'nvidia-driver-525' is not installed, so not removed\n",
            "Package 'nvidia-driver-535' is not installed, so not removed\n",
            "Package 'nvidia-fabricmanager-525' is not installed, so not removed\n",
            "Package 'nvidia-fabricmanager-535' is not installed, so not removed\n",
            "Package 'nvidia-fabricmanager-dev-525' is not installed, so not removed\n",
            "Package 'nvidia-fabricmanager-dev-535' is not installed, so not removed\n",
            "Package 'nvidia-headless-525' is not installed, so not removed\n",
            "Package 'nvidia-headless-535' is not installed, so not removed\n",
            "Package 'nvidia-headless-no-dkms-525' is not installed, so not removed\n",
            "Package 'nvidia-headless-no-dkms-535' is not installed, so not removed\n",
            "Package 'nvidia-kernel-common-525' is not installed, so not removed\n",
            "Package 'nvidia-kernel-common-535' is not installed, so not removed\n",
            "Package 'nvidia-kernel-open-525' is not installed, so not removed\n",
            "Package 'nvidia-kernel-open-535' is not installed, so not removed\n",
            "Package 'nvidia-kernel-source-525' is not installed, so not removed\n",
            "Package 'nvidia-kernel-source-535' is not installed, so not removed\n",
            "Package 'nvidia-utils-525' is not installed, so not removed\n",
            "Package 'nvidia-utils-535' is not installed, so not removed\n",
            "Package 'libnvidia-cfg1-545' is not installed, so not removed\n",
            "Package 'libnvidia-common-545' is not installed, so not removed\n",
            "Package 'libnvidia-compute-545' is not installed, so not removed\n",
            "Package 'libnvidia-decode-545' is not installed, so not removed\n",
            "Package 'libnvidia-encode-545' is not installed, so not removed\n",
            "Package 'libnvidia-extra-545' is not installed, so not removed\n",
            "Package 'libnvidia-fbc1-545' is not installed, so not removed\n",
            "Package 'libnvidia-gl-545' is not installed, so not removed\n",
            "Package 'nvidia-compute-utils-545' is not installed, so not removed\n",
            "Package 'nvidia-dkms-545' is not installed, so not removed\n",
            "Package 'nvidia-dkms-545-open' is not installed, so not removed\n",
            "Package 'nvidia-driver-545' is not installed, so not removed\n",
            "Package 'nvidia-driver-545-open' is not installed, so not removed\n",
            "Package 'nvidia-firmware-545-545.29.02' is not installed, so not removed\n",
            "Package 'nvidia-headless-545' is not installed, so not removed\n",
            "Package 'nvidia-headless-545-open' is not installed, so not removed\n",
            "Package 'nvidia-headless-no-dkms-545' is not installed, so not removed\n",
            "Package 'nvidia-headless-no-dkms-545-open' is not installed, so not removed\n",
            "Package 'nvidia-kernel-common-545' is not installed, so not removed\n",
            "Package 'nvidia-kernel-source-545' is not installed, so not removed\n",
            "Package 'nvidia-kernel-source-545-open' is not installed, so not removed\n",
            "Package 'nvidia-utils-545' is not installed, so not removed\n",
            "The following packages were automatically installed and are no longer required:\n",
            "  ocl-icd-opencl-dev opencl-c-headers opencl-clhpp-headers\n",
            "Use 'apt autoremove' to remove them.\n",
            "The following packages will be REMOVED:\n",
            "  nvidia-opencl-dev*\n",
            "0 upgraded, 0 newly installed, 1 to remove and 19 not upgraded.\n",
            "After this operation, 88.1 kB disk space will be freed.\n",
            "(Reading database ... 120874 files and directories currently installed.)\n",
            "Removing nvidia-opencl-dev:amd64 (11.5.1-1ubuntu1) ...\n",
            "\u001b[1mdpkg:\u001b[0m dependency problems prevent removal of cuda-cccl-11-8:\n",
            " cuda-minimal-build-11-8 depends on cuda-cccl-11-8 (>= 11.8.89).\n",
            " cuda-libraries-dev-11-8 depends on cuda-cccl-11-8 (>= 11.8.89).\n",
            " cuda-cudart-dev-11-8 depends on cuda-cccl-11-8.\n",
            "\n",
            "\u001b[1mdpkg:\u001b[0m error processing package cuda-cccl-11-8 (--purge):\n",
            " dependency problems - not removing\n",
            "Errors were encountered while processing:\n",
            " cuda-cccl-11-8\n",
            "(Reading database ... 120871 files and directories currently installed.)\n",
            "Removing cuda-command-line-tools-11-8 (11.8.0-1) ...\n",
            "(Reading database ... 120869 files and directories currently installed.)\n",
            "Removing cuda-compat-11-8 (520.61.05-1) ...\n",
            "Processing triggers for libc-bin (2.35-0ubuntu3.1) ...\n",
            "/sbin/ldconfig.real: /usr/local/lib/libtbbmalloc.so.2 is not a symbolic link\n",
            "\n",
            "/sbin/ldconfig.real: /usr/local/lib/libtbbbind.so.3 is not a symbolic link\n",
            "\n",
            "/sbin/ldconfig.real: /usr/local/lib/libtbb.so.12 is not a symbolic link\n",
            "\n",
            "/sbin/ldconfig.real: /usr/local/lib/libtbbbind_2_0.so.3 is not a symbolic link\n",
            "\n",
            "/sbin/ldconfig.real: /usr/local/lib/libtbbbind_2_5.so.3 is not a symbolic link\n",
            "\n",
            "/sbin/ldconfig.real: /usr/local/lib/libtbbmalloc_proxy.so.2 is not a symbolic link\n",
            "\n",
            "\u001b[1mdpkg:\u001b[0m dependency problems prevent removal of cuda-compiler-11-8:\n",
            " cuda-minimal-build-11-8 depends on cuda-compiler-11-8 (>= 11.8.0).\n",
            "\n",
            "\u001b[1mdpkg:\u001b[0m error processing package cuda-compiler-11-8 (--purge):\n",
            " dependency problems - not removing\n",
            "Errors were encountered while processing:\n",
            " cuda-compiler-11-8\n",
            "\u001b[1mdpkg:\u001b[0m dependency problems prevent removal of cuda-cudart-11-8:\n",
            " cuda-libraries-11-8 depends on cuda-cudart-11-8 (>= 11.8.89).\n",
            " cuda-cudart-dev-11-8 depends on cuda-cudart-11-8 (>= 11.8.89).\n",
            "\n",
            "\u001b[1mdpkg:\u001b[0m error processing package cuda-cudart-11-8 (--purge):\n",
            " dependency problems - not removing\n",
            "Errors were encountered while processing:\n",
            " cuda-cudart-11-8\n",
            "\u001b[1mdpkg:\u001b[0m dependency problems prevent removal of cuda-cudart-dev-11-8:\n",
            " cuda-nvcc-11-8 depends on cuda-cudart-dev-11-8.\n",
            " cuda-minimal-build-11-8 depends on cuda-cudart-dev-11-8 (>= 11.8.89).\n",
            " cuda-libraries-dev-11-8 depends on cuda-cudart-dev-11-8 (>= 11.8.89).\n",
            "\n",
            "\u001b[1mdpkg:\u001b[0m error processing package cuda-cudart-dev-11-8 (--purge):\n",
            " dependency problems - not removing\n",
            "Errors were encountered while processing:\n",
            " cuda-cudart-dev-11-8\n",
            "\u001b[1mdpkg:\u001b[0m dependency problems prevent removal of cuda-cuobjdump-11-8:\n",
            " cuda-gdb-11-8 depends on cuda-cuobjdump-11-8.\n",
            " cuda-compiler-11-8 depends on cuda-cuobjdump-11-8 (>= 11.8.86).\n",
            "\n",
            "\u001b[1mdpkg:\u001b[0m error processing package cuda-cuobjdump-11-8 (--purge):\n",
            " dependency problems - not removing\n",
            "Errors were encountered while processing:\n",
            " cuda-cuobjdump-11-8\n",
            "\u001b[1mdpkg:\u001b[0m dependency problems prevent removal of cuda-cupti-11-8:\n",
            " cuda-cupti-dev-11-8 depends on cuda-cupti-11-8 (>= 11.8.87).\n",
            "\n",
            "\u001b[1mdpkg:\u001b[0m error processing package cuda-cupti-11-8 (--purge):\n",
            " dependency problems - not removing\n",
            "Errors were encountered while processing:\n",
            " cuda-cupti-11-8\n",
            "(Reading database ... 120856 files and directories currently installed.)\n",
            "Removing cuda-cupti-dev-11-8 (11.8.87-1) ...\n",
            "\u001b[1mdpkg:\u001b[0m dependency problems prevent removal of cuda-cuxxfilt-11-8:\n",
            " cuda-compiler-11-8 depends on cuda-cuxxfilt-11-8 (>= 11.8.86).\n",
            "\n",
            "\u001b[1mdpkg:\u001b[0m error processing package cuda-cuxxfilt-11-8 (--purge):\n",
            " dependency problems - not removing\n",
            "Errors were encountered while processing:\n",
            " cuda-cuxxfilt-11-8\n",
            "\u001b[1mdpkg:\u001b[0m dependency problems prevent removal of cuda-driver-dev-11-8:\n",
            " cuda-libraries-dev-11-8 depends on cuda-driver-dev-11-8 (>= 11.8.89).\n",
            " cuda-cudart-dev-11-8 depends on cuda-driver-dev-11-8 (>= 11.8.89).\n",
            "\n",
            "\u001b[1mdpkg:\u001b[0m error processing package cuda-driver-dev-11-8 (--purge):\n",
            " dependency problems - not removing\n",
            "Errors were encountered while processing:\n",
            " cuda-driver-dev-11-8\n",
            "(Reading database ... 120366 files and directories currently installed.)\n",
            "Removing cuda-gdb-11-8 (11.8.86-1) ...\n",
            "(Reading database ... 120301 files and directories currently installed.)\n",
            "Removing cuda-keyring (1.0-1) ...\n",
            "Purging configuration files for cuda-keyring (1.0-1) ...\n",
            "(Reading database ... 120296 files and directories currently installed.)\n",
            "Removing cuda-libraries-11-8 (11.8.0-1) ...\n",
            "(Reading database ... 120294 files and directories currently installed.)\n",
            "Removing cuda-libraries-dev-11-8 (11.8.0-1) ...\n",
            "(Reading database ... 120292 files and directories currently installed.)\n",
            "Removing cuda-memcheck-11-8 (11.8.86-1) ...\n",
            "(Reading database ... 120288 files and directories currently installed.)\n",
            "Removing cuda-minimal-build-11-8 (11.8.0-1) ...\n",
            "(Reading database ... 120286 files and directories currently installed.)\n",
            "Removing cuda-nsight-compute-11-8 (11.8.0-1) ...\n",
            "\u001b[1mdpkg:\u001b[0m dependency problems prevent removal of cuda-nvcc-11-8:\n",
            " cuda-compiler-11-8 depends on cuda-nvcc-11-8 (>= 11.8.89).\n",
            "\n",
            "\u001b[1mdpkg:\u001b[0m error processing package cuda-nvcc-11-8 (--purge):\n",
            " dependency problems - not removing\n",
            "Errors were encountered while processing:\n",
            " cuda-nvcc-11-8\n",
            "(Reading database ... 120280 files and directories currently installed.)\n",
            "Removing cuda-nvdisasm-11-8 (11.8.86-1) ...\n",
            "(Reading database ... 120276 files and directories currently installed.)\n",
            "Removing cuda-nvml-dev-11-8 (11.8.86-1) ...\n",
            "(Reading database ... 120264 files and directories currently installed.)\n",
            "Removing cuda-nvprof-11-8 (11.8.87-1) ...\n",
            "\u001b[1mdpkg:\u001b[0m dependency problems prevent removal of cuda-nvprune-11-8:\n",
            " cuda-compiler-11-8 depends on cuda-nvprune-11-8 (>= 11.8.86).\n",
            "\n",
            "\u001b[1mdpkg:\u001b[0m error processing package cuda-nvprune-11-8 (--purge):\n",
            " dependency problems - not removing\n",
            "Errors were encountered while processing:\n",
            " cuda-nvprune-11-8\n",
            "\u001b[1mdpkg:\u001b[0m dependency problems prevent removal of cuda-nvrtc-11-8:\n",
            " cuda-nvrtc-dev-11-8 depends on cuda-nvrtc-11-8 (>= 11.8.89).\n",
            "\n",
            "\u001b[1mdpkg:\u001b[0m error processing package cuda-nvrtc-11-8 (--purge):\n",
            " dependency problems - not removing\n",
            "Errors were encountered while processing:\n",
            " cuda-nvrtc-11-8\n",
            "(Reading database ... 120252 files and directories currently installed.)\n",
            "Removing cuda-nvrtc-dev-11-8 (11.8.89-1) ...\n",
            "(Reading database ... 120242 files and directories currently installed.)\n",
            "Removing cuda-nvtx-11-8 (11.8.86-1) ...\n",
            "(Reading database ... 120212 files and directories currently installed.)\n",
            "Removing cuda-profiler-api-11-8 (11.8.86-1) ...\n",
            "(Reading database ... 120207 files and directories currently installed.)\n",
            "Removing cuda-sanitizer-11-8 (11.8.86-1) ...\n",
            "\u001b[1mdpkg:\u001b[0m dependency problems prevent removal of cuda-toolkit-11-8-config-common:\n",
            " libnvjpeg-11-8 depends on cuda-toolkit-11-8-config-common.\n",
            " libnpp-11-8 depends on cuda-toolkit-11-8-config-common.\n",
            " libcusparse-11-8 depends on cuda-toolkit-11-8-config-common.\n",
            " libcusolver-11-8 depends on cuda-toolkit-11-8-config-common.\n",
            " libcurand-11-8 depends on cuda-toolkit-11-8-config-common.\n",
            " libcufile-11-8 depends on cuda-toolkit-11-8-config-common.\n",
            " libcufft-11-8 depends on cuda-toolkit-11-8-config-common.\n",
            " libcublas-11-8 depends on cuda-toolkit-11-8-config-common.\n",
            " cuda-cudart-11-8 depends on cuda-toolkit-11-8-config-common.\n",
            "\n",
            "\u001b[1mdpkg:\u001b[0m error processing package cuda-toolkit-11-8-config-common (--purge):\n",
            " dependency problems - not removing\n",
            "Errors were encountered while processing:\n",
            " cuda-toolkit-11-8-config-common\n",
            "\u001b[1mdpkg:\u001b[0m dependency problems prevent removal of cuda-toolkit-11-config-common:\n",
            " libnvjpeg-11-8 depends on cuda-toolkit-11-config-common | cuda-cudart-11-2; however:\n",
            "  Package cuda-toolkit-11-config-common is to be removed.\n",
            "  Package cuda-cudart-11-2 is not installed.\n",
            " libnpp-11-8 depends on cuda-toolkit-11-config-common | cuda-cudart-11-2; however:\n",
            "  Package cuda-toolkit-11-config-common is to be removed.\n",
            "  Package cuda-cudart-11-2 is not installed.\n",
            " libcusparse-11-8 depends on cuda-toolkit-11-config-common | cuda-cudart-11-2; however:\n",
            "  Package cuda-toolkit-11-config-common is to be removed.\n",
            "  Package cuda-cudart-11-2 is not installed.\n",
            " libcusolver-11-8 depends on cuda-toolkit-11-config-common | cuda-cudart-11-2; however:\n",
            "  Package cuda-toolkit-11-config-common is to be removed.\n",
            "  Package cuda-cudart-11-2 is not installed.\n",
            " libcurand-11-8 depends on cuda-toolkit-11-config-common | cuda-cudart-11-2; however:\n",
            "  Package cuda-toolkit-11-config-common is to be removed.\n",
            "  Package cuda-cudart-11-2 is not installed.\n",
            " libcufile-11-8 depends on cuda-toolkit-11-config-common | cuda-cudart-11-2; however:\n",
            "  Package cuda-toolkit-11-config-common is to be removed.\n",
            "  Package cuda-cudart-11-2 is not installed.\n",
            " libcufft-11-8 depends on cuda-toolkit-11-config-common | cuda-cudart-11-2; however:\n",
            "  Package cuda-toolkit-11-config-common is to be removed.\n",
            "  Package cuda-cudart-11-2 is not installed.\n",
            " libcublas-11-8 depends on cuda-toolkit-11-config-common | cuda-cudart-11-2; however:\n",
            "  Package cuda-toolkit-11-config-common is to be removed.\n",
            "  Package cuda-cudart-11-2 is not installed.\n",
            " cuda-cudart-11-8 depends on cuda-toolkit-11-config-common | cuda-cudart-11-2; however:\n",
            "  Package cuda-toolkit-11-config-common is to be removed.\n",
            "  Package cuda-cudart-11-2 is not installed.\n",
            "\n",
            "\u001b[1mdpkg:\u001b[0m error processing package cuda-toolkit-11-config-common (--purge):\n",
            " dependency problems - not removing\n",
            "Errors were encountered while processing:\n",
            " cuda-toolkit-11-config-common\n",
            "\u001b[1mdpkg:\u001b[0m dependency problems prevent removal of cuda-toolkit-config-common:\n",
            " libnvjpeg-11-8 depends on cuda-toolkit-config-common | cuda-cudart-11-2; however:\n",
            "  Package cuda-toolkit-config-common is to be removed.\n",
            "  Package cuda-cudart-11-2 is not installed.\n",
            " libnpp-11-8 depends on cuda-toolkit-config-common | cuda-cudart-11-2; however:\n",
            "  Package cuda-toolkit-config-common is to be removed.\n",
            "  Package cuda-cudart-11-2 is not installed.\n",
            " libcusparse-11-8 depends on cuda-toolkit-config-common | cuda-cudart-11-2; however:\n",
            "  Package cuda-toolkit-config-common is to be removed.\n",
            "  Package cuda-cudart-11-2 is not installed.\n",
            " libcusolver-11-8 depends on cuda-toolkit-config-common | cuda-cudart-11-2; however:\n",
            "  Package cuda-toolkit-config-common is to be removed.\n",
            "  Package cuda-cudart-11-2 is not installed.\n",
            " libcurand-11-8 depends on cuda-toolkit-config-common | cuda-cudart-11-2; however:\n",
            "  Package cuda-toolkit-config-common is to be removed.\n",
            "  Package cuda-cudart-11-2 is not installed.\n",
            " libcufile-11-8 depends on cuda-toolkit-config-common | cuda-cudart-11-2; however:\n",
            "  Package cuda-toolkit-config-common is to be removed.\n",
            "  Package cuda-cudart-11-2 is not installed.\n",
            " libcufft-11-8 depends on cuda-toolkit-config-common | cuda-cudart-11-2; however:\n",
            "  Package cuda-toolkit-config-common is to be removed.\n",
            "  Package cuda-cudart-11-2 is not installed.\n",
            " libcublas-11-8 depends on cuda-toolkit-config-common | cuda-cudart-11-2; however:\n",
            "  Package cuda-toolkit-config-common is to be removed.\n",
            "  Package cuda-cudart-11-2 is not installed.\n",
            " cuda-cudart-11-8 depends on cuda-toolkit-config-common | cuda-cudart-11-2; however:\n",
            "  Package cuda-toolkit-config-common is to be removed.\n",
            "  Package cuda-cudart-11-2 is not installed.\n",
            "\n",
            "\u001b[1mdpkg:\u001b[0m error processing package cuda-toolkit-config-common (--purge):\n",
            " dependency problems - not removing\n",
            "Errors were encountered while processing:\n",
            " cuda-toolkit-config-common\n",
            "Reading package lists... Done\n",
            "Building dependency tree... Done\n",
            "Reading state information... Done\n",
            "Note, selecting 'cuda-cudart-dev-11-8' for glob 'cuda-*'\n",
            "Note, selecting 'cuda-cuobjdump-11-8' for glob 'cuda-*'\n",
            "Note, selecting 'cuda-driver-dev-11-8' for glob 'cuda-*'\n",
            "Note, selecting 'cuda-toolkit-config-common' for glob 'cuda-*'\n",
            "Note, selecting 'cuda-nvrtc-11-8' for glob 'cuda-*'\n",
            "Note, selecting 'cuda-drivers-fabricmanager-450' for glob 'cuda-*'\n",
            "Note, selecting 'cuda-drivers-fabricmanager-460' for glob 'cuda-*'\n",
            "Note, selecting 'cuda-drivers-fabricmanager-470' for glob 'cuda-*'\n",
            "Note, selecting 'cuda-drivers-fabricmanager-510' for glob 'cuda-*'\n",
            "Note, selecting 'cuda-drivers-fabricmanager-515' for glob 'cuda-*'\n",
            "Note, selecting 'cuda-drivers-fabricmanager-525' for glob 'cuda-*'\n",
            "Note, selecting 'cuda-drivers-fabricmanager-535' for glob 'cuda-*'\n",
            "Note, selecting 'cuda-thrust-11-8' for glob 'cuda-*'\n",
            "Note, selecting 'cuda-drivers-fabricmanager' for glob 'cuda-*'\n",
            "Note, selecting 'cuda-cuxxfilt-11-8' for glob 'cuda-*'\n",
            "Note, selecting 'cuda-cccl-11-8' for glob 'cuda-*'\n",
            "Note, selecting 'cuda-cupti-11-8' for glob 'cuda-*'\n",
            "Note, selecting 'cuda-toolkit-11-8-config-common' for glob 'cuda-*'\n",
            "Note, selecting 'cuda-nvprune-11-8' for glob 'cuda-*'\n",
            "Note, selecting 'cuda-license-10-1' for glob 'cuda-*'\n",
            "Note, selecting 'cuda-license-10-2' for glob 'cuda-*'\n",
            "Note, selecting 'cuda-cudart-11-2' for glob 'cuda-*'\n",
            "Note, selecting 'cuda-cudart-11-8' for glob 'cuda-*'\n",
            "Note, selecting 'cuda-nvcc-11-8' for glob 'cuda-*'\n",
            "Note, selecting 'cuda-compiler-11-8' for glob 'cuda-*'\n",
            "Note, selecting 'cuda-toolkit-11-config-common' for glob 'cuda-*'\n",
            "Note, selecting 'cuda-cub-11-8' for glob 'cuda-*'\n",
            "Package 'cuda-license-10-1' is not installed, so not removed\n",
            "Package 'cuda-license-10-2' is not installed, so not removed\n",
            "Note, selecting 'cuda-cccl-11-8' instead of 'cuda-cub-11-8'\n",
            "Note, selecting 'cuda-cccl-11-8' instead of 'cuda-thrust-11-8'\n",
            "Package 'cuda-cudart-11-2' is not installed, so not removed\n",
            "Package 'cuda-drivers-fabricmanager-515' is not installed, so not removed\n",
            "Package 'cuda-drivers-fabricmanager-450' is not installed, so not removed\n",
            "Package 'cuda-drivers-fabricmanager-460' is not installed, so not removed\n",
            "Package 'cuda-drivers-fabricmanager-470' is not installed, so not removed\n",
            "Package 'cuda-drivers-fabricmanager-510' is not installed, so not removed\n",
            "Package 'cuda-drivers-fabricmanager-525' is not installed, so not removed\n",
            "Package 'cuda-drivers-fabricmanager-535' is not installed, so not removed\n",
            "Some packages could not be installed. This may mean that you have\n",
            "requested an impossible situation or if you are using the unstable\n",
            "distribution that some required packages have not yet been created\n",
            "or been moved out of Incoming.\n",
            "The following information may help to resolve the situation:\n",
            "\n",
            "The following packages have unmet dependencies:\n",
            " libcublas-11-8 : Depends: cuda-toolkit-config-common but it is not going to be installed or\n",
            "                           cuda-cudart-11-2 but it is not installable\n",
            "                  Depends: cuda-toolkit-11-config-common but it is not going to be installed or\n",
            "                           cuda-cudart-11-2 but it is not installable\n",
            "                  Depends: cuda-toolkit-11-8-config-common but it is not going to be installed\n",
            "E: Error, pkgProblemResolver::Resolve generated breaks, this may be caused by held packages.\n",
            "Reading package lists... Done\n",
            "Building dependency tree... Done\n",
            "Reading state information... Done\n",
            "The following packages will be REMOVED:\n",
            "  cuda-compiler-11-8 cuda-cuobjdump-11-8 cuda-cupti-11-8 cuda-cuxxfilt-11-8 cuda-nvcc-11-8\n",
            "  cuda-nvprune-11-8 cuda-nvrtc-11-8 libcufft-11-8 libcufft-dev-11-8 libcufile-11-8\n",
            "  libcufile-dev-11-8 libcurand-11-8 libcurand-dev-11-8 libcusolver-11-8 libcusolver-dev-11-8\n",
            "  libnvjpeg-11-8 libnvjpeg-dev-11-8 nsight-compute-2022.3.0 ocl-icd-opencl-dev opencl-c-headers\n",
            "  opencl-clhpp-headers\n",
            "0 upgraded, 0 newly installed, 21 to remove and 13 not upgraded.\n",
            "After this operation, 3,235 MB disk space will be freed.\n",
            "(Reading database ... 119993 files and directories currently installed.)\n",
            "Removing cuda-compiler-11-8 (11.8.0-1) ...\n",
            "Removing cuda-cuobjdump-11-8 (11.8.86-1) ...\n",
            "Removing cuda-cupti-11-8 (11.8.87-1) ...\n",
            "Removing cuda-cuxxfilt-11-8 (11.8.86-1) ...\n",
            "Removing cuda-nvcc-11-8 (11.8.89-1) ...\n",
            "Removing cuda-nvprune-11-8 (11.8.86-1) ...\n",
            "Removing cuda-nvrtc-11-8 (11.8.89-1) ...\n",
            "Removing libcufft-dev-11-8 (10.9.0.58-1) ...\n",
            "Removing libcufft-11-8 (10.9.0.58-1) ...\n",
            "Removing libcufile-dev-11-8 (1.4.0.31-1) ...\n",
            "Removing libcufile-11-8 (1.4.0.31-1) ...\n",
            "Removing alternatives\n",
            "Removing libcurand-dev-11-8 (10.3.0.86-1) ...\n",
            "Removing libcurand-11-8 (10.3.0.86-1) ...\n",
            "Removing libcusolver-dev-11-8 (11.4.1.48-1) ...\n",
            "Removing libcusolver-11-8 (11.4.1.48-1) ...\n",
            "Removing libnvjpeg-dev-11-8 (11.9.0.86-1) ...\n",
            "Removing libnvjpeg-11-8 (11.9.0.86-1) ...\n",
            "Removing nsight-compute-2022.3.0 (2022.3.0.22-1) ...\n",
            "\u001b[1mdpkg:\u001b[0m \u001b[1;33mwarning:\u001b[0m while removing nsight-compute-2022.3.0, directory '/opt/nvidia' not empty so not removed\n",
            "Removing ocl-icd-opencl-dev:amd64 (2.2.14-3) ...\n",
            "Removing opencl-clhpp-headers (3.0~2.0.15-1ubuntu1) ...\n",
            "Removing opencl-c-headers (3.0~2022.01.04-1) ...\n",
            "Processing triggers for libc-bin (2.35-0ubuntu3.1) ...\n",
            "/sbin/ldconfig.real: /usr/local/lib/libtbbmalloc.so.2 is not a symbolic link\n",
            "\n",
            "/sbin/ldconfig.real: /usr/local/lib/libtbbbind.so.3 is not a symbolic link\n",
            "\n",
            "/sbin/ldconfig.real: /usr/local/lib/libtbb.so.12 is not a symbolic link\n",
            "\n",
            "/sbin/ldconfig.real: /usr/local/lib/libtbbbind_2_0.so.3 is not a symbolic link\n",
            "\n",
            "/sbin/ldconfig.real: /usr/local/lib/libtbbbind_2_5.so.3 is not a symbolic link\n",
            "\n",
            "/sbin/ldconfig.real: /usr/local/lib/libtbbmalloc_proxy.so.2 is not a symbolic link\n",
            "\n",
            "Get:1 https://cloud.r-project.org/bin/linux/ubuntu jammy-cran40/ InRelease [3,626 B]\n",
            "Get:2 https://cloud.r-project.org/bin/linux/ubuntu jammy-cran40/ Packages [46.6 kB]\n",
            "Get:3 http://security.ubuntu.com/ubuntu jammy-security InRelease [110 kB]\n",
            "Hit:4 http://archive.ubuntu.com/ubuntu jammy InRelease\n",
            "Get:5 https://ppa.launchpadcontent.net/c2d4u.team/c2d4u4.0+/ubuntu jammy InRelease [18.1 kB]\n",
            "Get:6 http://archive.ubuntu.com/ubuntu jammy-updates InRelease [119 kB]\n",
            "Hit:7 https://ppa.launchpadcontent.net/deadsnakes/ppa/ubuntu jammy InRelease\n",
            "Get:8 http://archive.ubuntu.com/ubuntu jammy-backports InRelease [109 kB]\n",
            "Get:9 http://archive.ubuntu.com/ubuntu jammy-updates/restricted amd64 Packages [1,419 kB]\n",
            "Hit:10 https://ppa.launchpadcontent.net/graphics-drivers/ppa/ubuntu jammy InRelease\n",
            "Hit:11 https://ppa.launchpadcontent.net/ubuntugis/ppa/ubuntu jammy InRelease\n",
            "Get:12 http://archive.ubuntu.com/ubuntu jammy-updates/multiverse amd64 Packages [49.8 kB]\n",
            "Get:13 https://ppa.launchpadcontent.net/c2d4u.team/c2d4u4.0+/ubuntu jammy/main Sources [2,231 kB]\n",
            "Get:14 https://ppa.launchpadcontent.net/c2d4u.team/c2d4u4.0+/ubuntu jammy/main amd64 Packages [1,145 kB]\n",
            "Fetched 5,251 kB in 7s (781 kB/s)\n",
            "Reading package lists... Done\n"
          ]
        }
      ]
    },
    {
      "cell_type": "code",
      "metadata": {
        "id": "FANwHDXk9Bkg",
        "outputId": "ec9d801b-4a6f-4d41-8f96-bea9b02a9c70",
        "colab": {
          "base_uri": "https://localhost:8080/"
        }
      },
      "source": [
        "!apt install nvidia-cuda-toolkit\n",
        "!apt install nvidia-cuda-dev"
      ],
      "execution_count": null,
      "outputs": [
        {
          "output_type": "stream",
          "name": "stdout",
          "text": [
            "Reading package lists... Done\n",
            "Building dependency tree... Done\n",
            "Reading state information... Done\n",
            "The following additional packages will be installed:\n",
            "  fonts-dejavu-core fonts-dejavu-extra libaccinj64-11.5 libatk-wrapper-java libatk-wrapper-java-jni\n",
            "  libbabeltrace1 libcub-dev libcublas11 libcublaslt11 libcudart11.0 libcufft10 libcufftw10\n",
            "  libcuinj64-11.5 libcupti-dev libcupti-doc libcupti11.5 libcurand10 libcusolver11 libcusolvermg11\n",
            "  libcusparse11 libdebuginfod-common libdebuginfod1 libegl-dev libfontenc1 libgail-common libgail18\n",
            "  libgl-dev libgl1-mesa-dev libgles-dev libgles1 libglvnd-core-dev libglvnd-dev libglx-dev\n",
            "  libgtk2.0-0 libgtk2.0-bin libgtk2.0-common libipt2 libnppc11 libnppial11 libnppicc11 libnppidei11\n",
            "  libnppif11 libnppig11 libnppim11 libnppist11 libnppisu11 libnppitc11 libnpps11 libnvblas11\n",
            "  libnvidia-compute-495 libnvidia-compute-510 libnvidia-compute-525 libnvidia-ml-dev libnvjpeg11\n",
            "  libnvrtc-builtins11.5 libnvrtc11.2 libnvtoolsext1 libnvvm4 libopengl-dev libqt5core5a libqt5dbus5\n",
            "  libqt5network5 librsvg2-common libsource-highlight-common libsource-highlight4v5 libthrust-dev\n",
            "  libvdpau-dev libxcb-icccm4 libxcb-image0 libxcb-keysyms1 libxcb-render-util0 libxcb-util1\n",
            "  libxcb-xinerama0 libxcb-xkb1 libxkbcommon-x11-0 libxkbfile1 libxtst6 libxxf86dga1 node-html5shiv\n",
            "  nsight-compute nsight-compute-target nsight-systems nsight-systems-target nvidia-cuda-dev\n",
            "  nvidia-cuda-gdb nvidia-cuda-toolkit-doc nvidia-opencl-dev nvidia-profiler nvidia-visual-profiler\n",
            "  ocl-icd-opencl-dev opencl-c-headers opencl-clhpp-headers openjdk-8-jre openjdk-8-jre-headless\n",
            "  qttranslations5-l10n x11-utils\n",
            "Suggested packages:\n",
            "  gvfs libvdpau-doc nodejs opencl-clhpp-headers-doc libnss-mdns fonts-nanum fonts-ipafont-gothic\n",
            "  fonts-ipafont-mincho fonts-wqy-microhei fonts-wqy-zenhei fonts-indic mesa-utils\n",
            "Recommended packages:\n",
            "  libnvcuvid1\n",
            "The following NEW packages will be installed:\n",
            "  fonts-dejavu-core fonts-dejavu-extra libaccinj64-11.5 libatk-wrapper-java libatk-wrapper-java-jni\n",
            "  libbabeltrace1 libcub-dev libcublas11 libcublaslt11 libcudart11.0 libcufft10 libcufftw10\n",
            "  libcuinj64-11.5 libcupti-dev libcupti-doc libcupti11.5 libcurand10 libcusolver11 libcusolvermg11\n",
            "  libcusparse11 libdebuginfod-common libdebuginfod1 libegl-dev libfontenc1 libgail-common libgail18\n",
            "  libgl-dev libgl1-mesa-dev libgles-dev libgles1 libglvnd-core-dev libglvnd-dev libglx-dev\n",
            "  libgtk2.0-0 libgtk2.0-bin libgtk2.0-common libipt2 libnppc11 libnppial11 libnppicc11 libnppidei11\n",
            "  libnppif11 libnppig11 libnppim11 libnppist11 libnppisu11 libnppitc11 libnpps11 libnvblas11\n",
            "  libnvidia-compute-495 libnvidia-compute-510 libnvidia-compute-525 libnvidia-ml-dev libnvjpeg11\n",
            "  libnvrtc-builtins11.5 libnvrtc11.2 libnvtoolsext1 libnvvm4 libopengl-dev libqt5core5a libqt5dbus5\n",
            "  libqt5network5 librsvg2-common libsource-highlight-common libsource-highlight4v5 libthrust-dev\n",
            "  libvdpau-dev libxcb-icccm4 libxcb-image0 libxcb-keysyms1 libxcb-render-util0 libxcb-util1\n",
            "  libxcb-xinerama0 libxcb-xkb1 libxkbcommon-x11-0 libxkbfile1 libxtst6 libxxf86dga1 node-html5shiv\n",
            "  nsight-compute nsight-compute-target nsight-systems nsight-systems-target nvidia-cuda-dev\n",
            "  nvidia-cuda-gdb nvidia-cuda-toolkit nvidia-cuda-toolkit-doc nvidia-opencl-dev nvidia-profiler\n",
            "  nvidia-visual-profiler ocl-icd-opencl-dev opencl-c-headers opencl-clhpp-headers openjdk-8-jre\n",
            "  openjdk-8-jre-headless qttranslations5-l10n x11-utils\n",
            "0 upgraded, 97 newly installed, 0 to remove and 18 not upgraded.\n",
            "Need to get 1,961 MB of archives.\n",
            "After this operation, 5,335 MB of additional disk space will be used.\n",
            "Get:1 http://archive.ubuntu.com/ubuntu jammy/main amd64 libdebuginfod-common all 0.186-1build1 [7,878 B]\n",
            "Get:2 http://archive.ubuntu.com/ubuntu jammy/main amd64 fonts-dejavu-core all 2.37-2build1 [1,041 kB]\n",
            "Get:3 http://archive.ubuntu.com/ubuntu jammy/main amd64 fonts-dejavu-extra all 2.37-2build1 [2,041 kB]\n",
            "Get:4 http://archive.ubuntu.com/ubuntu jammy/multiverse amd64 libcupti11.5 amd64 11.5.114~11.5.1-1ubuntu1 [7,696 kB]\n",
            "Get:5 http://archive.ubuntu.com/ubuntu jammy/multiverse amd64 libaccinj64-11.5 amd64 11.5.114~11.5.1-1ubuntu1 [845 kB]\n",
            "Get:6 http://archive.ubuntu.com/ubuntu jammy/main amd64 libfontenc1 amd64 1:1.1.4-1build3 [14.7 kB]\n",
            "Get:7 http://archive.ubuntu.com/ubuntu jammy/main amd64 libxkbfile1 amd64 1:1.1.0-1build3 [71.8 kB]\n",
            "Get:8 http://archive.ubuntu.com/ubuntu jammy/main amd64 libxtst6 amd64 2:1.2.3-1build4 [13.4 kB]\n",
            "Get:9 http://archive.ubuntu.com/ubuntu jammy/main amd64 libxxf86dga1 amd64 2:1.1.5-0ubuntu3 [12.6 kB]\n",
            "Get:10 http://archive.ubuntu.com/ubuntu jammy/main amd64 x11-utils amd64 7.7+5build2 [206 kB]\n",
            "Get:11 http://archive.ubuntu.com/ubuntu jammy/main amd64 libatk-wrapper-java all 0.38.0-5build1 [53.1 kB]\n",
            "Get:12 http://archive.ubuntu.com/ubuntu jammy/main amd64 libatk-wrapper-java-jni amd64 0.38.0-5build1 [49.0 kB]\n",
            "Get:13 http://archive.ubuntu.com/ubuntu jammy/universe amd64 libcub-dev all 1.15.0-3 [217 kB]\n",
            "Get:14 http://archive.ubuntu.com/ubuntu jammy/multiverse amd64 libcublaslt11 amd64 11.7.4.6~11.5.1-1ubuntu1 [148 MB]\n",
            "Get:15 http://archive.ubuntu.com/ubuntu jammy/multiverse amd64 libcublas11 amd64 11.7.4.6~11.5.1-1ubuntu1 [78.2 MB]\n",
            "Get:16 http://archive.ubuntu.com/ubuntu jammy/multiverse amd64 libcudart11.0 amd64 11.5.117~11.5.1-1ubuntu1 [178 kB]\n",
            "Get:17 http://archive.ubuntu.com/ubuntu jammy/multiverse amd64 libcufft10 amd64 11.1.1+~10.6.0.107~11.5.1-1ubuntu1 [70.4 MB]\n",
            "Get:18 http://archive.ubuntu.com/ubuntu jammy/multiverse amd64 libcufftw10 amd64 11.1.1+~10.6.0.107~11.5.1-1ubuntu1 [211 kB]\n",
            "Get:19 http://archive.ubuntu.com/ubuntu jammy-updates/restricted amd64 libnvidia-compute-525 amd64 525.147.05-0ubuntu0.22.04.1 [55.2 MB]\n",
            "Get:20 http://archive.ubuntu.com/ubuntu jammy-updates/restricted amd64 libnvidia-compute-510 amd64 525.147.05-0ubuntu0.22.04.1 [7,194 B]\n",
            "Get:21 http://archive.ubuntu.com/ubuntu jammy-updates/restricted amd64 libnvidia-compute-495 amd64 510.108.03-0ubuntu0.22.04.1 [7,378 B]\n",
            "Get:22 http://archive.ubuntu.com/ubuntu jammy/multiverse amd64 libcuinj64-11.5 amd64 11.5.114~11.5.1-1ubuntu1 [1,004 kB]\n",
            "Get:23 http://archive.ubuntu.com/ubuntu jammy/multiverse amd64 libcurand10 amd64 11.1.1+~10.2.7.107~11.5.1-1ubuntu1 [41.8 MB]\n",
            "Get:24 http://archive.ubuntu.com/ubuntu jammy/multiverse amd64 libcusolver11 amd64 11.3.2.107~11.5.1-1ubuntu1 [31.3 MB]\n",
            "Get:25 http://archive.ubuntu.com/ubuntu jammy/multiverse amd64 libcusolvermg11 amd64 11.3.2.107~11.5.1-1ubuntu1 [17.8 MB]\n",
            "Get:26 http://archive.ubuntu.com/ubuntu jammy/multiverse amd64 libcusparse11 amd64 11.7.0.107~11.5.1-1ubuntu1 [96.2 MB]\n",
            "Get:27 http://archive.ubuntu.com/ubuntu jammy/main amd64 libdebuginfod1 amd64 0.186-1build1 [12.7 kB]\n",
            "Get:28 http://archive.ubuntu.com/ubuntu jammy/main amd64 libglx-dev amd64 1.4.0-1 [14.1 kB]\n",
            "Get:29 http://archive.ubuntu.com/ubuntu jammy/main amd64 libgl-dev amd64 1.4.0-1 [101 kB]\n",
            "Get:30 http://archive.ubuntu.com/ubuntu jammy/main amd64 libegl-dev amd64 1.4.0-1 [18.0 kB]\n",
            "Get:31 http://archive.ubuntu.com/ubuntu jammy/main amd64 libgtk2.0-common all 2.24.33-2ubuntu2 [125 kB]\n",
            "Get:32 http://archive.ubuntu.com/ubuntu jammy/main amd64 libgtk2.0-0 amd64 2.24.33-2ubuntu2 [2,037 kB]\n",
            "Get:33 http://archive.ubuntu.com/ubuntu jammy/main amd64 libgail18 amd64 2.24.33-2ubuntu2 [15.9 kB]\n",
            "Get:34 http://archive.ubuntu.com/ubuntu jammy/main amd64 libgail-common amd64 2.24.33-2ubuntu2 [132 kB]\n",
            "Get:35 http://archive.ubuntu.com/ubuntu jammy/main amd64 libgles1 amd64 1.4.0-1 [11.5 kB]\n",
            "Get:36 http://archive.ubuntu.com/ubuntu jammy/main amd64 libgles-dev amd64 1.4.0-1 [49.4 kB]\n",
            "Get:37 http://archive.ubuntu.com/ubuntu jammy/main amd64 libgtk2.0-bin amd64 2.24.33-2ubuntu2 [7,932 B]\n",
            "Get:38 http://archive.ubuntu.com/ubuntu jammy/main amd64 libipt2 amd64 2.0.5-1 [46.4 kB]\n",
            "Get:39 http://archive.ubuntu.com/ubuntu jammy/multiverse amd64 libnppc11 amd64 11.5.1.107~11.5.1-1ubuntu1 [430 kB]\n",
            "Get:40 http://archive.ubuntu.com/ubuntu jammy/multiverse amd64 libnppial11 amd64 11.5.1.107~11.5.1-1ubuntu1 [5,234 kB]\n",
            "Get:41 http://archive.ubuntu.com/ubuntu jammy/multiverse amd64 libnppicc11 amd64 11.5.1.107~11.5.1-1ubuntu1 [2,373 kB]\n",
            "Get:42 http://archive.ubuntu.com/ubuntu jammy/multiverse amd64 libnppidei11 amd64 11.5.1.107~11.5.1-1ubuntu1 [2,587 kB]\n",
            "Get:43 http://archive.ubuntu.com/ubuntu jammy/multiverse amd64 libnppif11 amd64 11.5.1.107~11.5.1-1ubuntu1 [33.8 MB]\n",
            "Get:44 http://archive.ubuntu.com/ubuntu jammy/multiverse amd64 libnppig11 amd64 11.5.1.107~11.5.1-1ubuntu1 [14.5 MB]\n",
            "Get:45 http://archive.ubuntu.com/ubuntu jammy/multiverse amd64 libnppim11 amd64 11.5.1.107~11.5.1-1ubuntu1 [3,037 kB]\n",
            "Get:46 http://archive.ubuntu.com/ubuntu jammy/multiverse amd64 libnppist11 amd64 11.5.1.107~11.5.1-1ubuntu1 [13.7 MB]\n",
            "Get:47 http://archive.ubuntu.com/ubuntu jammy/multiverse amd64 libnppisu11 amd64 11.5.1.107~11.5.1-1ubuntu1 [177 kB]\n",
            "Get:48 http://archive.ubuntu.com/ubuntu jammy/multiverse amd64 libnppitc11 amd64 11.5.1.107~11.5.1-1ubuntu1 [1,292 kB]\n",
            "Get:49 http://archive.ubuntu.com/ubuntu jammy/multiverse amd64 libnpps11 amd64 11.5.1.107~11.5.1-1ubuntu1 [7,116 kB]\n",
            "Get:50 http://archive.ubuntu.com/ubuntu jammy/multiverse amd64 libnvblas11 amd64 11.7.4.6~11.5.1-1ubuntu1 [191 kB]\n",
            "Get:51 http://archive.ubuntu.com/ubuntu jammy/multiverse amd64 libnvidia-ml-dev amd64 11.5.50~11.5.1-1ubuntu1 [69.1 kB]\n",
            "Get:52 http://archive.ubuntu.com/ubuntu jammy/multiverse amd64 libnvjpeg11 amd64 11.5.4.107~11.5.1-1ubuntu1 [1,858 kB]\n",
            "Get:53 http://archive.ubuntu.com/ubuntu jammy/multiverse amd64 libnvrtc-builtins11.5 amd64 11.5.119~11.5.1-1ubuntu1 [116 kB]\n",
            "Get:54 http://archive.ubuntu.com/ubuntu jammy/multiverse amd64 libnvrtc11.2 amd64 11.5.119~11.5.1-1ubuntu1 [15.7 MB]\n",
            "Get:55 http://archive.ubuntu.com/ubuntu jammy/multiverse amd64 libnvvm4 amd64 11.5.119~11.5.1-1ubuntu1 [8,675 kB]\n",
            "Get:56 http://archive.ubuntu.com/ubuntu jammy/main amd64 libopengl-dev amd64 1.4.0-1 [3,400 B]\n",
            "Get:57 http://archive.ubuntu.com/ubuntu jammy-updates/universe amd64 libqt5core5a amd64 5.15.3+dfsg-2ubuntu0.2 [2,006 kB]\n",
            "Get:58 http://archive.ubuntu.com/ubuntu jammy-updates/universe amd64 libqt5dbus5 amd64 5.15.3+dfsg-2ubuntu0.2 [222 kB]\n",
            "Get:59 http://archive.ubuntu.com/ubuntu jammy-updates/universe amd64 libqt5network5 amd64 5.15.3+dfsg-2ubuntu0.2 [731 kB]\n",
            "Get:60 http://archive.ubuntu.com/ubuntu jammy-updates/main amd64 librsvg2-common amd64 2.52.5+dfsg-3ubuntu0.2 [17.7 kB]\n",
            "Get:61 http://archive.ubuntu.com/ubuntu jammy/main amd64 libsource-highlight-common all 3.1.9-4.1build2 [64.5 kB]\n",
            "Get:62 http://archive.ubuntu.com/ubuntu jammy/main amd64 libsource-highlight4v5 amd64 3.1.9-4.1build2 [207 kB]\n",
            "Get:63 http://archive.ubuntu.com/ubuntu jammy/main amd64 libvdpau-dev amd64 1.4-3build2 [38.7 kB]\n",
            "Get:64 http://archive.ubuntu.com/ubuntu jammy/main amd64 libxcb-xinerama0 amd64 1.14-3ubuntu3 [5,414 B]\n",
            "Get:65 http://archive.ubuntu.com/ubuntu jammy/main amd64 libxcb-xkb1 amd64 1.14-3ubuntu3 [32.8 kB]\n",
            "Get:66 http://archive.ubuntu.com/ubuntu jammy/main amd64 libxkbcommon-x11-0 amd64 1.4.0-1 [14.4 kB]\n",
            "Get:67 http://archive.ubuntu.com/ubuntu jammy/universe amd64 node-html5shiv all 3.7.3+dfsg-4 [13.6 kB]\n",
            "Get:68 http://archive.ubuntu.com/ubuntu jammy/multiverse amd64 nsight-compute-target amd64 2021.3.1.4~11.5.1-1ubuntu1 [84.1 MB]\n",
            "Get:69 http://archive.ubuntu.com/ubuntu jammy/main amd64 libxcb-icccm4 amd64 0.4.1-1.1build2 [11.5 kB]\n",
            "Get:70 http://archive.ubuntu.com/ubuntu jammy/main amd64 libxcb-util1 amd64 0.4.0-1build2 [11.4 kB]\n",
            "Get:71 http://archive.ubuntu.com/ubuntu jammy/main amd64 libxcb-image0 amd64 0.4.0-2 [11.5 kB]\n",
            "Get:72 http://archive.ubuntu.com/ubuntu jammy/main amd64 libxcb-keysyms1 amd64 0.4.0-1build3 [8,746 B]\n",
            "Get:73 http://archive.ubuntu.com/ubuntu jammy/main amd64 libxcb-render-util0 amd64 0.3.9-1build3 [10.3 kB]\n",
            "Get:74 http://archive.ubuntu.com/ubuntu jammy/multiverse amd64 nsight-compute amd64 2021.3.1.4~11.5.1-1ubuntu1 [175 MB]\n",
            "Get:75 http://archive.ubuntu.com/ubuntu jammy/multiverse amd64 nsight-systems-target amd64 2021.3.3.2~11.5.1-1ubuntu1 [29.2 MB]\n",
            "Get:76 http://archive.ubuntu.com/ubuntu jammy/multiverse amd64 nsight-systems amd64 2021.3.3.2~11.5.1-1ubuntu1 [110 MB]\n",
            "Get:77 http://archive.ubuntu.com/ubuntu jammy/multiverse amd64 nvidia-cuda-toolkit-doc all 11.5.1-1ubuntu1 [6,263 kB]\n",
            "Get:78 http://archive.ubuntu.com/ubuntu jammy-updates/universe amd64 openjdk-8-jre-headless amd64 8u382-ga-1~22.04.1 [30.8 MB]\n",
            "Get:79 http://archive.ubuntu.com/ubuntu jammy-updates/universe amd64 openjdk-8-jre amd64 8u382-ga-1~22.04.1 [75.4 kB]\n",
            "Get:80 http://archive.ubuntu.com/ubuntu jammy/universe amd64 qttranslations5-l10n all 5.15.3-1 [1,983 kB]\n",
            "Get:81 http://archive.ubuntu.com/ubuntu jammy/main amd64 libbabeltrace1 amd64 1.5.8-2build1 [160 kB]\n",
            "Get:82 http://archive.ubuntu.com/ubuntu jammy/multiverse amd64 libcupti-dev amd64 11.5.114~11.5.1-1ubuntu1 [7,915 kB]\n",
            "Get:83 http://archive.ubuntu.com/ubuntu jammy/multiverse amd64 libcupti-doc all 11.5.114~11.5.1-1ubuntu1 [2,373 kB]\n",
            "Get:84 http://archive.ubuntu.com/ubuntu jammy/main amd64 libglvnd-core-dev amd64 1.4.0-1 [12.7 kB]\n",
            "Get:85 http://archive.ubuntu.com/ubuntu jammy/main amd64 libglvnd-dev amd64 1.4.0-1 [3,162 B]\n",
            "Get:86 http://archive.ubuntu.com/ubuntu jammy-updates/main amd64 libgl1-mesa-dev amd64 23.0.4-0ubuntu1~22.04.1 [6,510 B]\n",
            "Get:87 http://archive.ubuntu.com/ubuntu jammy/multiverse amd64 libnvtoolsext1 amd64 11.5.114~11.5.1-1ubuntu1 [28.8 kB]\n",
            "Get:88 http://archive.ubuntu.com/ubuntu jammy/multiverse amd64 libthrust-dev all 1.15.0-1 [423 kB]\n",
            "Get:89 http://archive.ubuntu.com/ubuntu jammy/multiverse amd64 nvidia-cuda-dev amd64 11.5.1-1ubuntu1 [667 MB]\n",
            "Get:90 http://archive.ubuntu.com/ubuntu jammy/multiverse amd64 nvidia-cuda-gdb amd64 11.5.114~11.5.1-1ubuntu1 [3,404 kB]\n",
            "Get:91 http://archive.ubuntu.com/ubuntu jammy/multiverse amd64 nvidia-profiler amd64 11.5.114~11.5.1-1ubuntu1 [1,732 kB]\n",
            "Get:92 http://archive.ubuntu.com/ubuntu jammy/universe amd64 opencl-c-headers all 3.0~2022.01.04-1 [44.5 kB]\n",
            "Get:93 http://archive.ubuntu.com/ubuntu jammy/universe amd64 opencl-clhpp-headers all 3.0~2.0.15-1ubuntu1 [42.6 kB]\n",
            "Get:94 http://archive.ubuntu.com/ubuntu jammy/universe amd64 ocl-icd-opencl-dev amd64 2.2.14-3 [2,426 B]\n",
            "Get:95 http://archive.ubuntu.com/ubuntu jammy/multiverse amd64 nvidia-opencl-dev amd64 11.5.1-1ubuntu1 [17.8 kB]\n",
            "Get:96 http://archive.ubuntu.com/ubuntu jammy/multiverse amd64 nvidia-cuda-toolkit amd64 11.5.1-1ubuntu1 [62.8 MB]\n",
            "Get:97 http://archive.ubuntu.com/ubuntu jammy/multiverse amd64 nvidia-visual-profiler amd64 11.5.114~11.5.1-1ubuntu1 [108 MB]\n",
            "Fetched 1,961 MB in 2min 37s (12.5 MB/s)\n",
            "Extracting templates from packages: 100%\n",
            "Preconfiguring packages ...\n",
            "Selecting previously unselected package libdebuginfod-common.\n",
            "(Reading database ... 119203 files and directories currently installed.)\n",
            "Preparing to unpack .../00-libdebuginfod-common_0.186-1build1_all.deb ...\n",
            "Unpacking libdebuginfod-common (0.186-1build1) ...\n",
            "Selecting previously unselected package fonts-dejavu-core.\n",
            "Preparing to unpack .../01-fonts-dejavu-core_2.37-2build1_all.deb ...\n",
            "Unpacking fonts-dejavu-core (2.37-2build1) ...\n",
            "Selecting previously unselected package fonts-dejavu-extra.\n",
            "Preparing to unpack .../02-fonts-dejavu-extra_2.37-2build1_all.deb ...\n",
            "Unpacking fonts-dejavu-extra (2.37-2build1) ...\n",
            "Selecting previously unselected package libcupti11.5:amd64.\n",
            "Preparing to unpack .../03-libcupti11.5_11.5.114~11.5.1-1ubuntu1_amd64.deb ...\n",
            "Unpacking libcupti11.5:amd64 (11.5.114~11.5.1-1ubuntu1) ...\n",
            "Selecting previously unselected package libaccinj64-11.5:amd64.\n",
            "Preparing to unpack .../04-libaccinj64-11.5_11.5.114~11.5.1-1ubuntu1_amd64.deb ...\n",
            "Unpacking libaccinj64-11.5:amd64 (11.5.114~11.5.1-1ubuntu1) ...\n",
            "Selecting previously unselected package libfontenc1:amd64.\n",
            "Preparing to unpack .../05-libfontenc1_1%3a1.1.4-1build3_amd64.deb ...\n",
            "Unpacking libfontenc1:amd64 (1:1.1.4-1build3) ...\n",
            "Selecting previously unselected package libxkbfile1:amd64.\n",
            "Preparing to unpack .../06-libxkbfile1_1%3a1.1.0-1build3_amd64.deb ...\n",
            "Unpacking libxkbfile1:amd64 (1:1.1.0-1build3) ...\n",
            "Selecting previously unselected package libxtst6:amd64.\n",
            "Preparing to unpack .../07-libxtst6_2%3a1.2.3-1build4_amd64.deb ...\n",
            "Unpacking libxtst6:amd64 (2:1.2.3-1build4) ...\n",
            "Selecting previously unselected package libxxf86dga1:amd64.\n",
            "Preparing to unpack .../08-libxxf86dga1_2%3a1.1.5-0ubuntu3_amd64.deb ...\n",
            "Unpacking libxxf86dga1:amd64 (2:1.1.5-0ubuntu3) ...\n",
            "Selecting previously unselected package x11-utils.\n",
            "Preparing to unpack .../09-x11-utils_7.7+5build2_amd64.deb ...\n",
            "Unpacking x11-utils (7.7+5build2) ...\n",
            "Selecting previously unselected package libatk-wrapper-java.\n",
            "Preparing to unpack .../10-libatk-wrapper-java_0.38.0-5build1_all.deb ...\n",
            "Unpacking libatk-wrapper-java (0.38.0-5build1) ...\n",
            "Selecting previously unselected package libatk-wrapper-java-jni:amd64.\n",
            "Preparing to unpack .../11-libatk-wrapper-java-jni_0.38.0-5build1_amd64.deb ...\n",
            "Unpacking libatk-wrapper-java-jni:amd64 (0.38.0-5build1) ...\n",
            "Selecting previously unselected package libcub-dev.\n",
            "Preparing to unpack .../12-libcub-dev_1.15.0-3_all.deb ...\n",
            "Unpacking libcub-dev (1.15.0-3) ...\n",
            "Selecting previously unselected package libcublaslt11:amd64.\n",
            "Preparing to unpack .../13-libcublaslt11_11.7.4.6~11.5.1-1ubuntu1_amd64.deb ...\n",
            "Unpacking libcublaslt11:amd64 (11.7.4.6~11.5.1-1ubuntu1) ...\n",
            "Selecting previously unselected package libcublas11:amd64.\n",
            "Preparing to unpack .../14-libcublas11_11.7.4.6~11.5.1-1ubuntu1_amd64.deb ...\n",
            "Unpacking libcublas11:amd64 (11.7.4.6~11.5.1-1ubuntu1) ...\n",
            "Selecting previously unselected package libcudart11.0:amd64.\n",
            "Preparing to unpack .../15-libcudart11.0_11.5.117~11.5.1-1ubuntu1_amd64.deb ...\n",
            "Unpacking libcudart11.0:amd64 (11.5.117~11.5.1-1ubuntu1) ...\n",
            "Selecting previously unselected package libcufft10:amd64.\n",
            "Preparing to unpack .../16-libcufft10_11.1.1+~10.6.0.107~11.5.1-1ubuntu1_amd64.deb ...\n",
            "Unpacking libcufft10:amd64 (11.1.1+~10.6.0.107~11.5.1-1ubuntu1) ...\n",
            "Selecting previously unselected package libcufftw10:amd64.\n",
            "Preparing to unpack .../17-libcufftw10_11.1.1+~10.6.0.107~11.5.1-1ubuntu1_amd64.deb ...\n",
            "Unpacking libcufftw10:amd64 (11.1.1+~10.6.0.107~11.5.1-1ubuntu1) ...\n",
            "Selecting previously unselected package libnvidia-compute-525:amd64.\n",
            "Preparing to unpack .../18-libnvidia-compute-525_525.147.05-0ubuntu0.22.04.1_amd64.deb ...\n",
            "Unpacking libnvidia-compute-525:amd64 (525.147.05-0ubuntu0.22.04.1) ...\n",
            "Selecting previously unselected package libnvidia-compute-510:amd64.\n",
            "Preparing to unpack .../19-libnvidia-compute-510_525.147.05-0ubuntu0.22.04.1_amd64.deb ...\n",
            "Unpacking libnvidia-compute-510:amd64 (525.147.05-0ubuntu0.22.04.1) ...\n",
            "Selecting previously unselected package libnvidia-compute-495:amd64.\n",
            "Preparing to unpack .../20-libnvidia-compute-495_510.108.03-0ubuntu0.22.04.1_amd64.deb ...\n",
            "Unpacking libnvidia-compute-495:amd64 (510.108.03-0ubuntu0.22.04.1) ...\n",
            "Selecting previously unselected package libcuinj64-11.5:amd64.\n",
            "Preparing to unpack .../21-libcuinj64-11.5_11.5.114~11.5.1-1ubuntu1_amd64.deb ...\n",
            "Unpacking libcuinj64-11.5:amd64 (11.5.114~11.5.1-1ubuntu1) ...\n",
            "Selecting previously unselected package libcurand10:amd64.\n",
            "Preparing to unpack .../22-libcurand10_11.1.1+~10.2.7.107~11.5.1-1ubuntu1_amd64.deb ...\n",
            "Unpacking libcurand10:amd64 (11.1.1+~10.2.7.107~11.5.1-1ubuntu1) ...\n",
            "Selecting previously unselected package libcusolver11:amd64.\n",
            "Preparing to unpack .../23-libcusolver11_11.3.2.107~11.5.1-1ubuntu1_amd64.deb ...\n",
            "Unpacking libcusolver11:amd64 (11.3.2.107~11.5.1-1ubuntu1) ...\n",
            "Selecting previously unselected package libcusolvermg11:amd64.\n",
            "Preparing to unpack .../24-libcusolvermg11_11.3.2.107~11.5.1-1ubuntu1_amd64.deb ...\n",
            "Unpacking libcusolvermg11:amd64 (11.3.2.107~11.5.1-1ubuntu1) ...\n",
            "Selecting previously unselected package libcusparse11:amd64.\n",
            "Preparing to unpack .../25-libcusparse11_11.7.0.107~11.5.1-1ubuntu1_amd64.deb ...\n",
            "Unpacking libcusparse11:amd64 (11.7.0.107~11.5.1-1ubuntu1) ...\n",
            "Selecting previously unselected package libdebuginfod1:amd64.\n",
            "Preparing to unpack .../26-libdebuginfod1_0.186-1build1_amd64.deb ...\n",
            "Unpacking libdebuginfod1:amd64 (0.186-1build1) ...\n",
            "Selecting previously unselected package libglx-dev:amd64.\n",
            "Preparing to unpack .../27-libglx-dev_1.4.0-1_amd64.deb ...\n",
            "Unpacking libglx-dev:amd64 (1.4.0-1) ...\n",
            "Selecting previously unselected package libgl-dev:amd64.\n",
            "Preparing to unpack .../28-libgl-dev_1.4.0-1_amd64.deb ...\n",
            "Unpacking libgl-dev:amd64 (1.4.0-1) ...\n",
            "Selecting previously unselected package libegl-dev:amd64.\n",
            "Preparing to unpack .../29-libegl-dev_1.4.0-1_amd64.deb ...\n",
            "Unpacking libegl-dev:amd64 (1.4.0-1) ...\n",
            "Selecting previously unselected package libgtk2.0-common.\n",
            "Preparing to unpack .../30-libgtk2.0-common_2.24.33-2ubuntu2_all.deb ...\n",
            "Unpacking libgtk2.0-common (2.24.33-2ubuntu2) ...\n",
            "Selecting previously unselected package libgtk2.0-0:amd64.\n",
            "Preparing to unpack .../31-libgtk2.0-0_2.24.33-2ubuntu2_amd64.deb ...\n",
            "Unpacking libgtk2.0-0:amd64 (2.24.33-2ubuntu2) ...\n",
            "Selecting previously unselected package libgail18:amd64.\n",
            "Preparing to unpack .../32-libgail18_2.24.33-2ubuntu2_amd64.deb ...\n",
            "Unpacking libgail18:amd64 (2.24.33-2ubuntu2) ...\n",
            "Selecting previously unselected package libgail-common:amd64.\n",
            "Preparing to unpack .../33-libgail-common_2.24.33-2ubuntu2_amd64.deb ...\n",
            "Unpacking libgail-common:amd64 (2.24.33-2ubuntu2) ...\n",
            "Selecting previously unselected package libgles1:amd64.\n",
            "Preparing to unpack .../34-libgles1_1.4.0-1_amd64.deb ...\n",
            "Unpacking libgles1:amd64 (1.4.0-1) ...\n",
            "Selecting previously unselected package libgles-dev:amd64.\n",
            "Preparing to unpack .../35-libgles-dev_1.4.0-1_amd64.deb ...\n",
            "Unpacking libgles-dev:amd64 (1.4.0-1) ...\n",
            "Selecting previously unselected package libgtk2.0-bin.\n",
            "Preparing to unpack .../36-libgtk2.0-bin_2.24.33-2ubuntu2_amd64.deb ...\n",
            "Unpacking libgtk2.0-bin (2.24.33-2ubuntu2) ...\n",
            "Selecting previously unselected package libipt2.\n",
            "Preparing to unpack .../37-libipt2_2.0.5-1_amd64.deb ...\n",
            "Unpacking libipt2 (2.0.5-1) ...\n",
            "Selecting previously unselected package libnppc11:amd64.\n",
            "Preparing to unpack .../38-libnppc11_11.5.1.107~11.5.1-1ubuntu1_amd64.deb ...\n",
            "Unpacking libnppc11:amd64 (11.5.1.107~11.5.1-1ubuntu1) ...\n",
            "Selecting previously unselected package libnppial11:amd64.\n",
            "Preparing to unpack .../39-libnppial11_11.5.1.107~11.5.1-1ubuntu1_amd64.deb ...\n",
            "Unpacking libnppial11:amd64 (11.5.1.107~11.5.1-1ubuntu1) ...\n",
            "Selecting previously unselected package libnppicc11:amd64.\n",
            "Preparing to unpack .../40-libnppicc11_11.5.1.107~11.5.1-1ubuntu1_amd64.deb ...\n",
            "Unpacking libnppicc11:amd64 (11.5.1.107~11.5.1-1ubuntu1) ...\n",
            "Selecting previously unselected package libnppidei11:amd64.\n",
            "Preparing to unpack .../41-libnppidei11_11.5.1.107~11.5.1-1ubuntu1_amd64.deb ...\n",
            "Unpacking libnppidei11:amd64 (11.5.1.107~11.5.1-1ubuntu1) ...\n",
            "Selecting previously unselected package libnppif11:amd64.\n",
            "Preparing to unpack .../42-libnppif11_11.5.1.107~11.5.1-1ubuntu1_amd64.deb ...\n",
            "Unpacking libnppif11:amd64 (11.5.1.107~11.5.1-1ubuntu1) ...\n",
            "Selecting previously unselected package libnppig11:amd64.\n",
            "Preparing to unpack .../43-libnppig11_11.5.1.107~11.5.1-1ubuntu1_amd64.deb ...\n",
            "Unpacking libnppig11:amd64 (11.5.1.107~11.5.1-1ubuntu1) ...\n",
            "Selecting previously unselected package libnppim11:amd64.\n",
            "Preparing to unpack .../44-libnppim11_11.5.1.107~11.5.1-1ubuntu1_amd64.deb ...\n",
            "Unpacking libnppim11:amd64 (11.5.1.107~11.5.1-1ubuntu1) ...\n",
            "Selecting previously unselected package libnppist11:amd64.\n",
            "Preparing to unpack .../45-libnppist11_11.5.1.107~11.5.1-1ubuntu1_amd64.deb ...\n",
            "Unpacking libnppist11:amd64 (11.5.1.107~11.5.1-1ubuntu1) ...\n",
            "Selecting previously unselected package libnppisu11:amd64.\n",
            "Preparing to unpack .../46-libnppisu11_11.5.1.107~11.5.1-1ubuntu1_amd64.deb ...\n",
            "Unpacking libnppisu11:amd64 (11.5.1.107~11.5.1-1ubuntu1) ...\n",
            "Selecting previously unselected package libnppitc11:amd64.\n",
            "Preparing to unpack .../47-libnppitc11_11.5.1.107~11.5.1-1ubuntu1_amd64.deb ...\n",
            "Unpacking libnppitc11:amd64 (11.5.1.107~11.5.1-1ubuntu1) ...\n",
            "Selecting previously unselected package libnpps11:amd64.\n",
            "Preparing to unpack .../48-libnpps11_11.5.1.107~11.5.1-1ubuntu1_amd64.deb ...\n",
            "Unpacking libnpps11:amd64 (11.5.1.107~11.5.1-1ubuntu1) ...\n",
            "Selecting previously unselected package libnvblas11:amd64.\n",
            "Preparing to unpack .../49-libnvblas11_11.7.4.6~11.5.1-1ubuntu1_amd64.deb ...\n",
            "Unpacking libnvblas11:amd64 (11.7.4.6~11.5.1-1ubuntu1) ...\n",
            "Selecting previously unselected package libnvidia-ml-dev:amd64.\n",
            "Preparing to unpack .../50-libnvidia-ml-dev_11.5.50~11.5.1-1ubuntu1_amd64.deb ...\n",
            "Unpacking libnvidia-ml-dev:amd64 (11.5.50~11.5.1-1ubuntu1) ...\n",
            "Selecting previously unselected package libnvjpeg11:amd64.\n",
            "Preparing to unpack .../51-libnvjpeg11_11.5.4.107~11.5.1-1ubuntu1_amd64.deb ...\n",
            "Unpacking libnvjpeg11:amd64 (11.5.4.107~11.5.1-1ubuntu1) ...\n",
            "Selecting previously unselected package libnvrtc-builtins11.5:amd64.\n",
            "Preparing to unpack .../52-libnvrtc-builtins11.5_11.5.119~11.5.1-1ubuntu1_amd64.deb ...\n",
            "Unpacking libnvrtc-builtins11.5:amd64 (11.5.119~11.5.1-1ubuntu1) ...\n",
            "Selecting previously unselected package libnvrtc11.2:amd64.\n",
            "Preparing to unpack .../53-libnvrtc11.2_11.5.119~11.5.1-1ubuntu1_amd64.deb ...\n",
            "Unpacking libnvrtc11.2:amd64 (11.5.119~11.5.1-1ubuntu1) ...\n",
            "Selecting previously unselected package libnvvm4:amd64.\n",
            "Preparing to unpack .../54-libnvvm4_11.5.119~11.5.1-1ubuntu1_amd64.deb ...\n",
            "Unpacking libnvvm4:amd64 (11.5.119~11.5.1-1ubuntu1) ...\n",
            "Selecting previously unselected package libopengl-dev:amd64.\n",
            "Preparing to unpack .../55-libopengl-dev_1.4.0-1_amd64.deb ...\n",
            "Unpacking libopengl-dev:amd64 (1.4.0-1) ...\n",
            "Selecting previously unselected package libqt5core5a:amd64.\n",
            "Preparing to unpack .../56-libqt5core5a_5.15.3+dfsg-2ubuntu0.2_amd64.deb ...\n",
            "Unpacking libqt5core5a:amd64 (5.15.3+dfsg-2ubuntu0.2) ...\n",
            "Selecting previously unselected package libqt5dbus5:amd64.\n",
            "Preparing to unpack .../57-libqt5dbus5_5.15.3+dfsg-2ubuntu0.2_amd64.deb ...\n",
            "Unpacking libqt5dbus5:amd64 (5.15.3+dfsg-2ubuntu0.2) ...\n",
            "Selecting previously unselected package libqt5network5:amd64.\n",
            "Preparing to unpack .../58-libqt5network5_5.15.3+dfsg-2ubuntu0.2_amd64.deb ...\n",
            "Unpacking libqt5network5:amd64 (5.15.3+dfsg-2ubuntu0.2) ...\n",
            "Selecting previously unselected package librsvg2-common:amd64.\n",
            "Preparing to unpack .../59-librsvg2-common_2.52.5+dfsg-3ubuntu0.2_amd64.deb ...\n",
            "Unpacking librsvg2-common:amd64 (2.52.5+dfsg-3ubuntu0.2) ...\n",
            "Selecting previously unselected package libsource-highlight-common.\n",
            "Preparing to unpack .../60-libsource-highlight-common_3.1.9-4.1build2_all.deb ...\n",
            "Unpacking libsource-highlight-common (3.1.9-4.1build2) ...\n",
            "Selecting previously unselected package libsource-highlight4v5.\n",
            "Preparing to unpack .../61-libsource-highlight4v5_3.1.9-4.1build2_amd64.deb ...\n",
            "Unpacking libsource-highlight4v5 (3.1.9-4.1build2) ...\n",
            "Selecting previously unselected package libvdpau-dev:amd64.\n",
            "Preparing to unpack .../62-libvdpau-dev_1.4-3build2_amd64.deb ...\n",
            "Unpacking libvdpau-dev:amd64 (1.4-3build2) ...\n",
            "Selecting previously unselected package libxcb-xinerama0:amd64.\n",
            "Preparing to unpack .../63-libxcb-xinerama0_1.14-3ubuntu3_amd64.deb ...\n",
            "Unpacking libxcb-xinerama0:amd64 (1.14-3ubuntu3) ...\n",
            "Selecting previously unselected package libxcb-xkb1:amd64.\n",
            "Preparing to unpack .../64-libxcb-xkb1_1.14-3ubuntu3_amd64.deb ...\n",
            "Unpacking libxcb-xkb1:amd64 (1.14-3ubuntu3) ...\n",
            "Selecting previously unselected package libxkbcommon-x11-0:amd64.\n",
            "Preparing to unpack .../65-libxkbcommon-x11-0_1.4.0-1_amd64.deb ...\n",
            "Unpacking libxkbcommon-x11-0:amd64 (1.4.0-1) ...\n",
            "Selecting previously unselected package node-html5shiv.\n",
            "Preparing to unpack .../66-node-html5shiv_3.7.3+dfsg-4_all.deb ...\n",
            "Unpacking node-html5shiv (3.7.3+dfsg-4) ...\n",
            "Selecting previously unselected package nsight-compute-target:amd64.\n",
            "Preparing to unpack .../67-nsight-compute-target_2021.3.1.4~11.5.1-1ubuntu1_amd64.deb ...\n",
            "Unpacking nsight-compute-target:amd64 (2021.3.1.4~11.5.1-1ubuntu1) ...\n",
            "Selecting previously unselected package libxcb-icccm4:amd64.\n",
            "Preparing to unpack .../68-libxcb-icccm4_0.4.1-1.1build2_amd64.deb ...\n",
            "Unpacking libxcb-icccm4:amd64 (0.4.1-1.1build2) ...\n",
            "Selecting previously unselected package libxcb-util1:amd64.\n",
            "Preparing to unpack .../69-libxcb-util1_0.4.0-1build2_amd64.deb ...\n",
            "Unpacking libxcb-util1:amd64 (0.4.0-1build2) ...\n",
            "Selecting previously unselected package libxcb-image0:amd64.\n",
            "Preparing to unpack .../70-libxcb-image0_0.4.0-2_amd64.deb ...\n",
            "Unpacking libxcb-image0:amd64 (0.4.0-2) ...\n",
            "Selecting previously unselected package libxcb-keysyms1:amd64.\n",
            "Preparing to unpack .../71-libxcb-keysyms1_0.4.0-1build3_amd64.deb ...\n",
            "Unpacking libxcb-keysyms1:amd64 (0.4.0-1build3) ...\n",
            "Selecting previously unselected package libxcb-render-util0:amd64.\n",
            "Preparing to unpack .../72-libxcb-render-util0_0.3.9-1build3_amd64.deb ...\n",
            "Unpacking libxcb-render-util0:amd64 (0.3.9-1build3) ...\n",
            "Selecting previously unselected package nsight-compute.\n",
            "Preparing to unpack .../73-nsight-compute_2021.3.1.4~11.5.1-1ubuntu1_amd64.deb ...\n",
            "Unpacking nsight-compute (2021.3.1.4~11.5.1-1ubuntu1) ...\n",
            "Selecting previously unselected package nsight-systems-target:amd64.\n",
            "Preparing to unpack .../74-nsight-systems-target_2021.3.3.2~11.5.1-1ubuntu1_amd64.deb ...\n",
            "Unpacking nsight-systems-target:amd64 (2021.3.3.2~11.5.1-1ubuntu1) ...\n",
            "Selecting previously unselected package nsight-systems.\n",
            "Preparing to unpack .../75-nsight-systems_2021.3.3.2~11.5.1-1ubuntu1_amd64.deb ...\n",
            "Unpacking nsight-systems (2021.3.3.2~11.5.1-1ubuntu1) ...\n",
            "Selecting previously unselected package nvidia-cuda-toolkit-doc.\n",
            "Preparing to unpack .../76-nvidia-cuda-toolkit-doc_11.5.1-1ubuntu1_all.deb ...\n",
            "Unpacking nvidia-cuda-toolkit-doc (11.5.1-1ubuntu1) ...\n",
            "Selecting previously unselected package openjdk-8-jre-headless:amd64.\n",
            "Preparing to unpack .../77-openjdk-8-jre-headless_8u382-ga-1~22.04.1_amd64.deb ...\n",
            "Unpacking openjdk-8-jre-headless:amd64 (8u382-ga-1~22.04.1) ...\n",
            "Selecting previously unselected package openjdk-8-jre:amd64.\n",
            "Preparing to unpack .../78-openjdk-8-jre_8u382-ga-1~22.04.1_amd64.deb ...\n",
            "Unpacking openjdk-8-jre:amd64 (8u382-ga-1~22.04.1) ...\n",
            "Selecting previously unselected package qttranslations5-l10n.\n",
            "Preparing to unpack .../79-qttranslations5-l10n_5.15.3-1_all.deb ...\n",
            "Unpacking qttranslations5-l10n (5.15.3-1) ...\n",
            "Selecting previously unselected package libbabeltrace1:amd64.\n",
            "Preparing to unpack .../80-libbabeltrace1_1.5.8-2build1_amd64.deb ...\n",
            "Unpacking libbabeltrace1:amd64 (1.5.8-2build1) ...\n",
            "Selecting previously unselected package libcupti-dev:amd64.\n",
            "Preparing to unpack .../81-libcupti-dev_11.5.114~11.5.1-1ubuntu1_amd64.deb ...\n",
            "Unpacking libcupti-dev:amd64 (11.5.114~11.5.1-1ubuntu1) ...\n",
            "Selecting previously unselected package libcupti-doc.\n",
            "Preparing to unpack .../82-libcupti-doc_11.5.114~11.5.1-1ubuntu1_all.deb ...\n",
            "Unpacking libcupti-doc (11.5.114~11.5.1-1ubuntu1) ...\n",
            "Selecting previously unselected package libglvnd-core-dev:amd64.\n",
            "Preparing to unpack .../83-libglvnd-core-dev_1.4.0-1_amd64.deb ...\n",
            "Unpacking libglvnd-core-dev:amd64 (1.4.0-1) ...\n",
            "Selecting previously unselected package libglvnd-dev:amd64.\n",
            "Preparing to unpack .../84-libglvnd-dev_1.4.0-1_amd64.deb ...\n",
            "Unpacking libglvnd-dev:amd64 (1.4.0-1) ...\n",
            "Selecting previously unselected package libgl1-mesa-dev:amd64.\n",
            "Preparing to unpack .../85-libgl1-mesa-dev_23.0.4-0ubuntu1~22.04.1_amd64.deb ...\n",
            "Unpacking libgl1-mesa-dev:amd64 (23.0.4-0ubuntu1~22.04.1) ...\n",
            "Selecting previously unselected package libnvtoolsext1:amd64.\n",
            "Preparing to unpack .../86-libnvtoolsext1_11.5.114~11.5.1-1ubuntu1_amd64.deb ...\n",
            "Unpacking libnvtoolsext1:amd64 (11.5.114~11.5.1-1ubuntu1) ...\n",
            "Selecting previously unselected package libthrust-dev.\n",
            "Preparing to unpack .../87-libthrust-dev_1.15.0-1_all.deb ...\n",
            "Unpacking libthrust-dev (1.15.0-1) ...\n",
            "Selecting previously unselected package nvidia-cuda-dev:amd64.\n",
            "Preparing to unpack .../88-nvidia-cuda-dev_11.5.1-1ubuntu1_amd64.deb ...\n",
            "Unpacking nvidia-cuda-dev:amd64 (11.5.1-1ubuntu1) ...\n",
            "Selecting previously unselected package nvidia-cuda-gdb.\n",
            "Preparing to unpack .../89-nvidia-cuda-gdb_11.5.114~11.5.1-1ubuntu1_amd64.deb ...\n",
            "Unpacking nvidia-cuda-gdb (11.5.114~11.5.1-1ubuntu1) ...\n",
            "Selecting previously unselected package nvidia-profiler.\n",
            "Preparing to unpack .../90-nvidia-profiler_11.5.114~11.5.1-1ubuntu1_amd64.deb ...\n",
            "Unpacking nvidia-profiler (11.5.114~11.5.1-1ubuntu1) ...\n",
            "Selecting previously unselected package opencl-c-headers.\n",
            "Preparing to unpack .../91-opencl-c-headers_3.0~2022.01.04-1_all.deb ...\n",
            "Unpacking opencl-c-headers (3.0~2022.01.04-1) ...\n",
            "Selecting previously unselected package opencl-clhpp-headers.\n",
            "Preparing to unpack .../92-opencl-clhpp-headers_3.0~2.0.15-1ubuntu1_all.deb ...\n",
            "Unpacking opencl-clhpp-headers (3.0~2.0.15-1ubuntu1) ...\n",
            "Selecting previously unselected package ocl-icd-opencl-dev:amd64.\n",
            "Preparing to unpack .../93-ocl-icd-opencl-dev_2.2.14-3_amd64.deb ...\n",
            "Unpacking ocl-icd-opencl-dev:amd64 (2.2.14-3) ...\n",
            "Selecting previously unselected package nvidia-opencl-dev:amd64.\n",
            "Preparing to unpack .../94-nvidia-opencl-dev_11.5.1-1ubuntu1_amd64.deb ...\n",
            "Unpacking nvidia-opencl-dev:amd64 (11.5.1-1ubuntu1) ...\n",
            "Selecting previously unselected package nvidia-cuda-toolkit.\n",
            "Preparing to unpack .../95-nvidia-cuda-toolkit_11.5.1-1ubuntu1_amd64.deb ...\n",
            "Unpacking nvidia-cuda-toolkit (11.5.1-1ubuntu1) ...\n",
            "Selecting previously unselected package nvidia-visual-profiler.\n",
            "Preparing to unpack .../96-nvidia-visual-profiler_11.5.114~11.5.1-1ubuntu1_amd64.deb ...\n",
            "Unpacking nvidia-visual-profiler (11.5.114~11.5.1-1ubuntu1) ...\n",
            "Setting up libcusparse11:amd64 (11.7.0.107~11.5.1-1ubuntu1) ...\n",
            "Setting up libglvnd-core-dev:amd64 (1.4.0-1) ...\n",
            "Setting up libdebuginfod-common (0.186-1build1) ...\n",
            "\n",
            "Creating config file /etc/profile.d/debuginfod.sh with new version\n",
            "\n",
            "Creating config file /etc/profile.d/debuginfod.csh with new version\n",
            "Setting up libnppc11:amd64 (11.5.1.107~11.5.1-1ubuntu1) ...\n",
            "Setting up libxtst6:amd64 (2:1.2.3-1build4) ...\n",
            "Setting up libdebuginfod1:amd64 (0.186-1build1) ...\n",
            "Setting up libxcb-keysyms1:amd64 (0.4.0-1build3) ...\n",
            "Setting up node-html5shiv (3.7.3+dfsg-4) ...\n",
            "Setting up libxxf86dga1:amd64 (2:1.1.5-0ubuntu3) ...\n",
            "Setting up libcupti-doc (11.5.114~11.5.1-1ubuntu1) ...\n",
            "Setting up libxcb-render-util0:amd64 (0.3.9-1build3) ...\n",
            "Setting up libxcb-icccm4:amd64 (0.4.1-1.1build2) ...\n",
            "Setting up libsource-highlight-common (3.1.9-4.1build2) ...\n",
            "Setting up libcudart11.0:amd64 (11.5.117~11.5.1-1ubuntu1) ...\n",
            "Setting up libnppisu11:amd64 (11.5.1.107~11.5.1-1ubuntu1) ...\n",
            "Setting up libxcb-util1:amd64 (0.4.0-1build2) ...\n",
            "Setting up libxcb-xkb1:amd64 (1.14-3ubuntu3) ...\n",
            "Setting up libxcb-image0:amd64 (0.4.0-2) ...\n",
            "Setting up libnppicc11:amd64 (11.5.1.107~11.5.1-1ubuntu1) ...\n",
            "Setting up libnvjpeg11:amd64 (11.5.4.107~11.5.1-1ubuntu1) ...\n",
            "Setting up libfontenc1:amd64 (1:1.1.4-1build3) ...\n",
            "Setting up libxcb-xinerama0:amd64 (1.14-3ubuntu3) ...\n",
            "Setting up libcublaslt11:amd64 (11.7.4.6~11.5.1-1ubuntu1) ...\n",
            "Setting up qttranslations5-l10n (5.15.3-1) ...\n",
            "Setting up nsight-compute-target:amd64 (2021.3.1.4~11.5.1-1ubuntu1) ...\n",
            "Setting up libgles1:amd64 (1.4.0-1) ...\n",
            "Setting up libxkbcommon-x11-0:amd64 (1.4.0-1) ...\n",
            "Setting up libcupti11.5:amd64 (11.5.114~11.5.1-1ubuntu1) ...\n",
            "Setting up openjdk-8-jre-headless:amd64 (8u382-ga-1~22.04.1) ...\n",
            "update-alternatives: using /usr/lib/jvm/java-8-openjdk-amd64/jre/bin/orbd to provide /usr/bin/orbd (orbd) in auto mode\n",
            "update-alternatives: using /usr/lib/jvm/java-8-openjdk-amd64/jre/bin/servertool to provide /usr/bin/servertool (servertool) in auto mode\n",
            "update-alternatives: using /usr/lib/jvm/java-8-openjdk-amd64/jre/bin/tnameserv to provide /usr/bin/tnameserv (tnameserv) in auto mode\n",
            "Setting up libipt2 (2.0.5-1) ...\n",
            "Setting up fonts-dejavu-core (2.37-2build1) ...\n",
            "Setting up librsvg2-common:amd64 (2.52.5+dfsg-3ubuntu0.2) ...\n",
            "Setting up libqt5core5a:amd64 (5.15.3+dfsg-2ubuntu0.2) ...\n",
            "Setting up opencl-c-headers (3.0~2022.01.04-1) ...\n",
            "Setting up libbabeltrace1:amd64 (1.5.8-2build1) ...\n",
            "Setting up libnpps11:amd64 (11.5.1.107~11.5.1-1ubuntu1) ...\n",
            "Setting up libnppim11:amd64 (11.5.1.107~11.5.1-1ubuntu1) ...\n",
            "Setting up libcufft10:amd64 (11.1.1+~10.6.0.107~11.5.1-1ubuntu1) ...\n",
            "Setting up fonts-dejavu-extra (2.37-2build1) ...\n",
            "Setting up libnppitc11:amd64 (11.5.1.107~11.5.1-1ubuntu1) ...\n",
            "Setting up libnppist11:amd64 (11.5.1.107~11.5.1-1ubuntu1) ...\n",
            "Setting up libqt5dbus5:amd64 (5.15.3+dfsg-2ubuntu0.2) ...\n",
            "Setting up libglx-dev:amd64 (1.4.0-1) ...\n",
            "Setting up libnvidia-compute-525:amd64 (525.147.05-0ubuntu0.22.04.1) ...\n",
            "Setting up libgtk2.0-common (2.24.33-2ubuntu2) ...\n",
            "Setting up libnvvm4:amd64 (11.5.119~11.5.1-1ubuntu1) ...\n",
            "Setting up libvdpau-dev:amd64 (1.4-3build2) ...\n",
            "Setting up libxkbfile1:amd64 (1:1.1.0-1build3) ...\n",
            "Setting up libnvtoolsext1:amd64 (11.5.114~11.5.1-1ubuntu1) ...\n",
            "Setting up libcub-dev (1.15.0-3) ...\n",
            "Setting up libopengl-dev:amd64 (1.4.0-1) ...\n",
            "Setting up nvidia-cuda-toolkit-doc (11.5.1-1ubuntu1) ...\n",
            "Setting up libaccinj64-11.5:amd64 (11.5.114~11.5.1-1ubuntu1) ...\n",
            "Setting up libnppig11:amd64 (11.5.1.107~11.5.1-1ubuntu1) ...\n",
            "Setting up libgl-dev:amd64 (1.4.0-1) ...\n",
            "Setting up libcurand10:amd64 (11.1.1+~10.2.7.107~11.5.1-1ubuntu1) ...\n",
            "Setting up libsource-highlight4v5 (3.1.9-4.1build2) ...\n",
            "Setting up libnvrtc-builtins11.5:amd64 (11.5.119~11.5.1-1ubuntu1) ...\n",
            "Setting up libnppidei11:amd64 (11.5.1.107~11.5.1-1ubuntu1) ...\n",
            "Setting up libthrust-dev (1.15.0-1) ...\n",
            "Setting up libnppial11:amd64 (11.5.1.107~11.5.1-1ubuntu1) ...\n",
            "Setting up libnppif11:amd64 (11.5.1.107~11.5.1-1ubuntu1) ...\n",
            "Setting up libcuinj64-11.5:amd64 (11.5.114~11.5.1-1ubuntu1) ...\n",
            "Setting up libcufftw10:amd64 (11.1.1+~10.6.0.107~11.5.1-1ubuntu1) ...\n",
            "Setting up libcublas11:amd64 (11.7.4.6~11.5.1-1ubuntu1) ...\n",
            "Setting up libnvidia-ml-dev:amd64 (11.5.50~11.5.1-1ubuntu1) ...\n",
            "Setting up nvidia-cuda-gdb (11.5.114~11.5.1-1ubuntu1) ...\n",
            "Setting up libegl-dev:amd64 (1.4.0-1) ...\n",
            "Setting up libgtk2.0-0:amd64 (2.24.33-2ubuntu2) ...\n",
            "Setting up libnvidia-compute-510:amd64 (525.147.05-0ubuntu0.22.04.1) ...\n",
            "Setting up libcupti-dev:amd64 (11.5.114~11.5.1-1ubuntu1) ...\n",
            "Setting up libnvidia-compute-495:amd64 (510.108.03-0ubuntu0.22.04.1) ...\n",
            "Setting up libqt5network5:amd64 (5.15.3+dfsg-2ubuntu0.2) ...\n",
            "Setting up nsight-systems-target:amd64 (2021.3.3.2~11.5.1-1ubuntu1) ...\n",
            "Setting up nvidia-profiler (11.5.114~11.5.1-1ubuntu1) ...\n",
            "Setting up libnvblas11:amd64 (11.7.4.6~11.5.1-1ubuntu1) ...\n",
            "Setting up libcusolver11:amd64 (11.3.2.107~11.5.1-1ubuntu1) ...\n",
            "Setting up libnvrtc11.2:amd64 (11.5.119~11.5.1-1ubuntu1) ...\n",
            "Setting up opencl-clhpp-headers (3.0~2.0.15-1ubuntu1) ...\n",
            "Setting up libcusolvermg11:amd64 (11.3.2.107~11.5.1-1ubuntu1) ...\n",
            "Setting up ocl-icd-opencl-dev:amd64 (2.2.14-3) ...\n",
            "Setting up libgail18:amd64 (2.24.33-2ubuntu2) ...\n",
            "Setting up libgtk2.0-bin (2.24.33-2ubuntu2) ...\n",
            "Setting up nsight-systems (2021.3.3.2~11.5.1-1ubuntu1) ...\n",
            "Setting up x11-utils (7.7+5build2) ...\n",
            "Setting up libatk-wrapper-java (0.38.0-5build1) ...\n",
            "Setting up libgles-dev:amd64 (1.4.0-1) ...\n",
            "Setting up libgail-common:amd64 (2.24.33-2ubuntu2) ...\n",
            "Setting up nvidia-cuda-dev:amd64 (11.5.1-1ubuntu1) ...\n",
            "Setting up nsight-compute (2021.3.1.4~11.5.1-1ubuntu1) ...\n",
            "Setting up libglvnd-dev:amd64 (1.4.0-1) ...\n",
            "Setting up libatk-wrapper-java-jni:amd64 (0.38.0-5build1) ...\n",
            "Setting up nvidia-cuda-toolkit (11.5.1-1ubuntu1) ...\n",
            "Setting up nvidia-opencl-dev:amd64 (11.5.1-1ubuntu1) ...\n",
            "Setting up libgl1-mesa-dev:amd64 (23.0.4-0ubuntu1~22.04.1) ...\n",
            "Setting up openjdk-8-jre:amd64 (8u382-ga-1~22.04.1) ...\n",
            "update-alternatives: using /usr/lib/jvm/java-8-openjdk-amd64/jre/bin/policytool to provide /usr/bin/policytool (policytool) in auto mode\n",
            "Setting up nvidia-visual-profiler (11.5.114~11.5.1-1ubuntu1) ...\n",
            "Processing triggers for libgdk-pixbuf-2.0-0:amd64 (2.42.8+dfsg-1ubuntu0.2) ...\n",
            "Processing triggers for fontconfig (2.13.1-4.2ubuntu5) ...\n",
            "Processing triggers for hicolor-icon-theme (0.17-2) ...\n",
            "Processing triggers for libc-bin (2.35-0ubuntu3.1) ...\n",
            "/sbin/ldconfig.real: /usr/local/lib/libtbbmalloc.so.2 is not a symbolic link\n",
            "\n",
            "/sbin/ldconfig.real: /usr/local/lib/libtbbbind.so.3 is not a symbolic link\n",
            "\n",
            "/sbin/ldconfig.real: /usr/local/lib/libtbb.so.12 is not a symbolic link\n",
            "\n",
            "/sbin/ldconfig.real: /usr/local/lib/libtbbbind_2_0.so.3 is not a symbolic link\n",
            "\n",
            "/sbin/ldconfig.real: /usr/local/lib/libtbbbind_2_5.so.3 is not a symbolic link\n",
            "\n",
            "/sbin/ldconfig.real: /usr/local/lib/libtbbmalloc_proxy.so.2 is not a symbolic link\n",
            "\n",
            "Processing triggers for man-db (2.10.2-1) ...\n",
            "Reading package lists... Done\n",
            "Building dependency tree... Done\n",
            "Reading state information... Done\n",
            "nvidia-cuda-dev is already the newest version (11.5.1-1ubuntu1).\n",
            "nvidia-cuda-dev set to manually installed.\n",
            "0 upgraded, 0 newly installed, 0 to remove and 18 not upgraded.\n"
          ]
        }
      ]
    },
    {
      "cell_type": "code",
      "metadata": {
        "id": "GaS0D8MY-cF_",
        "outputId": "c560dc0a-83d0-449f-8c13-524826f6d8ee",
        "colab": {
          "base_uri": "https://localhost:8080/"
        }
      },
      "source": [
        "!nvcc --version\n"
      ],
      "execution_count": null,
      "outputs": [
        {
          "output_type": "stream",
          "name": "stdout",
          "text": [
            "nvcc: NVIDIA (R) Cuda compiler driver\n",
            "Copyright (c) 2005-2022 NVIDIA Corporation\n",
            "Built on Wed_Sep_21_10:33:58_PDT_2022\n",
            "Cuda compilation tools, release 11.8, V11.8.89\n",
            "Build cuda_11.8.r11.8/compiler.31833905_0\n"
          ]
        }
      ]
    },
    {
      "cell_type": "code",
      "source": [],
      "metadata": {
        "id": "bQXj6YdUyn10"
      },
      "execution_count": null,
      "outputs": []
    },
    {
      "cell_type": "code",
      "metadata": {
        "id": "6bi7t0QM-r46",
        "outputId": "5ee268ad-8c81-482f-cd2d-693602a0a07c",
        "colab": {
          "base_uri": "https://localhost:8080/"
        }
      },
      "source": [
        "!pip3 install git+https://github.com/andreinechaev/nvcc4jupyter.git\n"
      ],
      "execution_count": null,
      "outputs": [
        {
          "output_type": "stream",
          "name": "stdout",
          "text": [
            "Collecting git+https://github.com/andreinechaev/nvcc4jupyter.git\n",
            "  Cloning https://github.com/andreinechaev/nvcc4jupyter.git to /tmp/pip-req-build-wz_2t3dn\n",
            "  Running command git clone --filter=blob:none --quiet https://github.com/andreinechaev/nvcc4jupyter.git /tmp/pip-req-build-wz_2t3dn\n",
            "  Resolved https://github.com/andreinechaev/nvcc4jupyter.git to commit 0a71d56e5dce3ff1f0dd2c47c29367629262f527\n",
            "  Preparing metadata (setup.py) ... \u001b[?25l\u001b[?25hdone\n",
            "Building wheels for collected packages: NVCCPlugin\n",
            "  Building wheel for NVCCPlugin (setup.py) ... \u001b[?25l\u001b[?25hdone\n",
            "  Created wheel for NVCCPlugin: filename=NVCCPlugin-0.0.2-py3-none-any.whl size=4295 sha256=25a3d4e3fde5c4c94c4b711270ccd1483cf908c8f635569c0046185b26005497\n",
            "  Stored in directory: /tmp/pip-ephem-wheel-cache-6e2ht8yv/wheels/a8/b9/18/23f8ef71ceb0f63297dd1903aedd067e6243a68ea756d6feea\n",
            "Successfully built NVCCPlugin\n",
            "Installing collected packages: NVCCPlugin\n",
            "Successfully installed NVCCPlugin-0.0.2\n"
          ]
        }
      ]
    },
    {
      "cell_type": "code",
      "metadata": {
        "id": "8pXvMHlO-7BV",
        "outputId": "ce77c20a-d259-4523-c5d7-c9cbbf4a1b3a",
        "colab": {
          "base_uri": "https://localhost:8080/"
        }
      },
      "source": [
        "%load_ext nvcc_plugin\n"
      ],
      "execution_count": null,
      "outputs": [
        {
          "output_type": "stream",
          "name": "stdout",
          "text": [
            "created output directory at /content/src\n",
            "Out bin /content/result.out\n"
          ]
        }
      ]
    },
    {
      "cell_type": "code",
      "source": [
        "!ls /usr/local/cuda/"
      ],
      "metadata": {
        "id": "aWKX7fEBypVP",
        "outputId": "4e84b3f2-6708-4128-c291-e9026b578ff0",
        "colab": {
          "base_uri": "https://localhost:8080/"
        }
      },
      "execution_count": null,
      "outputs": [
        {
          "output_type": "stream",
          "name": "stdout",
          "text": [
            "include  lib64\tsrc  targets\n"
          ]
        }
      ]
    },
    {
      "cell_type": "code",
      "source": [
        "!ls /usr/bin | grep nv"
      ],
      "metadata": {
        "id": "uuiNRVZfzB7w",
        "outputId": "7039262f-7310-420f-f8bc-373e34bac7fb",
        "colab": {
          "base_uri": "https://localhost:8080/"
        }
      },
      "execution_count": null,
      "outputs": [
        {
          "output_type": "stream",
          "name": "stdout",
          "text": [
            "dbus-update-activation-environment\n",
            "deb-systemd-invoke\n",
            "env\n",
            "gencnval\n",
            "iconv\n",
            "makeconv\n",
            "nvcc\n",
            "nvdisasm\n",
            "nvidia-bug-report.sh\n",
            "nvidia-cuda-mps-control\n",
            "nvidia-cuda-mps-server\n",
            "nvidia-debugdump\n",
            "nvidia-installer\n",
            "nvidia-modprobe\n",
            "nvidia-ngx-updater\n",
            "nvidia-persistenced\n",
            "nvidia-powerd\n",
            "nvidia-settings\n",
            "nvidia-sleep.sh\n",
            "nvidia-smi\n",
            "nvidia-uninstall\n",
            "nvidia-xconfig\n",
            "nvlink\n",
            "nv-nsight-cu\n",
            "nv-nsight-cu-cli\n",
            "nvprof\n",
            "nvprune\n",
            "nvvp\n",
            "piconv\n",
            "preconv\n",
            "printenv\n",
            "uconv\n"
          ]
        }
      ]
    },
    {
      "cell_type": "code",
      "source": [
        "!git clone https://github.com/NVIDIA/cuda-samples"
      ],
      "metadata": {
        "id": "zIYRES9Lz80R",
        "outputId": "ceb8ff04-9b06-4d85-f31c-88530cf21449",
        "colab": {
          "base_uri": "https://localhost:8080/"
        }
      },
      "execution_count": null,
      "outputs": [
        {
          "output_type": "stream",
          "name": "stdout",
          "text": [
            "Cloning into 'cuda-samples'...\n",
            "remote: Enumerating objects: 16830, done.\u001b[K\n",
            "remote: Counting objects: 100% (2488/2488), done.\u001b[K\n",
            "remote: Compressing objects: 100% (322/322), done.\u001b[K\n",
            "remote: Total 16830 (delta 2211), reused 2190 (delta 2166), pack-reused 14342\u001b[K\n",
            "Receiving objects: 100% (16830/16830), 133.20 MiB | 22.55 MiB/s, done.\n",
            "Resolving deltas: 100% (14273/14273), done.\n",
            "Updating files: 100% (3997/3997), done.\n"
          ]
        }
      ]
    },
    {
      "cell_type": "code",
      "source": [
        "%%cuda --name /content/cuda-samples/Samples/0_Introduction/simplePrintf/simplePrintf.cu --compile false"
      ],
      "metadata": {
        "id": "MZWoF8ed1C0r",
        "outputId": "e3eaef2a-d1f8-4f1c-ea92-47056b6ba2bb",
        "colab": {
          "base_uri": "https://localhost:8080/"
        }
      },
      "execution_count": null,
      "outputs": [
        {
          "output_type": "stream",
          "name": "stdout",
          "text": [
            "/usr/bin/ld: /usr/lib/gcc/x86_64-linux-gnu/11/../../../x86_64-linux-gnu/Scrt1.o: in function `_start':\n",
            "(.text+0x1b): undefined reference to `main'\n",
            "collect2: error: ld returned 1 exit status\n",
            "\n"
          ]
        }
      ]
    },
    {
      "cell_type": "code",
      "source": [
        "!git clone https://github.com/welcheb/CUDA_examples.git"
      ],
      "metadata": {
        "id": "oqx2SDU91pHp",
        "outputId": "82f5cb81-41a0-4d1a-c044-1dff6cd85a08",
        "colab": {
          "base_uri": "https://localhost:8080/"
        }
      },
      "execution_count": 2,
      "outputs": [
        {
          "output_type": "stream",
          "name": "stdout",
          "text": [
            "Cloning into 'CUDA_examples'...\n",
            "remote: Enumerating objects: 40, done.\u001b[K\n",
            "remote: Total 40 (delta 0), reused 0 (delta 0), pack-reused 40\u001b[K\n",
            "Receiving objects: 100% (40/40), 10.53 MiB | 15.98 MiB/s, done.\n",
            "Resolving deltas: 100% (10/10), done.\n"
          ]
        }
      ]
    },
    {
      "cell_type": "code",
      "source": [
        "!nvcc /content/CUDA_examples/devicequery2.cu"
      ],
      "metadata": {
        "id": "NlRFQeqy2GpA",
        "outputId": "ee5cdf40-e32d-4533-8119-434b9044bf58",
        "colab": {
          "base_uri": "https://localhost:8080/"
        }
      },
      "execution_count": 3,
      "outputs": [
        {
          "output_type": "stream",
          "name": "stdout",
          "text": [
            "\u001b[01m\u001b[K/content/CUDA_examples/devicequery2.cu:\u001b[m\u001b[K In function ‘\u001b[01m\u001b[Kint main(int, char**)\u001b[m\u001b[K’:\n",
            "\u001b[01m\u001b[K/content/CUDA_examples/devicequery2.cu:20:15:\u001b[m\u001b[K \u001b[01;35m\u001b[Kwarning: \u001b[m\u001b[Kformat ‘\u001b[01m\u001b[K%d\u001b[m\u001b[K’ expects argument of type ‘\u001b[01m\u001b[Kint\u001b[m\u001b[K’, but argument 2 has type ‘\u001b[01m\u001b[Ksize_t\u001b[m\u001b[K’ {aka ‘\u001b[01m\u001b[Klong unsigned int\u001b[m\u001b[K’} [\u001b[01;35m\u001b[K\u001b]8;;https://gcc.gnu.org/onlinedocs/gcc/Warning-Options.html#index-Wformat=\u0007-Wformat=\u001b]8;;\u0007\u001b[m\u001b[K]\n",
            "   20 |         printf\u001b[01;35m\u001b[K(\"totalGlobalMem: %d B = %d MB\\n\u001b[m\u001b[K\",\u001b[32m\u001b[K deviceProp.totalGlobalMe\u001b[m\u001b[Km, deviceProp.totalGlobalMem / 1048576);\n",
            "      |               \u001b[01;35m\u001b[K^~~~~~~~~~~~~~~~~~~~~~~~~~~~~~~~\u001b[m\u001b[K  \u001b[32m\u001b[K~~~~~~~~~~~~~~~~~~~~~~~~~\u001b[m\u001b[K\n",
            "      |                                                            \u001b[32m\u001b[K|\u001b[m\u001b[K\n",
            "      |                                                            \u001b[32m\u001b[Ksize_t {aka long unsigned int}\u001b[m\u001b[K\n",
            "\u001b[01m\u001b[K/content/CUDA_examples/devicequery2.cu:20:15:\u001b[m\u001b[K \u001b[01;35m\u001b[Kwarning: \u001b[m\u001b[Kformat ‘\u001b[01m\u001b[K%d\u001b[m\u001b[K’ expects argument of type ‘\u001b[01m\u001b[Kint\u001b[m\u001b[K’, but argument 3 has type ‘\u001b[01m\u001b[Ksize_t\u001b[m\u001b[K’ {aka ‘\u001b[01m\u001b[Klong unsigned int\u001b[m\u001b[K’} [\u001b[01;35m\u001b[K\u001b]8;;https://gcc.gnu.org/onlinedocs/gcc/Warning-Options.html#index-Wformat=\u0007-Wformat=\u001b]8;;\u0007\u001b[m\u001b[K]\n",
            "   20 |         printf\u001b[01;35m\u001b[K(\"totalGlobalMem: %d B = %d MB\\n\u001b[m\u001b[K\", deviceProp.totalGlobalMem,\u001b[32m\u001b[K deviceProp.totalGlobalMem / 1048576);\u001b[m\u001b[K\n",
            "      |               \u001b[01;35m\u001b[K^~~~~~~~~~~~~~~~~~~~~~~~~~~~~~~~\u001b[m\u001b[K                             \u001b[32m\u001b[K~~~~~~~~~~~~~~~~~~~~~~~~~~~~~~~~~~~~~~\u001b[m\u001b[K \n",
            "      |                                                                                                        \u001b[32m\u001b[K|\u001b[m\u001b[K\n",
            "      |                                                                                                        \u001b[32m\u001b[Ksize_t {aka long unsigned int}\u001b[m\u001b[K\n",
            "\u001b[01m\u001b[K/content/CUDA_examples/devicequery2.cu:21:15:\u001b[m\u001b[K \u001b[01;35m\u001b[Kwarning: \u001b[m\u001b[Kformat ‘\u001b[01m\u001b[K%d\u001b[m\u001b[K’ expects argument of type ‘\u001b[01m\u001b[Kint\u001b[m\u001b[K’, but argument 2 has type ‘\u001b[01m\u001b[Ksize_t\u001b[m\u001b[K’ {aka ‘\u001b[01m\u001b[Klong unsigned int\u001b[m\u001b[K’} [\u001b[01;35m\u001b[K\u001b]8;;https://gcc.gnu.org/onlinedocs/gcc/Warning-Options.html#index-Wformat=\u0007-Wformat=\u001b]8;;\u0007\u001b[m\u001b[K]\n",
            "   21 |         printf\u001b[01;35m\u001b[K(\"sharedMemPerBlock: %d B = %d KB\\n\u001b[m\u001b[K\",\u001b[32m\u001b[K deviceProp.sharedMemPerBloc\u001b[m\u001b[Kk, deviceProp.sharedMemPerBlock / 1024);\n",
            "      |               \u001b[01;35m\u001b[K^~~~~~~~~~~~~~~~~~~~~~~~~~~~~~~~~~~\u001b[m\u001b[K  \u001b[32m\u001b[K~~~~~~~~~~~~~~~~~~~~~~~~~~~~\u001b[m\u001b[K\n",
            "      |                                                               \u001b[32m\u001b[K|\u001b[m\u001b[K\n",
            "      |                                                               \u001b[32m\u001b[Ksize_t {aka long unsigned int}\u001b[m\u001b[K\n",
            "\u001b[01m\u001b[K/content/CUDA_examples/devicequery2.cu:21:15:\u001b[m\u001b[K \u001b[01;35m\u001b[Kwarning: \u001b[m\u001b[Kformat ‘\u001b[01m\u001b[K%d\u001b[m\u001b[K’ expects argument of type ‘\u001b[01m\u001b[Kint\u001b[m\u001b[K’, but argument 3 has type ‘\u001b[01m\u001b[Ksize_t\u001b[m\u001b[K’ {aka ‘\u001b[01m\u001b[Klong unsigned int\u001b[m\u001b[K’} [\u001b[01;35m\u001b[K\u001b]8;;https://gcc.gnu.org/onlinedocs/gcc/Warning-Options.html#index-Wformat=\u0007-Wformat=\u001b]8;;\u0007\u001b[m\u001b[K]\n",
            "   21 |         printf\u001b[01;35m\u001b[K(\"sharedMemPerBlock: %d B = %d KB\\n\u001b[m\u001b[K\", deviceProp.sharedMemPerBlock,\u001b[32m\u001b[K deviceProp.sharedMemPerBlock / 1024);\u001b[m\u001b[K\n",
            "      |               \u001b[01;35m\u001b[K^~~~~~~~~~~~~~~~~~~~~~~~~~~~~~~~~~~\u001b[m\u001b[K                                \u001b[32m\u001b[K~~~~~~~~~~~~~~~~~~~~~~~~~~~~~~~~~~~~~~\u001b[m\u001b[K \n",
            "      |                                                                                                                 \u001b[32m\u001b[K|\u001b[m\u001b[K\n",
            "      |                                                                                                                 \u001b[32m\u001b[Ksize_t {aka long unsigned int}\u001b[m\u001b[K\n",
            "\u001b[01m\u001b[K/content/CUDA_examples/devicequery2.cu:22:15:\u001b[m\u001b[K \u001b[01;35m\u001b[Kwarning: \u001b[m\u001b[Kformat ‘\u001b[01m\u001b[K%d\u001b[m\u001b[K’ expects argument of type ‘\u001b[01m\u001b[Kint\u001b[m\u001b[K’, but argument 2 has type ‘\u001b[01m\u001b[Ksize_t\u001b[m\u001b[K’ {aka ‘\u001b[01m\u001b[Klong unsigned int\u001b[m\u001b[K’} [\u001b[01;35m\u001b[K\u001b]8;;https://gcc.gnu.org/onlinedocs/gcc/Warning-Options.html#index-Wformat=\u0007-Wformat=\u001b]8;;\u0007\u001b[m\u001b[K]\n",
            "   22 |         printf\u001b[01;35m\u001b[K(\"totalConstMem: %d B = %d KB\\n\u001b[m\u001b[K\",\u001b[32m\u001b[K deviceProp.totalConstMe\u001b[m\u001b[Km, deviceProp.totalConstMem / 1024);\n",
            "      |               \u001b[01;35m\u001b[K^~~~~~~~~~~~~~~~~~~~~~~~~~~~~~~\u001b[m\u001b[K  \u001b[32m\u001b[K~~~~~~~~~~~~~~~~~~~~~~~~\u001b[m\u001b[K\n",
            "      |                                                           \u001b[32m\u001b[K|\u001b[m\u001b[K\n",
            "      |                                                           \u001b[32m\u001b[Ksize_t {aka long unsigned int}\u001b[m\u001b[K\n",
            "\u001b[01m\u001b[K/content/CUDA_examples/devicequery2.cu:22:15:\u001b[m\u001b[K \u001b[01;35m\u001b[Kwarning: \u001b[m\u001b[Kformat ‘\u001b[01m\u001b[K%d\u001b[m\u001b[K’ expects argument of type ‘\u001b[01m\u001b[Kint\u001b[m\u001b[K’, but argument 3 has type ‘\u001b[01m\u001b[Ksize_t\u001b[m\u001b[K’ {aka ‘\u001b[01m\u001b[Klong unsigned int\u001b[m\u001b[K’} [\u001b[01;35m\u001b[K\u001b]8;;https://gcc.gnu.org/onlinedocs/gcc/Warning-Options.html#index-Wformat=\u0007-Wformat=\u001b]8;;\u0007\u001b[m\u001b[K]\n",
            "   22 |         printf\u001b[01;35m\u001b[K(\"totalConstMem: %d B = %d KB\\n\u001b[m\u001b[K\", deviceProp.totalConstMem,\u001b[32m\u001b[K deviceProp.totalConstMem / 1024);\u001b[m\u001b[K\n",
            "      |               \u001b[01;35m\u001b[K^~~~~~~~~~~~~~~~~~~~~~~~~~~~~~~\u001b[m\u001b[K                            \u001b[32m\u001b[K~~~~~~~~~~~~~~~~~~~~~~~~~~~~~~~~~~\u001b[m\u001b[K \n",
            "      |                                                                                                     \u001b[32m\u001b[K|\u001b[m\u001b[K\n",
            "      |                                                                                                     \u001b[32m\u001b[Ksize_t {aka long unsigned int}\u001b[m\u001b[K\n"
          ]
        }
      ]
    },
    {
      "cell_type": "code",
      "source": [],
      "metadata": {
        "id": "EicP7zPlSVcd"
      },
      "execution_count": null,
      "outputs": []
    },
    {
      "cell_type": "code",
      "source": [
        "!./a.out"
      ],
      "metadata": {
        "id": "saCqWLi93ZG_",
        "outputId": "583f616e-a322-4e0c-fa01-2e6aa5043c22",
        "colab": {
          "base_uri": "https://localhost:8080/"
        }
      },
      "execution_count": 4,
      "outputs": [
        {
          "output_type": "stream",
          "name": "stdout",
          "text": [
            "deviceCount: 1\n",
            "name: Tesla T4\n",
            "major: 7\n",
            "minor: 5\n",
            "multiProcessorCount: 40\n",
            "totalGlobalMem: -1344471040 B = 15101 MB\n",
            "sharedMemPerBlock: 49152 B = 48 KB\n",
            "totalConstMem: 65536 B = 64 KB\n",
            "regsPerBlock: 65536\n",
            "ECCEnabled: 1\n",
            "kernelExecTimeoutEnabled: 0\n",
            "clockRate: 1590000 KHz = 1590 MHz\n",
            "memoryClockRate: 5001000 KHz = 5001 MHz\n",
            "memoryBusWidth: 256 bits\n",
            "l2CacheSize: 4194304 B = 4096 KB\n",
            "warpSize: 32\n",
            "maxThreadsPerMultiProcessor: 1024\n",
            "maxThreadsPerBlock: 1024\n",
            "maxThreadsDim[0]: 1024\n",
            "maxThreadsDim[1]: 1024\n",
            "maxThreadsDim[2]: 64\n",
            "maxGridSize[0]: 2147483647\n",
            "maxGridSize[1]: 65535\n",
            "maxGridSize[2]: 65535\n",
            "deviceOverlap: 1\n",
            "asyncEngineCount: 3\n",
            "integrated: 0\n",
            "canMapHostMemory: 1\n",
            "concurrentKernels: 1\n",
            "tccDriver: 0\n",
            "unifiedAddressing: 1\n",
            "pciBusID: 0\n",
            "pciDeviceID: 4\n",
            "computeMode: 0\n",
            "computeMode: Default (multiple host threads can use ::cudaSetDevice() with device simultaneously)\n"
          ]
        }
      ]
    },
    {
      "cell_type": "code",
      "source": [
        "!nvcc /content/CUDA_examples/devicequery.cu -o script"
      ],
      "metadata": {
        "colab": {
          "base_uri": "https://localhost:8080/"
        },
        "id": "B7HZq6QrDmB4",
        "outputId": "6b2b3546-d649-4e64-a19d-94e7de3119df"
      },
      "execution_count": 5,
      "outputs": [
        {
          "output_type": "stream",
          "name": "stdout",
          "text": [
            "\u001b[01m\u001b[K/content/CUDA_examples/devicequery.cu:\u001b[m\u001b[K In function ‘\u001b[01m\u001b[Kvoid printDevProp(cudaDeviceProp)\u001b[m\u001b[K’:\n",
            "\u001b[01m\u001b[K/content/CUDA_examples/devicequery.cu:9:8:\u001b[m\u001b[K \u001b[01;35m\u001b[Kwarning: \u001b[m\u001b[Kformat ‘\u001b[01m\u001b[K%u\u001b[m\u001b[K’ expects argument of type ‘\u001b[01m\u001b[Kunsigned int\u001b[m\u001b[K’, but argument 2 has type ‘\u001b[01m\u001b[Ksize_t\u001b[m\u001b[K’ {aka ‘\u001b[01m\u001b[Klong unsigned int\u001b[m\u001b[K’} [\u001b[01;35m\u001b[K\u001b]8;;https://gcc.gnu.org/onlinedocs/gcc/Warning-Options.html#index-Wformat=\u0007-Wformat=\u001b]8;;\u0007\u001b[m\u001b[K]\n",
            "    9 |     pri\u001b[01;35m\u001b[Kntf(\"Total global memory:           %\u001b[m\u001b[Ku\\\u001b[32m\u001b[Kn\",  devProp.totalGlob\u001b[m\u001b[KalMem);\n",
            "      |        \u001b[01;35m\u001b[K^~~~~~~~~~~~~~~~~~~~~~~~~~~~~~~~~~~~~\u001b[m\u001b[K  \u001b[32m\u001b[K~~~~~~~~~~~~~~~~~~~~~~\u001b[m\u001b[K\n",
            "      |                                                       \u001b[32m\u001b[K|\u001b[m\u001b[K\n",
            "      |                                                       \u001b[32m\u001b[Ksize_t {aka long unsigned int}\u001b[m\u001b[K\n",
            "\u001b[01m\u001b[K/content/CUDA_examples/devicequery.cu:10:8:\u001b[m\u001b[K \u001b[01;35m\u001b[Kwarning: \u001b[m\u001b[Kformat ‘\u001b[01m\u001b[K%u\u001b[m\u001b[K’ expects argument of type ‘\u001b[01m\u001b[Kunsigned int\u001b[m\u001b[K’, but argument 2 has type ‘\u001b[01m\u001b[Ksize_t\u001b[m\u001b[K’ {aka ‘\u001b[01m\u001b[Klong unsigned int\u001b[m\u001b[K’} [\u001b[01;35m\u001b[K\u001b]8;;https://gcc.gnu.org/onlinedocs/gcc/Warning-Options.html#index-Wformat=\u0007-Wformat=\u001b]8;;\u0007\u001b[m\u001b[K]\n",
            "   10 |     pri\u001b[01;35m\u001b[Kntf(\"Total shared memory per block: %\u001b[m\u001b[Ku\\\u001b[32m\u001b[Kn\",  devProp.sharedMemPer\u001b[m\u001b[KBlock);\n",
            "      |        \u001b[01;35m\u001b[K^~~~~~~~~~~~~~~~~~~~~~~~~~~~~~~~~~~~~\u001b[m\u001b[K  \u001b[32m\u001b[K~~~~~~~~~~~~~~~~~~~~~~~~~\u001b[m\u001b[K\n",
            "      |                                                       \u001b[32m\u001b[K|\u001b[m\u001b[K\n",
            "      |                                                       \u001b[32m\u001b[Ksize_t {aka long unsigned int}\u001b[m\u001b[K\n",
            "\u001b[01m\u001b[K/content/CUDA_examples/devicequery.cu:13:8:\u001b[m\u001b[K \u001b[01;35m\u001b[Kwarning: \u001b[m\u001b[Kformat ‘\u001b[01m\u001b[K%u\u001b[m\u001b[K’ expects argument of type ‘\u001b[01m\u001b[Kunsigned int\u001b[m\u001b[K’, but argument 2 has type ‘\u001b[01m\u001b[Ksize_t\u001b[m\u001b[K’ {aka ‘\u001b[01m\u001b[Klong unsigned int\u001b[m\u001b[K’} [\u001b[01;35m\u001b[K\u001b]8;;https://gcc.gnu.org/onlinedocs/gcc/Warning-Options.html#index-Wformat=\u0007-Wformat=\u001b]8;;\u0007\u001b[m\u001b[K]\n",
            "   13 |     pri\u001b[01;35m\u001b[Kntf(\"Maximum memory pitch:          %\u001b[m\u001b[Ku\\\u001b[32m\u001b[Kn\",  devProp.mem\u001b[m\u001b[KPitch);\n",
            "      |        \u001b[01;35m\u001b[K^~~~~~~~~~~~~~~~~~~~~~~~~~~~~~~~~~~~~\u001b[m\u001b[K  \u001b[32m\u001b[K~~~~~~~~~~~~~~~~\u001b[m\u001b[K\n",
            "      |                                                       \u001b[32m\u001b[K|\u001b[m\u001b[K\n",
            "      |                                                       \u001b[32m\u001b[Ksize_t {aka long unsigned int}\u001b[m\u001b[K\n",
            "\u001b[01m\u001b[K/content/CUDA_examples/devicequery.cu:20:8:\u001b[m\u001b[K \u001b[01;35m\u001b[Kwarning: \u001b[m\u001b[Kformat ‘\u001b[01m\u001b[K%u\u001b[m\u001b[K’ expects argument of type ‘\u001b[01m\u001b[Kunsigned int\u001b[m\u001b[K’, but argument 2 has type ‘\u001b[01m\u001b[Ksize_t\u001b[m\u001b[K’ {aka ‘\u001b[01m\u001b[Klong unsigned int\u001b[m\u001b[K’} [\u001b[01;35m\u001b[K\u001b]8;;https://gcc.gnu.org/onlinedocs/gcc/Warning-Options.html#index-Wformat=\u0007-Wformat=\u001b]8;;\u0007\u001b[m\u001b[K]\n",
            "   20 |     pri\u001b[01;35m\u001b[Kntf(\"Total constant memory:         %\u001b[m\u001b[Ku\\\u001b[32m\u001b[Kn\",  devProp.totalCon\u001b[m\u001b[KstMem);\n",
            "      |        \u001b[01;35m\u001b[K^~~~~~~~~~~~~~~~~~~~~~~~~~~~~~~~~~~~~\u001b[m\u001b[K  \u001b[32m\u001b[K~~~~~~~~~~~~~~~~~~~~~\u001b[m\u001b[K\n",
            "      |                                                       \u001b[32m\u001b[K|\u001b[m\u001b[K\n",
            "      |                                                       \u001b[32m\u001b[Ksize_t {aka long unsigned int}\u001b[m\u001b[K\n",
            "\u001b[01m\u001b[K/content/CUDA_examples/devicequery.cu:21:8:\u001b[m\u001b[K \u001b[01;35m\u001b[Kwarning: \u001b[m\u001b[Kformat ‘\u001b[01m\u001b[K%u\u001b[m\u001b[K’ expects argument of type ‘\u001b[01m\u001b[Kunsigned int\u001b[m\u001b[K’, but argument 2 has type ‘\u001b[01m\u001b[Ksize_t\u001b[m\u001b[K’ {aka ‘\u001b[01m\u001b[Klong unsigned int\u001b[m\u001b[K’} [\u001b[01;35m\u001b[K\u001b]8;;https://gcc.gnu.org/onlinedocs/gcc/Warning-Options.html#index-Wformat=\u0007-Wformat=\u001b]8;;\u0007\u001b[m\u001b[K]\n",
            "   21 |     pri\u001b[01;35m\u001b[Kntf(\"Texture alignment:             %\u001b[m\u001b[Ku\\\u001b[32m\u001b[Kn\",  devProp.textureAlig\u001b[m\u001b[Knment);\n",
            "      |        \u001b[01;35m\u001b[K^~~~~~~~~~~~~~~~~~~~~~~~~~~~~~~~~~~~~\u001b[m\u001b[K  \u001b[32m\u001b[K~~~~~~~~~~~~~~~~~~~~~~~~\u001b[m\u001b[K\n",
            "      |                                                       \u001b[32m\u001b[K|\u001b[m\u001b[K\n",
            "      |                                                       \u001b[32m\u001b[Ksize_t {aka long unsigned int}\u001b[m\u001b[K\n"
          ]
        }
      ]
    },
    {
      "cell_type": "code",
      "source": [
        "!./script"
      ],
      "metadata": {
        "colab": {
          "base_uri": "https://localhost:8080/"
        },
        "id": "J-3alCoXD9yn",
        "outputId": "7b5742aa-d9a1-4653-b703-318206ae4665"
      },
      "execution_count": 7,
      "outputs": [
        {
          "output_type": "stream",
          "name": "stdout",
          "text": [
            "CUDA Device Query...\n",
            "There are 1 CUDA devices.\n",
            "\n",
            "CUDA Device #0\n",
            "Major revision number:         7\n",
            "Minor revision number:         5\n",
            "Name:                          Tesla T4\n",
            "Total global memory:           2950496256\n",
            "Total shared memory per block: 49152\n",
            "Total registers per block:     65536\n",
            "Warp size:                     32\n",
            "Maximum memory pitch:          2147483647\n",
            "Maximum threads per block:     1024\n",
            "Maximum dimension 0 of block:  1024\n",
            "Maximum dimension 1 of block:  1024\n",
            "Maximum dimension 2 of block:  64\n",
            "Maximum dimension 0 of grid:   2147483647\n",
            "Maximum dimension 1 of grid:   65535\n",
            "Maximum dimension 2 of grid:   65535\n",
            "Clock rate:                    1590000\n",
            "Total constant memory:         65536\n",
            "Texture alignment:             512\n",
            "Concurrent copy and execution: Yes\n",
            "Number of multiprocessors:     40\n",
            "Kernel execution timeout:      No\n"
          ]
        }
      ]
    },
    {
      "cell_type": "code",
      "source": [
        "!nvcc /content/CUDA_examples/sumArraysOnGPU-small-case.cu -o big_script"
      ],
      "metadata": {
        "id": "ubnIV6_DEcZ-"
      },
      "execution_count": 8,
      "outputs": []
    },
    {
      "cell_type": "code",
      "source": [
        "!./big_script"
      ],
      "metadata": {
        "colab": {
          "base_uri": "https://localhost:8080/"
        },
        "id": "eWjgVkquEpxl",
        "outputId": "e4ef3ed5-5d93-4735-ca80-8c4b302fcb5e"
      },
      "execution_count": 9,
      "outputs": [
        {
          "output_type": "stream",
          "name": "stdout",
          "text": [
            "./big_script Starting...\n",
            "Vector size 32\n",
            "Execution configuration <<<32, 1>>>\n",
            "Arrays match.\n",
            "\n"
          ]
        }
      ]
    },
    {
      "cell_type": "code",
      "source": [
        "!nvcc /content/CUDA_examples/sumArraysOnGPU-timer.cu -o big_timer"
      ],
      "metadata": {
        "id": "_p3ofxc0F7Wz"
      },
      "execution_count": 10,
      "outputs": []
    },
    {
      "cell_type": "code",
      "source": [
        "!./big_timer"
      ],
      "metadata": {
        "colab": {
          "base_uri": "https://localhost:8080/"
        },
        "id": "GelOZZSOGFFJ",
        "outputId": "bee164fe-0ac4-4626-a5e0-df767a784c0e"
      },
      "execution_count": 11,
      "outputs": [
        {
          "output_type": "stream",
          "name": "stdout",
          "text": [
            "./big_timer Starting...\n",
            "Using Device 0: Tesla T4\n",
            "Vector size 16777216\n",
            "sumArraysOnHost Time elapsed 0.069693 sec\n",
            "sumArraysOnGPU <<<16384, 1024>>> Time elapsed 0.000877 sec\n",
            "GPU speedup factor = 79.45 sec\n",
            "Arrays match.\n",
            "\n"
          ]
        }
      ]
    },
    {
      "cell_type": "code",
      "source": [
        "!nvcc /content/CUDA_examples/hello.cu -o hello"
      ],
      "metadata": {
        "id": "Xy_GWfrEGrrA"
      },
      "execution_count": 12,
      "outputs": []
    },
    {
      "cell_type": "code",
      "source": [
        "!./hello"
      ],
      "metadata": {
        "colab": {
          "base_uri": "https://localhost:8080/"
        },
        "id": "etqeSsrDGyyd",
        "outputId": "1208b01d-4c2f-4818-aabb-a3b7780932b1"
      },
      "execution_count": 13,
      "outputs": [
        {
          "output_type": "stream",
          "name": "stdout",
          "text": [
            "Hello World from CPU!\n",
            "Hello World from GPU! threadIdx.x=0\n",
            "Hello World from GPU! threadIdx.x=1\n",
            "Hello World from GPU! threadIdx.x=2\n",
            "Hello World from GPU! threadIdx.x=3\n",
            "Hello World from GPU! threadIdx.x=4\n",
            "Hello World from GPU! threadIdx.x=5\n",
            "Hello World from GPU! threadIdx.x=6\n",
            "Hello World from GPU! threadIdx.x=7\n",
            "Hello World from GPU! threadIdx.x=8\n",
            "Hello World from GPU! threadIdx.x=9\n"
          ]
        }
      ]
    },
    {
      "cell_type": "code",
      "source": [
        "!git clone https://bitbucket.org/VladyslavGorbatiuk/cuda-parallel-programming-code.git"
      ],
      "metadata": {
        "colab": {
          "base_uri": "https://localhost:8080/"
        },
        "id": "yYziP-xsJhat",
        "outputId": "113adbeb-7f68-450e-c415-fa888d4fbe6e"
      },
      "execution_count": 14,
      "outputs": [
        {
          "output_type": "stream",
          "name": "stdout",
          "text": [
            "Cloning into 'cuda-parallel-programming-code'...\n",
            "remote: Enumerating objects: 55, done.\u001b[K\n",
            "remote: Counting objects: 100% (55/55), done.\u001b[K\n",
            "remote: Compressing objects: 100% (54/54), done.\u001b[K\n",
            "remote: Total 55 (delta 18), reused 0 (delta 0), pack-reused 0\u001b[K\n",
            "Unpacking objects: 100% (55/55), 14.53 KiB | 82.00 KiB/s, done.\n"
          ]
        }
      ]
    },
    {
      "cell_type": "code",
      "source": [
        "!mkdir tmp && cd /content/tmp && cmake /content/cuda-parallel-programming-code/"
      ],
      "metadata": {
        "colab": {
          "base_uri": "https://localhost:8080/"
        },
        "id": "W1Ksr_n1J-CD",
        "outputId": "8d57408f-b2d8-4f58-8009-193a03e95c03"
      },
      "execution_count": 31,
      "outputs": [
        {
          "output_type": "stream",
          "name": "stdout",
          "text": [
            "\u001b[0mCMake Deprecation Warning at CMakeLists.txt:1 (CMAKE_MINIMUM_REQUIRED):\n",
            "  Compatibility with CMake < 3.5 will be removed from a future version of\n",
            "  CMake.\n",
            "\n",
            "  Update the VERSION argument <min> value or use a ...<max> suffix to tell\n",
            "  CMake that the project does not need compatibility with older versions.\n",
            "\n",
            "\u001b[0m\n",
            "-- The C compiler identification is GNU 11.4.0\n",
            "-- The CXX compiler identification is GNU 11.4.0\n",
            "-- Detecting C compiler ABI info\n",
            "-- Detecting C compiler ABI info - done\n",
            "-- Check for working C compiler: /usr/bin/cc - skipped\n",
            "-- Detecting C compile features\n",
            "-- Detecting C compile features - done\n",
            "-- Detecting CXX compiler ABI info\n",
            "-- Detecting CXX compiler ABI info - done\n",
            "-- Check for working CXX compiler: /usr/bin/c++ - skipped\n",
            "-- Detecting CXX compile features\n",
            "-- Detecting CXX compile features - done\n",
            "\u001b[33mCMake Warning (dev) at CMakeLists.txt:10 (INCLUDE):\n",
            "  Policy CMP0146 is not set: The FindCUDA module is removed.  Run \"cmake\n",
            "  --help-policy CMP0146\" for policy details.  Use the cmake_policy command to\n",
            "  set the policy and suppress this warning.\n",
            "\n",
            "This warning is for project developers.  Use -Wno-dev to suppress it.\n",
            "\u001b[0m\n",
            "-- Performing Test CMAKE_HAVE_LIBC_PTHREAD\n",
            "-- Performing Test CMAKE_HAVE_LIBC_PTHREAD - Success\n",
            "-- Found Threads: TRUE  \n",
            "-- Found CUDA: /usr/local/cuda (found version \"11.8\") \n",
            "\u001b[33mCMake Warning (dev) at CMakeLists.txt:11 (FIND_PACKAGE):\n",
            "  Policy CMP0146 is not set: The FindCUDA module is removed.  Run \"cmake\n",
            "  --help-policy CMP0146\" for policy details.  Use the cmake_policy command to\n",
            "  set the policy and suppress this warning.\n",
            "\n",
            "This warning is for project developers.  Use -Wno-dev to suppress it.\n",
            "\u001b[0m\n",
            "-- CUDA version: 11.8\n",
            "-- CUDA include dirs: /usr/local/cuda/include\n",
            "-- CUDA rt library: /usr/local/cuda/lib64/libcudart.so\n",
            "-- CUDA nvcc: /usr/local/cuda/bin/nvcc\n",
            "-- Found OpenCV: /usr (found version \"4.5.4\") \n",
            "-- OpenCV version: 4.5.4\n",
            "-- OpenCV include dirs: /usr/include/opencv4\n",
            "-- OpenCV libs: opencv_calib3d;opencv_core;opencv_dnn;opencv_features2d;opencv_flann;opencv_highgui;opencv_imgcodecs;opencv_imgproc;opencv_ml;opencv_objdetect;opencv_photo;opencv_stitching;opencv_video;opencv_videoio;opencv_alphamat;opencv_aruco;opencv_barcode;opencv_bgsegm;opencv_bioinspired;opencv_ccalib;opencv_datasets;opencv_dnn_objdetect;opencv_dnn_superres;opencv_dpm;opencv_face;opencv_freetype;opencv_fuzzy;opencv_hdf;opencv_hfs;opencv_img_hash;opencv_intensity_transform;opencv_line_descriptor;opencv_mcc;opencv_optflow;opencv_phase_unwrapping;opencv_plot;opencv_quality;opencv_rapid;opencv_reg;opencv_rgbd;opencv_saliency;opencv_shape;opencv_stereo;opencv_structured_light;opencv_superres;opencv_surface_matching;opencv_text;opencv_tracking;opencv_videostab;opencv_viz;opencv_wechat_qrcode;opencv_ximgproc;opencv_xobjdetect;opencv_xphoto\n",
            "-- OpenCV libs dir: \n",
            "-- Using c compiler at path: /usr/bin/cc\n",
            "-- Using cxx compiler at path: /usr/bin/c++\n",
            "-- Configuring done (0.6s)\n",
            "-- Generating done (0.0s)\n",
            "-- Build files have been written to: /content/tmp\n"
          ]
        }
      ]
    },
    {
      "cell_type": "code",
      "source": [
        "!cd tmp && make"
      ],
      "metadata": {
        "colab": {
          "base_uri": "https://localhost:8080/"
        },
        "id": "h0PBeGJPKuhP",
        "outputId": "34fcedaf-61f8-4a5e-8754-fff79caf49a2"
      },
      "execution_count": 32,
      "outputs": [
        {
          "output_type": "stream",
          "name": "stdout",
          "text": [
            "[ 25%] \u001b[34m\u001b[1mBuilding NVCC (Device) object Part2/CMakeFiles/Part2CUDA.dir/Part2CUDA_generated_CUDA.cu.o\u001b[0m\n",
            "[ 50%] \u001b[32m\u001b[1mLinking CXX static library libPart2CUDA.a\u001b[0m\n",
            "[ 50%] Built target Part2CUDA\n",
            "[ 75%] \u001b[32mBuilding CXX object Part2/CMakeFiles/blur_image.dir/main.cpp.o\u001b[0m\n",
            "[100%] \u001b[32m\u001b[1mLinking CXX executable ../bin/blur_image\u001b[0m\n",
            "[100%] Built target blur_image\n"
          ]
        }
      ]
    },
    {
      "cell_type": "code",
      "source": [
        "!./tmp/bin/blur_image /content/how-to-convert-low-to-high-resolution-in-photoshop-32.jpg"
      ],
      "metadata": {
        "colab": {
          "base_uri": "https://localhost:8080/"
        },
        "id": "mwbolarKMH2w",
        "outputId": "46f65568-00cf-4987-b981-8fc741749935"
      },
      "execution_count": 36,
      "outputs": [
        {
          "output_type": "stream",
          "name": "stdout",
          "text": [
            "OpenCV time (ms):5\n",
            "OpenMP time (ms):1180\n",
            "OpenMP similarity:0.00171731\n",
            "CUDA time kernel (ms): 0.522688\n",
            "CUDA time full (ms):136\n",
            "CUDA similarity:0.00320056\n",
            "CUDA time kernel (ms): 0.517184\n",
            "CUDA time full (ms):2\n",
            "CUDA similarity:0.00170965\n",
            "CUDA time kernel (ms): 0.51712\n",
            "CUDA time full (ms):2\n",
            "CUDA similarity:0.00170965\n",
            "CUDA time kernel (ms): 0.516064\n",
            "CUDA time full (ms):2\n",
            "CUDA similarity:0.00170965\n"
          ]
        }
      ]
    },
    {
      "cell_type": "code",
      "source": [],
      "metadata": {
        "id": "DTNZuYv_SXsU"
      },
      "execution_count": null,
      "outputs": []
    },
    {
      "cell_type": "markdown",
      "metadata": {
        "id": "3_8odoHmArJr"
      },
      "source": [
        "#**Introduction**\n",
        "\n",
        "C++ (pronounced see plus plus) is a general purpose programming language that is free-form and compiled. It is regarded as an intermediate-level language, as it comprises both high-level and low-level language features. It provides imperative, object-oriented and generic programming features.\n",
        "\n",
        "C++ is one of the most popular programming languages and is implemented on a wide variety of hardware and operating system platforms. As an efficient performance driven programming language it is used in systems software, application software, device drivers, embedded software, high-performance server and client applications, and entertainment software such as video games. Various entities provide both open source and proprietary C++ compiler software, including the FSF, LLVM, Microsoft and Intel\n",
        "\n",
        "**What is C++**\n",
        "C++ is a cross-platform language that can be used to create high-performance applications.\n",
        "\n",
        "**Who developed C++**\n",
        "C++ was developed by Bjarne Stroustrup.\n",
        "\n"
      ]
    },
    {
      "cell_type": "markdown",
      "metadata": {
        "id": "g6LT91r5_mdJ"
      },
      "source": [
        "#1- **Hellow Words**\n",
        "Every C++ program uses libraries, which give the ability to execute necessary functions. For example, the most basic function called 'cout', which prints to the screen, is defined in the iostream header file.\n",
        "\n",
        "To add the ability to run the cout command to our program, we must add following include directive to our first line of the code:"
      ]
    },
    {
      "cell_type": "code",
      "metadata": {
        "id": "am4ZQ3cN_Bc_",
        "outputId": "df195ad9-fba8-423f-a8cf-f68a2bb9cd29",
        "colab": {
          "base_uri": "https://localhost:8080/",
          "height": 373
        }
      },
      "source": [
        "%%cu\n",
        "#include <iostream>\n",
        "using namespace std;\n",
        "\n",
        "int main() {\n",
        "  cout << \"Goodbye, World!\" << std::endl;\n",
        "  return 0;\n",
        "}"
      ],
      "execution_count": null,
      "outputs": [
        {
          "output_type": "error",
          "ename": "FileNotFoundError",
          "evalue": "ignored",
          "traceback": [
            "\u001b[0;31m---------------------------------------------------------------------------\u001b[0m",
            "\u001b[0;31mFileNotFoundError\u001b[0m                         Traceback (most recent call last)",
            "\u001b[0;32m<ipython-input-10-b0e52bec553b>\u001b[0m in \u001b[0;36m<cell line: 1>\u001b[0;34m()\u001b[0m\n\u001b[0;32m----> 1\u001b[0;31m \u001b[0mget_ipython\u001b[0m\u001b[0;34m(\u001b[0m\u001b[0;34m)\u001b[0m\u001b[0;34m.\u001b[0m\u001b[0mrun_cell_magic\u001b[0m\u001b[0;34m(\u001b[0m\u001b[0;34m'cu'\u001b[0m\u001b[0;34m,\u001b[0m \u001b[0;34m''\u001b[0m\u001b[0;34m,\u001b[0m \u001b[0;34m'#include <iostream>\\nusing namespace std;\\n\\nint main() {\\n  cout << \"Goodbye, World!\" << std::endl;\\n  return 0;\\n}\\n'\u001b[0m\u001b[0;34m)\u001b[0m\u001b[0;34m\u001b[0m\u001b[0;34m\u001b[0m\u001b[0m\n\u001b[0m",
            "\u001b[0;32m/usr/local/lib/python3.10/dist-packages/google/colab/_shell.py\u001b[0m in \u001b[0;36mrun_cell_magic\u001b[0;34m(self, magic_name, line, cell)\u001b[0m\n\u001b[1;32m    332\u001b[0m     \u001b[0;32mif\u001b[0m \u001b[0mline\u001b[0m \u001b[0;32mand\u001b[0m \u001b[0;32mnot\u001b[0m \u001b[0mcell\u001b[0m\u001b[0;34m:\u001b[0m\u001b[0;34m\u001b[0m\u001b[0;34m\u001b[0m\u001b[0m\n\u001b[1;32m    333\u001b[0m       \u001b[0mcell\u001b[0m \u001b[0;34m=\u001b[0m \u001b[0;34m' '\u001b[0m\u001b[0;34m\u001b[0m\u001b[0;34m\u001b[0m\u001b[0m\n\u001b[0;32m--> 334\u001b[0;31m     \u001b[0;32mreturn\u001b[0m \u001b[0msuper\u001b[0m\u001b[0;34m(\u001b[0m\u001b[0;34m)\u001b[0m\u001b[0;34m.\u001b[0m\u001b[0mrun_cell_magic\u001b[0m\u001b[0;34m(\u001b[0m\u001b[0mmagic_name\u001b[0m\u001b[0;34m,\u001b[0m \u001b[0mline\u001b[0m\u001b[0;34m,\u001b[0m \u001b[0mcell\u001b[0m\u001b[0;34m)\u001b[0m\u001b[0;34m\u001b[0m\u001b[0;34m\u001b[0m\u001b[0m\n\u001b[0m\u001b[1;32m    335\u001b[0m \u001b[0;34m\u001b[0m\u001b[0m\n\u001b[1;32m    336\u001b[0m \u001b[0;34m\u001b[0m\u001b[0m\n",
            "\u001b[0;32m/usr/local/lib/python3.10/dist-packages/IPython/core/interactiveshell.py\u001b[0m in \u001b[0;36mrun_cell_magic\u001b[0;34m(self, magic_name, line, cell)\u001b[0m\n\u001b[1;32m   2471\u001b[0m             \u001b[0;32mwith\u001b[0m \u001b[0mself\u001b[0m\u001b[0;34m.\u001b[0m\u001b[0mbuiltin_trap\u001b[0m\u001b[0;34m:\u001b[0m\u001b[0;34m\u001b[0m\u001b[0;34m\u001b[0m\u001b[0m\n\u001b[1;32m   2472\u001b[0m                 \u001b[0margs\u001b[0m \u001b[0;34m=\u001b[0m \u001b[0;34m(\u001b[0m\u001b[0mmagic_arg_s\u001b[0m\u001b[0;34m,\u001b[0m \u001b[0mcell\u001b[0m\u001b[0;34m)\u001b[0m\u001b[0;34m\u001b[0m\u001b[0;34m\u001b[0m\u001b[0m\n\u001b[0;32m-> 2473\u001b[0;31m                 \u001b[0mresult\u001b[0m \u001b[0;34m=\u001b[0m \u001b[0mfn\u001b[0m\u001b[0;34m(\u001b[0m\u001b[0;34m*\u001b[0m\u001b[0margs\u001b[0m\u001b[0;34m,\u001b[0m \u001b[0;34m**\u001b[0m\u001b[0mkwargs\u001b[0m\u001b[0;34m)\u001b[0m\u001b[0;34m\u001b[0m\u001b[0;34m\u001b[0m\u001b[0m\n\u001b[0m\u001b[1;32m   2474\u001b[0m             \u001b[0;32mreturn\u001b[0m \u001b[0mresult\u001b[0m\u001b[0;34m\u001b[0m\u001b[0;34m\u001b[0m\u001b[0m\n\u001b[1;32m   2475\u001b[0m \u001b[0;34m\u001b[0m\u001b[0m\n",
            "\u001b[0;32m<decorator-gen-118>\u001b[0m in \u001b[0;36mcu\u001b[0;34m(self, line, cell)\u001b[0m\n",
            "\u001b[0;32m/usr/local/lib/python3.10/dist-packages/IPython/core/magic.py\u001b[0m in \u001b[0;36m<lambda>\u001b[0;34m(f, *a, **k)\u001b[0m\n\u001b[1;32m    185\u001b[0m     \u001b[0;31m# but it's overkill for just that one bit of state.\u001b[0m\u001b[0;34m\u001b[0m\u001b[0;34m\u001b[0m\u001b[0m\n\u001b[1;32m    186\u001b[0m     \u001b[0;32mdef\u001b[0m \u001b[0mmagic_deco\u001b[0m\u001b[0;34m(\u001b[0m\u001b[0marg\u001b[0m\u001b[0;34m)\u001b[0m\u001b[0;34m:\u001b[0m\u001b[0;34m\u001b[0m\u001b[0;34m\u001b[0m\u001b[0m\n\u001b[0;32m--> 187\u001b[0;31m         \u001b[0mcall\u001b[0m \u001b[0;34m=\u001b[0m \u001b[0;32mlambda\u001b[0m \u001b[0mf\u001b[0m\u001b[0;34m,\u001b[0m \u001b[0;34m*\u001b[0m\u001b[0ma\u001b[0m\u001b[0;34m,\u001b[0m \u001b[0;34m**\u001b[0m\u001b[0mk\u001b[0m\u001b[0;34m:\u001b[0m \u001b[0mf\u001b[0m\u001b[0;34m(\u001b[0m\u001b[0;34m*\u001b[0m\u001b[0ma\u001b[0m\u001b[0;34m,\u001b[0m \u001b[0;34m**\u001b[0m\u001b[0mk\u001b[0m\u001b[0;34m)\u001b[0m\u001b[0;34m\u001b[0m\u001b[0;34m\u001b[0m\u001b[0m\n\u001b[0m\u001b[1;32m    188\u001b[0m \u001b[0;34m\u001b[0m\u001b[0m\n\u001b[1;32m    189\u001b[0m         \u001b[0;32mif\u001b[0m \u001b[0mcallable\u001b[0m\u001b[0;34m(\u001b[0m\u001b[0marg\u001b[0m\u001b[0;34m)\u001b[0m\u001b[0;34m:\u001b[0m\u001b[0;34m\u001b[0m\u001b[0;34m\u001b[0m\u001b[0m\n",
            "\u001b[0;32m/usr/local/lib/python3.10/dist-packages/v1/v1.py\u001b[0m in \u001b[0;36mcu\u001b[0;34m(self, line, cell)\u001b[0m\n\u001b[1;32m     50\u001b[0m                 \u001b[0mf\u001b[0m\u001b[0;34m.\u001b[0m\u001b[0mwrite\u001b[0m\u001b[0;34m(\u001b[0m\u001b[0mcell\u001b[0m\u001b[0;34m)\u001b[0m\u001b[0;34m\u001b[0m\u001b[0;34m\u001b[0m\u001b[0m\n\u001b[1;32m     51\u001b[0m             \u001b[0;32mtry\u001b[0m\u001b[0;34m:\u001b[0m\u001b[0;34m\u001b[0m\u001b[0;34m\u001b[0m\u001b[0m\n\u001b[0;32m---> 52\u001b[0;31m                 \u001b[0mself\u001b[0m\u001b[0;34m.\u001b[0m\u001b[0mcompile\u001b[0m\u001b[0;34m(\u001b[0m\u001b[0mfile_path\u001b[0m\u001b[0;34m)\u001b[0m\u001b[0;34m\u001b[0m\u001b[0;34m\u001b[0m\u001b[0m\n\u001b[0m\u001b[1;32m     53\u001b[0m                 \u001b[0moutput\u001b[0m \u001b[0;34m=\u001b[0m \u001b[0mself\u001b[0m\u001b[0;34m.\u001b[0m\u001b[0mrun\u001b[0m\u001b[0;34m(\u001b[0m\u001b[0mfile_path\u001b[0m\u001b[0;34m,\u001b[0m \u001b[0mtimeit\u001b[0m\u001b[0;34m=\u001b[0m\u001b[0margs\u001b[0m\u001b[0;34m.\u001b[0m\u001b[0mtimeit\u001b[0m\u001b[0;34m)\u001b[0m\u001b[0;34m\u001b[0m\u001b[0;34m\u001b[0m\u001b[0m\n\u001b[1;32m     54\u001b[0m             \u001b[0;32mexcept\u001b[0m \u001b[0msubprocess\u001b[0m\u001b[0;34m.\u001b[0m\u001b[0mCalledProcessError\u001b[0m \u001b[0;32mas\u001b[0m \u001b[0me\u001b[0m\u001b[0;34m:\u001b[0m\u001b[0;34m\u001b[0m\u001b[0;34m\u001b[0m\u001b[0m\n",
            "\u001b[0;32m/usr/local/lib/python3.10/dist-packages/v1/v1.py\u001b[0m in \u001b[0;36mcompile\u001b[0;34m(file_path)\u001b[0m\n\u001b[1;32m     21\u001b[0m     \u001b[0;34m@\u001b[0m\u001b[0mstaticmethod\u001b[0m\u001b[0;34m\u001b[0m\u001b[0;34m\u001b[0m\u001b[0m\n\u001b[1;32m     22\u001b[0m     \u001b[0;32mdef\u001b[0m \u001b[0mcompile\u001b[0m\u001b[0;34m(\u001b[0m\u001b[0mfile_path\u001b[0m\u001b[0;34m)\u001b[0m\u001b[0;34m:\u001b[0m\u001b[0;34m\u001b[0m\u001b[0;34m\u001b[0m\u001b[0m\n\u001b[0;32m---> 23\u001b[0;31m         subprocess.check_output(\n\u001b[0m\u001b[1;32m     24\u001b[0m             [compiler, file_path + ext, \"-o\", file_path + \".out\", '-Wno-deprecated-gpu-targets'], stderr=subprocess.STDOUT)\n\u001b[1;32m     25\u001b[0m \u001b[0;34m\u001b[0m\u001b[0m\n",
            "\u001b[0;32m/usr/lib/python3.10/subprocess.py\u001b[0m in \u001b[0;36mcheck_output\u001b[0;34m(timeout, *popenargs, **kwargs)\u001b[0m\n\u001b[1;32m    419\u001b[0m         \u001b[0mkwargs\u001b[0m\u001b[0;34m[\u001b[0m\u001b[0;34m'input'\u001b[0m\u001b[0;34m]\u001b[0m \u001b[0;34m=\u001b[0m \u001b[0mempty\u001b[0m\u001b[0;34m\u001b[0m\u001b[0;34m\u001b[0m\u001b[0m\n\u001b[1;32m    420\u001b[0m \u001b[0;34m\u001b[0m\u001b[0m\n\u001b[0;32m--> 421\u001b[0;31m     return run(*popenargs, stdout=PIPE, timeout=timeout, check=True,\n\u001b[0m\u001b[1;32m    422\u001b[0m                **kwargs).stdout\n\u001b[1;32m    423\u001b[0m \u001b[0;34m\u001b[0m\u001b[0m\n",
            "\u001b[0;32m/usr/lib/python3.10/subprocess.py\u001b[0m in \u001b[0;36mrun\u001b[0;34m(input, capture_output, timeout, check, *popenargs, **kwargs)\u001b[0m\n\u001b[1;32m    501\u001b[0m         \u001b[0mkwargs\u001b[0m\u001b[0;34m[\u001b[0m\u001b[0;34m'stderr'\u001b[0m\u001b[0;34m]\u001b[0m \u001b[0;34m=\u001b[0m \u001b[0mPIPE\u001b[0m\u001b[0;34m\u001b[0m\u001b[0;34m\u001b[0m\u001b[0m\n\u001b[1;32m    502\u001b[0m \u001b[0;34m\u001b[0m\u001b[0m\n\u001b[0;32m--> 503\u001b[0;31m     \u001b[0;32mwith\u001b[0m \u001b[0mPopen\u001b[0m\u001b[0;34m(\u001b[0m\u001b[0;34m*\u001b[0m\u001b[0mpopenargs\u001b[0m\u001b[0;34m,\u001b[0m \u001b[0;34m**\u001b[0m\u001b[0mkwargs\u001b[0m\u001b[0;34m)\u001b[0m \u001b[0;32mas\u001b[0m \u001b[0mprocess\u001b[0m\u001b[0;34m:\u001b[0m\u001b[0;34m\u001b[0m\u001b[0;34m\u001b[0m\u001b[0m\n\u001b[0m\u001b[1;32m    504\u001b[0m         \u001b[0;32mtry\u001b[0m\u001b[0;34m:\u001b[0m\u001b[0;34m\u001b[0m\u001b[0;34m\u001b[0m\u001b[0m\n\u001b[1;32m    505\u001b[0m             \u001b[0mstdout\u001b[0m\u001b[0;34m,\u001b[0m \u001b[0mstderr\u001b[0m \u001b[0;34m=\u001b[0m \u001b[0mprocess\u001b[0m\u001b[0;34m.\u001b[0m\u001b[0mcommunicate\u001b[0m\u001b[0;34m(\u001b[0m\u001b[0minput\u001b[0m\u001b[0;34m,\u001b[0m \u001b[0mtimeout\u001b[0m\u001b[0;34m=\u001b[0m\u001b[0mtimeout\u001b[0m\u001b[0;34m)\u001b[0m\u001b[0;34m\u001b[0m\u001b[0;34m\u001b[0m\u001b[0m\n",
            "\u001b[0;32m/usr/lib/python3.10/subprocess.py\u001b[0m in \u001b[0;36m__init__\u001b[0;34m(self, args, bufsize, executable, stdin, stdout, stderr, preexec_fn, close_fds, shell, cwd, env, universal_newlines, startupinfo, creationflags, restore_signals, start_new_session, pass_fds, user, group, extra_groups, encoding, errors, text, umask, pipesize)\u001b[0m\n\u001b[1;32m    969\u001b[0m                             encoding=encoding, errors=errors)\n\u001b[1;32m    970\u001b[0m \u001b[0;34m\u001b[0m\u001b[0m\n\u001b[0;32m--> 971\u001b[0;31m             self._execute_child(args, executable, preexec_fn, close_fds,\n\u001b[0m\u001b[1;32m    972\u001b[0m                                 \u001b[0mpass_fds\u001b[0m\u001b[0;34m,\u001b[0m \u001b[0mcwd\u001b[0m\u001b[0;34m,\u001b[0m \u001b[0menv\u001b[0m\u001b[0;34m,\u001b[0m\u001b[0;34m\u001b[0m\u001b[0;34m\u001b[0m\u001b[0m\n\u001b[1;32m    973\u001b[0m                                 \u001b[0mstartupinfo\u001b[0m\u001b[0;34m,\u001b[0m \u001b[0mcreationflags\u001b[0m\u001b[0;34m,\u001b[0m \u001b[0mshell\u001b[0m\u001b[0;34m,\u001b[0m\u001b[0;34m\u001b[0m\u001b[0;34m\u001b[0m\u001b[0m\n",
            "\u001b[0;32m/usr/lib/python3.10/subprocess.py\u001b[0m in \u001b[0;36m_execute_child\u001b[0;34m(self, args, executable, preexec_fn, close_fds, pass_fds, cwd, env, startupinfo, creationflags, shell, p2cread, p2cwrite, c2pread, c2pwrite, errread, errwrite, restore_signals, gid, gids, uid, umask, start_new_session)\u001b[0m\n\u001b[1;32m   1861\u001b[0m                     \u001b[0;32mif\u001b[0m \u001b[0merrno_num\u001b[0m \u001b[0;34m!=\u001b[0m \u001b[0;36m0\u001b[0m\u001b[0;34m:\u001b[0m\u001b[0;34m\u001b[0m\u001b[0;34m\u001b[0m\u001b[0m\n\u001b[1;32m   1862\u001b[0m                         \u001b[0merr_msg\u001b[0m \u001b[0;34m=\u001b[0m \u001b[0mos\u001b[0m\u001b[0;34m.\u001b[0m\u001b[0mstrerror\u001b[0m\u001b[0;34m(\u001b[0m\u001b[0merrno_num\u001b[0m\u001b[0;34m)\u001b[0m\u001b[0;34m\u001b[0m\u001b[0;34m\u001b[0m\u001b[0m\n\u001b[0;32m-> 1863\u001b[0;31m                     \u001b[0;32mraise\u001b[0m \u001b[0mchild_exception_type\u001b[0m\u001b[0;34m(\u001b[0m\u001b[0merrno_num\u001b[0m\u001b[0;34m,\u001b[0m \u001b[0merr_msg\u001b[0m\u001b[0;34m,\u001b[0m \u001b[0merr_filename\u001b[0m\u001b[0;34m)\u001b[0m\u001b[0;34m\u001b[0m\u001b[0;34m\u001b[0m\u001b[0m\n\u001b[0m\u001b[1;32m   1864\u001b[0m                 \u001b[0;32mraise\u001b[0m \u001b[0mchild_exception_type\u001b[0m\u001b[0;34m(\u001b[0m\u001b[0merr_msg\u001b[0m\u001b[0;34m)\u001b[0m\u001b[0;34m\u001b[0m\u001b[0;34m\u001b[0m\u001b[0m\n\u001b[1;32m   1865\u001b[0m \u001b[0;34m\u001b[0m\u001b[0m\n",
            "\u001b[0;31mFileNotFoundError\u001b[0m: [Errno 2] No such file or directory: '/usr/local/cuda/bin/nvcc'"
          ]
        }
      ]
    },
    {
      "cell_type": "markdown",
      "metadata": {
        "id": "03I1mZizzX5x"
      },
      "source": [
        "#2-**Comments**\n",
        "Comments can be used to explain C++ code, and to make it more readable. It can also be used to prevent execution when testing alternative code. Comments can be singled-lined or multi-lined.\n",
        "\n",
        "Single-line comments start with two forward slashes (//).\n",
        "\n",
        "Any text between // and the end of the line is ignored by the compiler (will not be executed).\n",
        "\n",
        "This example uses a single-line comment before a line of code:\n",
        "\n",
        "\n",
        "\n"
      ]
    },
    {
      "cell_type": "code",
      "metadata": {
        "id": "dNCM9_GN0IFf",
        "colab": {
          "base_uri": "https://localhost:8080/",
          "height": 52
        },
        "outputId": "6d3065c2-cb5d-43d7-cbc4-7190d50ad937"
      },
      "source": [
        "%%cu\n",
        "/* hellow wors\n",
        "sdfdf\n",
        "*/\n",
        "#include <iostream>\n",
        "using namespace std; // it used for explaination\n",
        "\n",
        "int main() {\n",
        "  cout << \"Goodbye, World!\" << std::endl;\n",
        "  return 0;\n",
        "}"
      ],
      "execution_count": null,
      "outputs": [
        {
          "output_type": "stream",
          "text": [
            "Goodbye, World!\n",
            "\n"
          ],
          "name": "stdout"
        }
      ]
    },
    {
      "cell_type": "markdown",
      "metadata": {
        "id": "9nJmmu7VDI-8"
      },
      "source": [
        "#3-**C++ User Input**\n",
        "\n",
        ".You have already learned that cout is used to output (print) values. Now we will use cin to get user input.\n",
        "\n",
        ".cin is a predefined variable that reads data from the keyboard with the extraction operator (>>)."
      ]
    },
    {
      "cell_type": "code",
      "metadata": {
        "id": "cI_PlqEbB7EG",
        "colab": {
          "base_uri": "https://localhost:8080/",
          "height": 35
        },
        "outputId": "20fe21f9-0d74-4e56-9fae-8a140df58a03"
      },
      "source": [
        "%%cu\n",
        "\n",
        "#include <iostream>\n",
        "using namespace std; // it used for explaination\n",
        "\n",
        "int main() {\n",
        "  int x=0;\n",
        "cout << \"Type a number: \"; // Type a number and press enter\n",
        "cin >> x; // Get user input from the keyboard\n",
        "cout << \"Your number is: \" << x; // Display the input value\n",
        "}"
      ],
      "execution_count": null,
      "outputs": [
        {
          "output_type": "stream",
          "text": [
            "Type a number: Your number is: 0\n"
          ],
          "name": "stdout"
        }
      ]
    },
    {
      "cell_type": "markdown",
      "metadata": {
        "id": "BYz7t5-DFgLd"
      },
      "source": [
        "#4-**Variable and types**\n",
        "\n",
        "**Data types**\n",
        "\n",
        "C++ provides a rich set of built-in as well as user defined data types. Following table lists down seven basic C++ data types:\n",
        "\n",
        "**Built-in**\n",
        "- Boolean - boolean - either true or false (Size 4 bytes).\n",
        "- Integers - whole numbers which can be both positive and negative. Defined using char, int.(Size 4 bytes)\n",
        "- Floating point numbers - real numbers (numbers with - fractions). Defined using float and double (Size 4 bytes)\n",
        "- Double - Stores Fractional numbers.Containing one or more decimals (size 8 bytes )\n",
        "- Char - Stores a Single Characters\n",
        "Valueless using the void keyword\n",
        "Wide character using the wchar_t keyword(Size 1 bytes)\n",
        "\n",
        "**Typdefs**\n",
        "Typedefs allow for creating new names (think of them as aliases) for existing types. Following is the simple syntax to define a new type using typedef:\n",
        "\n",
        "**Defining variables**\n",
        "For numbers, we will usually use the type int, which an integer in the size of a \"word\" the default number size of the machine which your program is compiled on. On most computers today, it is a 32-bit number, which means the number can range from -2,147,483,648 to 2,147,483,647 (same as long).\n",
        "\n",
        "To define the variables foo and bar, we need to use the following syntax:\n",
        "\n",
        "int foo;\n",
        "\n",
        "int bar = 1;\n",
        "\n",
        "The variable foo can be used, but since we did not initialize it, we don't know what's in it. The variable bar contains the number 1.\n",
        "\n",
        "Now, we can do some math. Assuming a, b, c, d, and e are variables, we can simply use plus, minus and multiplication operators in the following notation, and assign a new value to a:\n",
        "\n",
        "int a = 0, b = 1, c = 2, d = 3, e = 4;\n",
        "\n",
        "a = b - c + d * e;\n",
        "\n",
        "cout << a << endl; // will print 1-2+3*4 = 11\n",
        "\n"
      ]
    },
    {
      "cell_type": "code",
      "metadata": {
        "id": "wlbWsYAQqGjm",
        "colab": {
          "base_uri": "https://localhost:8080/",
          "height": 52
        },
        "outputId": "d94e5eb0-2364-443e-ccc0-904081f2fee2"
      },
      "source": [
        "%%cu\n",
        "#include <iostream>\n",
        "using namespace std;\n",
        "\n",
        "int main() {\n",
        "  int a = 3;\n",
        "  float b = 4.5;\n",
        "  double c = 5.25;\n",
        "  double sum;\n",
        "\n",
        "  /* Your code goes here */\n",
        "    sum =a+b+c;\n",
        "\n",
        "  cout << \"The sum of a, b, and c is\" << sum << endl;\n",
        "  return 0;\n",
        "}\n"
      ],
      "execution_count": null,
      "outputs": [
        {
          "output_type": "stream",
          "text": [
            "The sum of a, b, and c is12.75\n",
            "\n"
          ],
          "name": "stdout"
        }
      ]
    },
    {
      "cell_type": "code",
      "metadata": {
        "id": "_y1-oaL4DmST",
        "colab": {
          "base_uri": "https://localhost:8080/",
          "height": 35
        },
        "outputId": "d022ac0d-2fe9-48e9-83a0-1043ed6271a1"
      },
      "source": [
        "%%cu\n",
        "#include <iostream>\n",
        "using namespace std;\n",
        "\n",
        "int main () {\n",
        "  int myNum = 1000;\n",
        "  cout << myNum;\n",
        "  return 0;\n",
        "}\n",
        "\n"
      ],
      "execution_count": null,
      "outputs": [
        {
          "output_type": "stream",
          "text": [
            "1000\n"
          ],
          "name": "stdout"
        }
      ]
    },
    {
      "cell_type": "code",
      "metadata": {
        "id": "6MCMxpNOFLsM",
        "colab": {
          "base_uri": "https://localhost:8080/",
          "height": 35
        },
        "outputId": "23ad653a-b78f-4808-d225-e20d5436c8b9"
      },
      "source": [
        "%%cu\n",
        "#include <iostream>\n",
        "using namespace std;\n",
        "\n",
        "int main(){\n",
        "    float mynumb=2.25;\n",
        "    cout <<mynumb;\n",
        "    return 0;\n",
        "}\n"
      ],
      "execution_count": null,
      "outputs": [
        {
          "output_type": "stream",
          "text": [
            "2.25\n"
          ],
          "name": "stdout"
        }
      ]
    },
    {
      "cell_type": "code",
      "metadata": {
        "id": "dnOb80WmhpEP"
      },
      "source": [
        "%%cu\n",
        "#include <iostream>\n",
        "using namespace std;\n",
        "\n",
        "int main(){\n",
        "    double mynumb=66.87;\n",
        "    cout <<mynumb;\n",
        "    return 0;\n",
        "\n",
        "}\n"
      ],
      "execution_count": null,
      "outputs": []
    },
    {
      "cell_type": "code",
      "metadata": {
        "id": "gRMWj0ubYmlC"
      },
      "source": [
        "%%cu\n",
        "#include <iostream>\n",
        "using namesapace std;\n",
        "\n",
        "int main() {\n",
        "  int x = 5;\n",
        "  int y = 3;\n",
        "  cout << x + y;\n",
        "  return 0;\n",
        "}\n",
        "\n"
      ],
      "execution_count": null,
      "outputs": []
    },
    {
      "cell_type": "markdown",
      "metadata": {
        "id": "niOqrXYirLI0"
      },
      "source": [
        "##4.1**-Strings**\n",
        "Strings are used for storing text.\n",
        "\n",
        "A string variable contains a collection of characters surrounded by double quotes\n"
      ]
    },
    {
      "cell_type": "code",
      "metadata": {
        "id": "3e4il_SbHlGa",
        "colab": {
          "base_uri": "https://localhost:8080/"
        },
        "outputId": "baa080e7-d722-403d-db87-b7abfe88e7f3"
      },
      "source": [
        "%%cu\n",
        "#include <iostream>\n",
        "using namespace std;\n",
        "\n",
        "int main(){\n",
        "    string shahzad = \"hello\";\n",
        "    cout << shahzad;\n",
        "    return 0;\n",
        "}\n"
      ],
      "execution_count": null,
      "outputs": [
        {
          "output_type": "stream",
          "text": [
            "hello\n"
          ],
          "name": "stdout"
        }
      ]
    },
    {
      "cell_type": "markdown",
      "metadata": {
        "id": "OV7wWFvR7tSO"
      },
      "source": [
        "# 5-**C++ Operators**\n",
        "Operators are used to perform operations on variables and values.\n",
        "\n",
        "In the example below, we use the + operator to add together two values:"
      ]
    },
    {
      "cell_type": "markdown",
      "metadata": {
        "id": "ib_1YEkT9RSD"
      },
      "source": [
        "## 5.1**Arithmetic Operators**\n",
        "Arithmetic operators are used to perform common mathematical operations.\n",
        "\n",
        ".(+)  (Addition) \t(Adds together two values)  \t(x + y)\n",
        "\n",
        ".(-) \t(Subtraction)\t(Subtracts one value from another)\t(x - y)\n",
        "\n",
        ".(*) (Multiplication) \t(Multiplies two values) \t(x * y)\n",
        "\n",
        ".(/) \t(Division) \t(Divides one value by another) \t(x / y)\n",
        "\n",
        ".(%) \t(Modulus) \t(Returns the division remainder) \t(x % y)\n",
        "\n",
        ".(++) \t(Increment) \t(Increases the value of a variable by 1) \t(++x)\n",
        "\n",
        ".(--) \t(Decrement) \t(Decreases the value of a variable by 1) \t(--x)"
      ]
    },
    {
      "cell_type": "code",
      "metadata": {
        "id": "QF_Q5Y-j9FNt"
      },
      "source": [
        "%%cu\n",
        "#include <iostream>\n",
        "using namespace std;\n",
        "\n",
        "int main(){\n",
        "    int a = 7;\n",
        "    int b = 6;\n",
        "    int resultplus;\n",
        "    resultplus=a+b;\n",
        "    int resultminus;\n",
        "    resultminus=a-b;\n",
        "    int resultmultiplaction;\n",
        "    resultmultiplaction=a*b;\n",
        "    int resultdivision;\n",
        "    resultdivision=a/b;\n",
        "    cout <<\"additiona+b=\"<<resultplus<<endl;\n",
        "    cout <<\"minusa-b=\"<<resultminus<<endl;\n",
        "    cout <<\"resultmultiplactiona*b=\"<<resultmultiplaction<<endl;\n",
        "    cout <<\"divisiona/b=\"<<resultdivision<<endl;\n",
        "    return 0;\n",
        "}\n"
      ],
      "execution_count": null,
      "outputs": []
    },
    {
      "cell_type": "markdown",
      "metadata": {
        "id": "36_WDdfkG1si"
      },
      "source": [
        "#**5.2Assignment Operators**\n",
        "\n",
        "Assignment operators are used to assign values to variables.\n",
        "\n",
        "In the example below, we use the assignment operator (=) to assign the value 10 to a variable called x:"
      ]
    },
    {
      "cell_type": "code",
      "metadata": {
        "id": "YGtKt_nMHE9b"
      },
      "source": [
        "%%cu\n",
        "#include <iostream>\n",
        "using namespace std;\n",
        "\n",
        "int main(){\n",
        "    int a; // this is definition of assignment\n",
        "    a = 2; //\n",
        "    cout <<a<<endl;\n",
        "    return 0;\n",
        "}"
      ],
      "execution_count": null,
      "outputs": []
    },
    {
      "cell_type": "markdown",
      "metadata": {
        "id": "4mT7mGDzPAj4"
      },
      "source": [
        "## 5.3**Comparison Operators**\n",
        "\n",
        "Comparison operators are used to compare two values.\n",
        "\n",
        "Note: The return value of a comparison is either true (1) or false (0).\n",
        "\n",
        "In the following example, we use the greater than operator (>) to find out if 5 is greater than 3:"
      ]
    },
    {
      "cell_type": "code",
      "metadata": {
        "id": "2TozvDFGXyTG",
        "colab": {
          "base_uri": "https://localhost:8080/",
          "height": 52
        },
        "outputId": "386be4fa-3c66-4707-fae9-42a53183be04"
      },
      "source": [
        "%%cu\n",
        "#include <iostream>\n",
        "using namespace std;\n",
        "\n",
        "int main(){\n",
        "    int a =5;\n",
        "    int b =4;\n",
        "    cout <<(a>b)<<endl;\n",
        "    return 0;\n",
        "}\n"
      ],
      "execution_count": null,
      "outputs": [
        {
          "output_type": "stream",
          "text": [
            "1\n",
            "\n"
          ],
          "name": "stdout"
        }
      ]
    },
    {
      "cell_type": "markdown",
      "metadata": {
        "id": "3puBIFAu5rxI"
      },
      "source": [
        "##5.4**Logical Operators**\n",
        "Logical operators are used to determine the logic between variables or values:\n",
        "\n"
      ]
    },
    {
      "cell_type": "code",
      "metadata": {
        "id": "xRu7fBW06M60"
      },
      "source": [
        "%%cu\n",
        "#include <iostream>\n",
        "using namespace std;\n",
        "\n",
        "int main(){\n",
        "    int a=3;\n",
        "    int b=5;\n",
        "    cout <<(a>3 && a<7)<<endl; // returns true (1) because 3 is greater than 2 AND 2 is less than 3\n",
        "    cout <<(b>3 || b<4)<<endl; // returns true (1) because one of the conditions are true (5 is greater than 3, but 5 is not less than 4)\n",
        "    return 0;\n",
        "}\n"
      ],
      "execution_count": null,
      "outputs": []
    },
    {
      "cell_type": "markdown",
      "metadata": {
        "id": "oNfn7srVI-Dm"
      },
      "source": [
        "#6-**C++ Math**\n",
        "C++ has many functions that allows you to perform mathematical tasks on numbers.\n"
      ]
    },
    {
      "cell_type": "markdown",
      "metadata": {
        "id": "s_3xpRurJT0U"
      },
      "source": [
        "##6.1-**Max and min**\n",
        "The max(x,y) function can be used to find the highest value of x and y:"
      ]
    },
    {
      "cell_type": "code",
      "metadata": {
        "id": "cltZ1_XZJrn1"
      },
      "source": [
        "%%cu\n",
        "#include <iostream>\n",
        "using namespace std;\n",
        "\n",
        "int main(){\n",
        "    int a;\n",
        "    a = 2;\n",
        "    int b;\n",
        "    b = 5;\n",
        "    cout <<max(a,b)<<endl; // this function is used to find max value between two\n",
        "    // value\n",
        "    cout <<min(a,b)<<endl; // this function is used to find min values beteen\n",
        "   // two  value\n",
        "    return 0;\n",
        "}\n"
      ],
      "execution_count": null,
      "outputs": []
    },
    {
      "cell_type": "markdown",
      "metadata": {
        "id": "St_cU5xGL37Y"
      },
      "source": [
        "##6.2-**math Header**\n",
        "Other functions, such as sqrt (square root), round (rounds a number) and log (natural logarithm), can be found in the <cmath> header file:\n"
      ]
    },
    {
      "cell_type": "code",
      "metadata": {
        "id": "jy6B6PNlMQMo"
      },
      "source": [
        "%%cu\n",
        "#include <iostream>\n",
        "#include <cmath>\n",
        "using namespace std;\n",
        "\n",
        "int main(){\n",
        "    int a;\n",
        "    a = 4;\n",
        "    int b;\n",
        "    b = -2;\n",
        "    cout <<\"square value of a=\"<<sqrt(a)<<endl; // sqrt function is used to find squar root of varia\n",
        "    cout <<\"absolate vale of b=\"<<abs(b)<<endl;\n",
        "}\n",
        "\n",
        "\n"
      ],
      "execution_count": null,
      "outputs": []
    },
    {
      "cell_type": "markdown",
      "metadata": {
        "id": "XO3Vd6AoP_Fd"
      },
      "source": [
        "#7-**C++ Booleans**\n",
        "Very often, in programming, you will need a data type that can only have one of two values, like:\n",
        "\n",
        "YES / NO\n",
        "\n",
        "ON / OFF\n",
        "\n",
        "TRUE / FALSE\n",
        "\n",
        "\n",
        "For this, C++ has a bool data type, which can take the values true (1) or false (0).\n",
        "\n"
      ]
    },
    {
      "cell_type": "code",
      "metadata": {
        "id": "xU-JYtJvQ6A-",
        "colab": {
          "base_uri": "https://localhost:8080/",
          "height": 69
        },
        "outputId": "8a3fd428-5948-4ccf-a149-50420db756f9"
      },
      "source": [
        "%%cu\n",
        "#include <iostream>\n",
        "using namespace std;\n",
        "\n",
        "int main(){\n",
        "    bool a =true;\n",
        "    bool b =false;\n",
        "    cout <<a<<endl;\n",
        "    cout <<b<<endl;\n",
        "    return 0;\n",
        "}\n"
      ],
      "execution_count": null,
      "outputs": [
        {
          "output_type": "stream",
          "text": [
            "1\n",
            "0\n",
            "\n"
          ],
          "name": "stdout"
        }
      ]
    },
    {
      "cell_type": "markdown",
      "metadata": {
        "id": "wmABHxPm9y04"
      },
      "source": [
        "##**7.1-Boolean Expression**\n",
        "A Boolean expression is a C++ expression that returns a boolean value: 1 (true) or 0 (false).\n",
        "\n",
        "You can use a comparison operator, such as the greater than (>) operator to find out if an expression (or a variable) is true:"
      ]
    },
    {
      "cell_type": "code",
      "metadata": {
        "id": "OtKusYp5_xcn",
        "colab": {
          "base_uri": "https://localhost:8080/",
          "height": 52
        },
        "outputId": "d7a4f654-0626-4d5c-c4ce-8d72ea1ce7dc"
      },
      "source": [
        "%%cu\n",
        "#include <iostream>\n",
        "using namespace std;\n",
        "\n",
        "int main(){\n",
        "           int a;\n",
        "           a = 2;\n",
        "           int b;\n",
        "           b = 1;\n",
        "           cout <<\"true and false\"<<(a>b)<<endl;\n",
        "           return 0;\n",
        "}\n"
      ],
      "execution_count": null,
      "outputs": [
        {
          "output_type": "stream",
          "text": [
            "true and false1\n",
            "\n"
          ],
          "name": "stdout"
        }
      ]
    },
    {
      "cell_type": "markdown",
      "metadata": {
        "id": "2Eg5xpduAiJT"
      },
      "source": [
        "#**8-C++ Conditions and If Statements**\n",
        "C++ supports the usual logical conditions from mathematics:\n",
        "\n",
        "- Less than: a < b\n",
        "- Less than or equal to: a <= b\n",
        "- Greater than: a > b\n",
        "- Greater than or equal to: a >= b\n",
        "- Equal to a == b\n",
        "- Not Equal to: a != b\n",
        "- You can use these conditions to perform different actions for different decisions.\n",
        "\n",
        "C++ has the following conditional statements:\n",
        "\n",
        "- Use if to specify a block of code to be executed, if a specified condition is true\n",
        "- Use else to specify a block of code to be executed, if the same condition is false\n",
        "- Use else if to specify a new condition to test, if the first condition is false\n",
        "- Use switch to specify many alternative blocks of code to be executed\n"
      ]
    },
    {
      "cell_type": "markdown",
      "metadata": {
        "id": "HKZNKovpDNIN"
      },
      "source": [
        "##**8.1-The if Statement**\n",
        "Use the if statement to specify a block of C++ code to be executed if a condition is true."
      ]
    },
    {
      "cell_type": "code",
      "metadata": {
        "id": "NgeDTZNBDv5V"
      },
      "source": [
        "%%cu\n",
        "#include <iostream>\n",
        "using namespace std;\n",
        "\n",
        "int main(){\n",
        "    if (5>10) {\n",
        "        cout <<\"20 is greater than 10\"<<endl;\n",
        "    }\n",
        "    cout <<\"main body exution\"<<endl;\n",
        "    return 0;\n",
        "}\n"
      ],
      "execution_count": null,
      "outputs": []
    },
    {
      "cell_type": "markdown",
      "metadata": {
        "id": "_dL_5TeTfCJO"
      },
      "source": [
        "##**-8.2The else Statement**\n",
        "Use the else statement to specify a block of code to be executed if the condition is false."
      ]
    },
    {
      "cell_type": "code",
      "metadata": {
        "id": "Uky0BQRTfdip"
      },
      "source": [
        "#include <iostream>\n",
        "using namespace std;\n",
        "\n",
        "int main() {\n",
        "  int time = 20;\n",
        "  if (time < 18) {\n",
        "    cout << \"Good day.\";\n",
        "  } else {\n",
        "    cout << \"Good evening.\";\n",
        "  }\n",
        "  return 0;\n",
        "}\n"
      ],
      "execution_count": null,
      "outputs": []
    },
    {
      "cell_type": "markdown",
      "metadata": {
        "id": "trLHD6JAfhmM"
      },
      "source": [
        "##**8.3-The else if Statement**\n",
        "Use the else if statement to specify a new condition if the first condition is false."
      ]
    },
    {
      "cell_type": "code",
      "metadata": {
        "id": "lXIGAjKrfxN2"
      },
      "source": [
        "%%cu\n",
        "#include <iostream>\n",
        "using namespace std;\n",
        "\n",
        "int main() {\n",
        "  int time = 22;\n",
        "  if (time < 10) {\n",
        "    cout << \"Good morning.\";\n",
        "  } else if (time < 20) {\n",
        "    cout << \"Good day.\";\n",
        "  } else {\n",
        "    cout << \"Good evening.\";\n",
        "  }\n",
        "  return 0;\n",
        "}\n"
      ],
      "execution_count": null,
      "outputs": []
    },
    {
      "cell_type": "markdown",
      "metadata": {
        "id": "rd-BT8dqkJA-"
      },
      "source": [
        "#**9-C++ Switch Statements**\n",
        "Use the switch statement to select one of many code blocks to be executed.\n",
        "This is how it works:\n",
        "-  The switch expression is evaluated once\n",
        "- The value of the expression is compared with the values of each case\n",
        "- If there is a match, the associated block of code is executed\n",
        "- The break and default keywords are optional, and will be described later in this chapter"
      ]
    },
    {
      "cell_type": "code",
      "metadata": {
        "id": "N8cezjiflVKM"
      },
      "source": [
        "%%cu\n",
        "#include <iostream>\n",
        "using namespace std;\n",
        "\n",
        "int main(){\n",
        "    int day=9;\n",
        "    switch(day){\n",
        "     case 1:\n",
        "     cout <<\"monday\";\n",
        "     break;\n",
        "     case 2:\n",
        "     cout <<\"tuesday\";\n",
        "     break;\n",
        "     default:\n",
        "     cout <<\"no case matches\";\n",
        "    }\n",
        "    return 0;\n",
        "}\n"
      ],
      "execution_count": null,
      "outputs": []
    },
    {
      "cell_type": "markdown",
      "metadata": {
        "id": "XjWGTtdroFAd"
      },
      "source": [
        "**The break Keyword**\n",
        "\n",
        "When C++ reaches a break keyword, it breaks out of the switch block.\n",
        "\n",
        "This will stop the execution of more code and case testing inside the block.\n",
        "\n",
        "When a match is found, and the job is done, it's time for a break. There is no need for more testing.\n",
        "\n",
        "A break can save a lot of execution time because it \"ignores\" the execution of all the rest of the code in the switch block."
      ]
    },
    {
      "cell_type": "markdown",
      "metadata": {
        "id": "wfRMqaU0oVQn"
      },
      "source": [
        "**The default Keyword**\n",
        "\n",
        "The default keyword specifies some code to run if there is no case match:"
      ]
    },
    {
      "cell_type": "markdown",
      "metadata": {
        "id": "IttS4YpGrBVI"
      },
      "source": [
        "#**10-Loop**\n",
        "Loops can execute a block of code as long as a specified condition is reached.\n",
        "\n",
        "Loops are handy because they save time, reduce errors, and they make code more readable.\n",
        "\n",
        "**While Loop**\n",
        "\n",
        "The while loop loops through a block of code as long as a specified condition is true:\n"
      ]
    },
    {
      "cell_type": "code",
      "metadata": {
        "id": "NFC8Fw2VtL0R"
      },
      "source": [
        "%%cu\n",
        "#include <iostream>\n",
        "using namespace std;\n",
        "\n",
        "int main(){\n",
        "    int i =0;\n",
        "    while (i<5){\n",
        "        cout <<\"shahzad\"<<\"\\n\";\n",
        "        i++;\n",
        "    }\n",
        "    return 0;\n",
        "}\n"
      ],
      "execution_count": null,
      "outputs": []
    },
    {
      "cell_type": "markdown",
      "metadata": {
        "id": "E4oJNt3SIO4c"
      },
      "source": [
        "##**10.1-The Do/While Loop**\n",
        " - The do/while loop is a variant of the while loop.\n",
        " -This loop will execute the code block once, before checking if the condition is true, then it will repeat the loop as long as the condition is true."
      ]
    },
    {
      "cell_type": "code",
      "metadata": {
        "id": "mxXHBJCbI0Oc"
      },
      "source": [
        "%%cu\n",
        "#include <iostream>\n",
        "using namespace std;\n",
        "\n",
        "int main(){\n",
        "    int i =9;\n",
        "    do{\n",
        "        cout <<\"shahzad\"<<\"\\n\";\n",
        "       i++;\n",
        "    }\n",
        "    while(i<5);\n",
        "    return 0;\n",
        "}\n"
      ],
      "execution_count": null,
      "outputs": []
    },
    {
      "cell_type": "markdown",
      "metadata": {
        "id": "zaDvDhvw34f0"
      },
      "source": [
        "##**10.2-C++ Break**\n",
        "The break statement can also be used to jump out of a loop.\n",
        "\n",
        "This example jumps out of the loop when i is equal to 4:"
      ]
    },
    {
      "cell_type": "code",
      "metadata": {
        "id": "mjFnE38z8wI1"
      },
      "source": [
        "%%cu\n",
        "#include <iostream>\n",
        "using namespace std;\n",
        "\n",
        "int main(){\n",
        "     for (int i = 0; i < 14; i++) {\n",
        "         if (i == 8){\n",
        "          break;\n",
        "         }\n",
        "    cout << i << \"\\n\";\n",
        "  }\n",
        "  return 0;\n",
        "}\n",
        "\n"
      ],
      "execution_count": null,
      "outputs": []
    },
    {
      "cell_type": "markdown",
      "metadata": {
        "id": "wFFSI7LWLKkv"
      },
      "source": [
        "##**10.3-C++ Continue**\n",
        "\n",
        "The continue statement breaks one iteration (in the loop), if a specified condition occurs, and continues with the next iteration in the loop."
      ]
    },
    {
      "cell_type": "code",
      "metadata": {
        "id": "mdZScBZ1NN2A"
      },
      "source": [
        "%%cu\n",
        "#include <iostream>\n",
        "using namespace std;\n",
        "\n",
        "int main(){\n",
        "    for (int i = 0; i < 12; i++) {\n",
        "        if (i == 7){\n",
        "            continue;\n",
        "        }\n",
        "        cout <<i<<\"\\n\";\n",
        "    }\n",
        "    return 0;\n",
        "}\n"
      ],
      "execution_count": null,
      "outputs": []
    },
    {
      "cell_type": "markdown",
      "metadata": {
        "id": "sUO8mXnI1CQ4"
      },
      "source": [
        "#**11-C++ Arrays**\n",
        "Arrays are used to store multiple values in a single variable, instead of declaring separate variables for each value.\n",
        "\n",
        "To declare an array, define the variable type, specify the name of the array followed by square brackets and specify the number of elements it should store:\n",
        "\n",
        "**string cars[4];**\n",
        "\n",
        "To create an array of three integers, you could write:\n",
        "**int myNum[3] = {10, 20, 30};**\n",
        "\n",
        "**Access the Elements of an Array**\n",
        "\n",
        "You access an array element by referring to the index number.\n",
        "\n",
        "This statement accesses the value of the first element in cars:\n",
        "\n",
        "string cars[4] = {\"Volvo\", \"BMW\", \"Ford\", \"Mazda\"};\n",
        "cout << cars[0];\n",
        "// Outputs Volvo"
      ]
    },
    {
      "cell_type": "code",
      "metadata": {
        "id": "iVAce0oW2QfL"
      },
      "source": [
        "%%cu\n",
        "#include <iostream>\n",
        "#include <string>\n",
        "using namespace std;\n",
        "\n",
        "int main() {\n",
        "    string Ali[4] = {\"ijaz\",\"hussain\", \"book\", \"work\"};\n",
        "    cout <<Ali[0];\n",
        "    return 0;\n",
        "}\n"
      ],
      "execution_count": null,
      "outputs": []
    },
    {
      "cell_type": "markdown",
      "metadata": {
        "id": "QNKJaeYNBSTl"
      },
      "source": [
        "**Change an Array Element**\n",
        "\n",
        "To change the value of a specific element, refer to the index number:"
      ]
    },
    {
      "cell_type": "code",
      "metadata": {
        "id": "40LhMn96BoJt"
      },
      "source": [
        "%%cu\n",
        "#include <iostream>\n",
        "using namespace std;\n",
        "\n",
        "int main() {\n",
        "    string hussain[4] = {\"ali\",\"abbas\",\"summar\",\"ayan\"};\n",
        "    hussain[0]=\"haya\";\n",
        "    cout <<hussain[0];\n",
        "    return 0;\n",
        "}"
      ],
      "execution_count": null,
      "outputs": []
    },
    {
      "cell_type": "markdown",
      "metadata": {
        "id": "vtTDrlMQDBZh"
      },
      "source": [
        "##**11.1-C++ Arrays and Loops**\n",
        "\n",
        "You can loop through the array elements with the for loop.\n",
        "\n",
        "The following example outputs all elements in the cars array:"
      ]
    },
    {
      "cell_type": "code",
      "metadata": {
        "id": "3RtCAVgWhI6w",
        "colab": {
          "base_uri": "https://localhost:8080/",
          "height": 35
        },
        "outputId": "ab8df575-a9a8-4493-9024-9bb0e8008121"
      },
      "source": [
        "%%cu\n",
        "#include <iostream>\n",
        "using namespace std;\n",
        "\n",
        "int main() {\n",
        "    int i;\n",
        "    string ali[4] = {\"shahzad\",\"sohail\",\"hamza\",\"haya\"};\n",
        "    for( i = 0; i < 4; i++) {\n",
        "        cout << i << \":\" <<ali[i] << \"\\n\";\n",
        "    }\n",
        "    return 0;\n",
        "}"
      ],
      "execution_count": null,
      "outputs": [
        {
          "output_type": "stream",
          "text": [
            "UsageError: Cell magic `%%cu` not found.\n"
          ],
          "name": "stderr"
        }
      ]
    },
    {
      "cell_type": "markdown",
      "metadata": {
        "id": "q_EnjMysmXtA"
      },
      "source": [
        "## **11.2-C++ Omit Array Size**\n",
        "\n",
        "You don't have to specify the size of the array. But if you don't, it will only be as big as the elements that are inserted into it:"
      ]
    },
    {
      "cell_type": "code",
      "metadata": {
        "id": "Dli714Hmm6I2",
        "colab": {
          "base_uri": "https://localhost:8080/",
          "height": 35
        },
        "outputId": "e4bd9f46-e90a-4dba-89e6-a79bcd2cc042"
      },
      "source": [
        "%%cu\n",
        "#include <iostream>\n",
        "using namespace std;\n",
        "\n",
        "int main() {\n",
        "    int i;\n",
        "    string ali[] = {\"hello\", \"world\",\"key\",\"school\"};\n",
        "    for(i =0; i < 4; i++) {\n",
        "        cout << i << \":\" <<ali[i] << \"\\n\";\n",
        "    }\n",
        "    return 0;\n",
        "}\n"
      ],
      "execution_count": null,
      "outputs": [
        {
          "output_type": "stream",
          "text": [
            "UsageError: Cell magic `%%cu` not found.\n"
          ],
          "name": "stderr"
        }
      ]
    },
    {
      "cell_type": "markdown",
      "metadata": {
        "id": "fPxquldAstcO"
      },
      "source": [
        "#**12-C++ References**\n",
        "\n",
        " A reference variable is a \"reference\" to an existing variable, and it is created with the & operator:"
      ]
    },
    {
      "cell_type": "code",
      "metadata": {
        "id": "lhANVR0-tZJJ"
      },
      "source": [
        "%%cu\n",
        "#include <iostream>\n",
        "using namespace std;\n",
        "\n",
        "int main() {\n",
        "    string ali = \"pizza\";\n",
        "    string &meal = ali;\n",
        "\n",
        "    cout << ali <<endl;\n",
        "    cout << meal <<endl;\n",
        "    return 0;\n",
        "}\n"
      ],
      "execution_count": null,
      "outputs": []
    },
    {
      "cell_type": "markdown",
      "metadata": {
        "id": "bYVQO3MQ6Mko"
      },
      "source": [
        "#**13-C++ Memory Address**\n",
        "\n",
        "In the example from the previous page, the & operator was used to create a reference variable. But it can also be used to get the memory address of a variable; which is the location of where the variable is stored on the computer.\n",
        "\n",
        "When a variable is created in C++, a memory address is assigned to the variable. And when we assign a value to the variable, it is stored in this memory address.\n",
        "\n",
        "To access it, use the & operator, and the result will represent where the variable is stored:"
      ]
    },
    {
      "cell_type": "code",
      "metadata": {
        "id": "UNIfawb86g7J"
      },
      "source": [
        "%%cu\n",
        "#include <iostream>\n",
        "using namespace std;\n",
        "\n",
        "int main() {\n",
        "    string food = \"pizza\";\n",
        "\n",
        "    cout <<&food;\n",
        "    return 0;\n",
        "}\n"
      ],
      "execution_count": null,
      "outputs": []
    },
    {
      "cell_type": "markdown",
      "metadata": {
        "id": "nUSGbwzilwYY"
      },
      "source": [
        "#**14-C++ Pointers**\n",
        "\n",
        "You learned from the previous chapter, that we can get the memory address of a variable by using the & operator:\n",
        "\n",
        "A pointer however, is a variable that stores the memory address as its value.\n",
        "\n",
        "\n",
        "A pointer variable points to a data type (like int or string) of the same type, and is created with the * operator. The address of the variable you're working with is assigned to the pointer:\n",
        "\n",
        "**Example explained**\n",
        "\n",
        "Create a pointer variable with the name ptr, that points to a string variable, by using the asterisk sign * (string* ptr). Note that the type of the pointer has to match the type of the variable you're working with.\n",
        "\n",
        "Use the & operator to store the memory address of the variable called food, and assign it to the pointer.\n",
        "\n",
        "Now, ptr holds the value of food's memory address."
      ]
    },
    {
      "cell_type": "code",
      "metadata": {
        "id": "OphkYtZz1bv7"
      },
      "source": [
        "%%cu\n",
        "#include <iostream>\n",
        "using namespace std;\n",
        " int main(){\n",
        "     string food = \"pizza\";\n",
        "     string* ptr = &food;\n",
        "\n",
        "     cout << food <<endl;\n",
        "     cout << &food <<endl;\n",
        "     cout << ptr <<endl;\n",
        "     return 0;\n",
        "     }\n"
      ],
      "execution_count": null,
      "outputs": []
    },
    {
      "cell_type": "markdown",
      "metadata": {
        "id": "APmm_FM2pPO0"
      },
      "source": [
        "#**15-C++ Functions**\n",
        "\n",
        "A function is a block of code which only runs when it is called.\n",
        "\n",
        "You can pass data, known as parameters, into a function.\n",
        "\n",
        "Functions are used to perform certain actions, and they are important for reusing code: Define the code once, and use it many times.\n",
        "\n",
        "**Create a Function**\n",
        "\n",
        "C++ provides some pre-defined functions, such as main(), which is used to execute code. But you can also create your own functions to perform certain actions.\n",
        "\n",
        "To create (often referred to as declare) a function, specify the name of the function, followed by parentheses ():\n",
        "\n",
        "**Syntax**\n",
        "\n",
        "void myFunction() {\n",
        "  // code to be executed\n",
        "}\n",
        "\n",
        "**Example Explained**\n",
        "\n",
        "- myFunction() is the name of the function\n",
        "- void means that the function does not have a return  value. You will learn more about return values later in the next chapter\n",
        "- inside the function (the body), add code that defines what the function should do\n",
        "\n",
        "**Call a Function**\n",
        "\n",
        "Declared functions are not executed immediately. They are \"saved for later use\", and will be executed later, when they are called.\n",
        "\n",
        "To call a function, write the function's name followed by two parentheses () and a semicolon ;\n",
        "\n",
        "In the following example, myFunction() is used to print a text (the action), when it is called:\n",
        "\n",
        "**Example**\n",
        "\n",
        "Inside main, call myFunction():\n",
        "\n",
        "\n"
      ]
    },
    {
      "cell_type": "code",
      "metadata": {
        "id": "SPwGjHqPsxGt"
      },
      "source": [
        "%%cu\n",
        "#include <iostream>\n",
        "using namespace std;\n",
        "\n",
        "void pakistan() {\n",
        "    cout << \"long live pakistan!\";\n",
        "}\n",
        "int main(){\n",
        "    cout <<\"first output\"<<endl;\n",
        "  pakistan();\n",
        "  cout <<\"second output\"<<endl;\n",
        "   pakistan();\n",
        "   return 0;\n",
        "}\n"
      ],
      "execution_count": null,
      "outputs": []
    },
    {
      "cell_type": "code",
      "metadata": {
        "id": "LPAjC4CYKhIr"
      },
      "source": [],
      "execution_count": null,
      "outputs": []
    },
    {
      "cell_type": "markdown",
      "metadata": {
        "id": "We-bD_i7JLuf"
      },
      "source": [
        "**Function Declaration and Definition**\n",
        "\n",
        "A C++ function consist of two parts:\n",
        "\n",
        "- Declaration: the function's name, return type, and parameters (if any)\n",
        "- Definition: the body of the function (code to be executed)\n",
        "\n",
        "Note: If a user-defined function, such as myFunction() is declared after the main() function, an error will occur. It is because C++ works from top to bottom; which means that if the function is not declared above main(), the program is unaware of it:\n"
      ]
    },
    {
      "cell_type": "code",
      "metadata": {
        "id": "fCZKZPw4KjGZ"
      },
      "source": [
        "%%cu\n",
        "#include <iostream>\n",
        "using namespace std;\n",
        "\n",
        "void myFunction() {\n",
        "  cout << \"I just got executed!\";\n",
        "}\n",
        "\n",
        "\n",
        "int main() {\n",
        "  myFunction();\n",
        "  return 0;\n",
        "}\n"
      ],
      "execution_count": null,
      "outputs": []
    },
    {
      "cell_type": "markdown",
      "metadata": {
        "id": "bPCJYXj8FrTF"
      },
      "source": [
        "##**15.1-C++ Function Parameters**\n",
        "\n",
        "Information can be passed to functions as a parameter. Parameters act as variables inside the function.\n",
        "\n",
        "Parameters are specified after the function name, inside the parentheses. You can add as many parameters as you want, just separate them with a comma:\n",
        "\n",
        "When a parameter is passed to the function, it is called an argument. So, from the example above: fname is a parameter, while Liam, Jenny and Anja are arguments."
      ]
    },
    {
      "cell_type": "code",
      "metadata": {
        "id": "q6zcI0JRGTsb"
      },
      "source": [
        "%%cu\n",
        "#include <iostream>\n",
        "using namespace std;\n",
        "\n",
        "void hussain(string word) {\n",
        "    cout << word <<endl;\n",
        "}\n",
        "    int main(){\n",
        "        hussain(\"school\");\n",
        "        hussain(\"book\");\n",
        "        hussain(\"pen\");\n",
        "        hussain(\"pencial\");\n",
        "        return 0;\n",
        "    }"
      ],
      "execution_count": null,
      "outputs": []
    },
    {
      "cell_type": "markdown",
      "metadata": {
        "id": "n5-qq5GCEhRu"
      },
      "source": [
        "##**15.2-C++ Default Parameters**\n",
        "\n",
        "You can also use a default parameter value, by using the equals sign (=).\n",
        "\n",
        "If we call the function without an argument, it uses the default value (\"Norway\"):\n",
        "\n",
        "A parameter with a default value, is often known as an \"optional parameter\". From the example above, country is an optional parameter and \"Norway\" is the default value."
      ]
    },
    {
      "cell_type": "code",
      "metadata": {
        "id": "R-QRTROFFF9u"
      },
      "source": [
        "%%cu\n",
        "#include <iostream>\n",
        "using namespace std;\n",
        "\n",
        "void shahzad(string name =\"haider\"){\n",
        "cout << name <<endl;\n",
        "}\n",
        "int main(){\n",
        "shahzad(\"haya\");\n",
        "shahzad(\"summar\");\n",
        "shahzad();\n",
        "shahzad(\"ayan\");\n",
        "return 0;\n",
        "}\n"
      ],
      "execution_count": null,
      "outputs": []
    },
    {
      "cell_type": "markdown",
      "metadata": {
        "id": "iBvuO9zTObed"
      },
      "source": [
        "##**15.3-C++ Multiple Parameters**\n",
        "\n",
        "Inside the function, you can add as many parameters as you want:\n",
        "\n",
        "Note that when you are working with multiple parameters, the function call must have the same number of arguments as there are parameters, and the arguments must be passed in the same order."
      ]
    },
    {
      "cell_type": "code",
      "metadata": {
        "id": "jA75IpobO1mk"
      },
      "source": [
        "%%cu\n",
        "#include <iostream>\n",
        "using namespace std;\n",
        "\n",
        "void work(string shahzad, int age) {\n",
        "     cout << shahzad << \" endl. \" << age << \" years old.endl\";\n",
        "}\n",
        "int main(){\n",
        "    work(\"haya\",5);\n",
        "    work(\"summar\",11);\n",
        "    work(\"mahdi\",4);\n",
        "    work(\"lahar\",10);\n",
        "    return 0;\n",
        "}\n"
      ],
      "execution_count": null,
      "outputs": []
    },
    {
      "cell_type": "markdown",
      "metadata": {
        "id": "GIJQufyY80xa"
      },
      "source": [
        "##**15.4-C++ The Return Keyword**\n",
        "\n",
        "The void keyword, used in the previous examples, indicates that the function should not return a value. If you want the function to return a value, you can use a data type (such as int, string, etc.) instead of void, and use the return keyword inside the function:"
      ]
    },
    {
      "cell_type": "code",
      "metadata": {
        "id": "NyToEurM9RtM",
        "colab": {
          "base_uri": "https://localhost:8080/",
          "height": 52
        },
        "outputId": "883f91f2-2f59-4ceb-b11d-7bac873a9182"
      },
      "source": [
        "%%cu\n",
        "#include <iostream>\n",
        "using namespace std;\n",
        "\n",
        "int world(int x, int y) {\n",
        "    int sum = x+y;\n",
        "    return sum;\n",
        "}\n",
        "int main(){\n",
        "    int finalsum = world(5 , 7);\n",
        "    cout <<finalsum<<endl;\n",
        "    return 0;\n",
        "}"
      ],
      "execution_count": null,
      "outputs": [
        {
          "output_type": "stream",
          "text": [
            "12\n",
            "\n"
          ],
          "name": "stdout"
        }
      ]
    },
    {
      "cell_type": "markdown",
      "metadata": {
        "id": "PQY0B5E5B4Ip"
      },
      "source": [
        "##**15.5-C++ Function Overloading**\n",
        "\n",
        "With function overloading, multiple functions can have the same name with different parameters:\n",
        "\n",
        "Instead of defining two functions that should do the same thing, it is better to overload one.\n",
        "\n",
        "In the example below, we overload the plusFunc function to work for both int and double:\n",
        "\n",
        "Note: Multiple functions can have the same name as long as the number and/or type of parameters are different."
      ]
    },
    {
      "cell_type": "code",
      "metadata": {
        "id": "iKnJVdmxNGcC",
        "colab": {
          "base_uri": "https://localhost:8080/",
          "height": 69
        },
        "outputId": "87aadcf6-2cd0-4df0-e48e-fc8e2fbffefc"
      },
      "source": [
        "%%cu\n",
        "#include <iostream>\n",
        "using namespace std;\n",
        "\n",
        "int myfunction(int x, int y) {\n",
        "    return  x + y;\n",
        "}\n",
        "double myfunction(double x, double y) {\n",
        "    return x + y;\n",
        "}\n",
        "int main(){\n",
        "    int number1 = myfunction(8 , 6);\n",
        "    double number2 = myfunction(5.5 , 2.5);\n",
        "    cout <<\"Int: \" << number1<<endl;\n",
        "    cout <<\"Double: \" <<number2<<endl;\n",
        "    return 0;\n",
        "}"
      ],
      "execution_count": null,
      "outputs": [
        {
          "output_type": "stream",
          "text": [
            "Int: 14\n",
            "Double: 8\n",
            "\n"
          ],
          "name": "stdout"
        }
      ]
    },
    {
      "cell_type": "markdown",
      "metadata": {
        "id": "x2B9CUQsagFb"
      },
      "source": [
        "#**16-C++ OOP**\n",
        "\n",
        "**C++ What is OOP?**\n",
        "\n",
        "OOP stands for Object-Oriented Programming.\n",
        "\n",
        "Procedural programming is about writing procedures or functions that perform operations on the data, while object-oriented programming is about creating objects that contain both data and functions.\n",
        "\n",
        "Object-oriented programming has several advantages over procedural programming:\n",
        "\n",
        "- OOP is faster and easier to execute\n",
        "- OOP provides a clear structure for the programs\n",
        "- OOP helps to keep the C++ code DRY \"Don't Repeat Yourself\", and makes the code easier to maintain, modify and debug\n",
        "- OOP makes it possible to create full reusable applications with less code and shorter development time.\n"
      ]
    },
    {
      "cell_type": "markdown",
      "metadata": {
        "id": "UFiLQeS-bXWQ"
      },
      "source": [
        "##**16.1-C++ What are Classes and Objects?**\n",
        "\n",
        "Classes and objects are the two main aspects of object-oriented programming.\n",
        "\n",
        "Look at the following illustration to see the difference between class and objects:\n",
        "\n",
        "So, a class is a template for objects, and an object is an instance of a class.\n",
        "\n",
        "When the individual objects are created, they inherit all the variables and functions from the class.\n",
        "\n",
        "You will learn much more about classes and objects in the next chapter."
      ]
    },
    {
      "cell_type": "markdown",
      "metadata": {
        "id": "6avXp3e6i0gy"
      },
      "source": [
        "![](https://drive.google.com/uc?export=view&id=1OiI0OM8SZDffAmtpczf56BYziR6f_b2T)"
      ]
    },
    {
      "cell_type": "markdown",
      "metadata": {
        "id": "0-yalxwvbwV_"
      },
      "source": [
        "##**16.2-C++ Classes and Objects**\n",
        "\n",
        " C++ is an object-oriented programming language.\n",
        "\n",
        "Everything in C++ is associated with classes and objects, along with its attributes and methods. For example: in real life, a car is an object. The car has attributes, such as weight and color, and methods, such as drive and brake.\n",
        "\n",
        "Attributes and methods are basically variables and functions that belongs to the class. These are often referred to as \"class members\".\n",
        "\n",
        "A class is a user-defined data type that we can use in our program, and it works as an object constructor, or a \"blueprint\" for creating objects.\n",
        "\n",
        "**Create a Class**\n",
        "To create a class, use the class keyword:\n",
        "Create a class called \"MyClass\":\n"
      ]
    },
    {
      "cell_type": "code",
      "metadata": {
        "id": "fkzkxwUccMSv"
      },
      "source": [
        "class MyClass {       // The class\n",
        "  public:             // Access specifier\n",
        "    int myNum;        // Attribute (int variable)\n",
        "    string myString;  // Attribute (string variable)\n",
        "};"
      ],
      "execution_count": null,
      "outputs": []
    },
    {
      "cell_type": "markdown",
      "metadata": {
        "id": "ikW440GpcXle"
      },
      "source": [
        "**Example explained**\n",
        "- The class keyword is used to create a class called MyClass.\n",
        "- The public keyword is an access specifier, which specifies that members (attributes and methods) of the class are accessible from outside the class. You will learn more about access specifiers later.\n",
        "\n",
        "- Inside the class, there is an integer variable myNum and a string variable myString. When variables are declared within a class, they are called attributes.\n",
        "\n",
        "- At last, end the class definition with a semicolon ;."
      ]
    },
    {
      "cell_type": "markdown",
      "metadata": {
        "id": "iFNDPAfEc6Vr"
      },
      "source": [
        "##**16.3-Create an Object**\n",
        "\n",
        "In C++, an object is created from a class. We have already created the class named MyClass, so now we can use this to create objects.\n",
        "\n",
        "To create an object of MyClass, specify the class name, followed by the object name.\n",
        "\n",
        "To access the class attributes (myNum and myString), use the dot syntax (.) on the object:\n",
        "\n",
        "**Example**\n",
        "Create an object called \"myObj\" and access the attributes:\n"
      ]
    },
    {
      "cell_type": "code",
      "metadata": {
        "id": "knHNJ5ixd38f"
      },
      "source": [
        "%%cu\n",
        "#include <iostream>\n",
        "using namespace std;\n",
        "\n",
        "class MyClass {       //  class\n",
        "  public:             //  specifier\n",
        "    int myNum;        // Attribute (int )\n",
        "    string myString;  // Attribute (string)\n",
        "};\n",
        "\n",
        "int main() {\n",
        "  MyClass myObj;  //  object of MyClass\n",
        "\n",
        "  // Access attributes and set values\n",
        "  myObj.myNum = 70;\n",
        "  myObj.myString = \"pakistan\";\n",
        "\n",
        "  // Print values\n",
        "  cout << myObj.myNum <<endl;\n",
        "  cout << myObj.myString <<endl;\n",
        "  return 0;\n",
        "}\n"
      ],
      "execution_count": null,
      "outputs": []
    },
    {
      "cell_type": "markdown",
      "metadata": {
        "id": "yw4fArnyUtQs"
      },
      "source": [
        "##**16.4-Multiple Objects**\n",
        "You can create multiple objects of one class:"
      ]
    },
    {
      "cell_type": "code",
      "metadata": {
        "id": "n5I0jPviVQV_"
      },
      "source": [
        "%%cu\n",
        "#include <iostream>\n",
        "using namespace std;\n",
        "\n",
        "class car {\n",
        "    public:\n",
        "    string brand;\n",
        "    string model;\n",
        "    int year;\n",
        "};\n",
        "\n",
        "int main(){\n",
        "    car carobj1;\n",
        "    carobj1.brand = \"BMW\";\n",
        "    carobj1.model = \"vvt\";\n",
        "    carobj1.year = 2002;\n",
        "\n",
        "    car carobj2;\n",
        "    carobj2.brand = \"toyota\";\n",
        "    carobj2.model = \"vvtr\";\n",
        "    carobj2.year = 2006;\n",
        "\n",
        "    cout << carobj1.brand << \" \" << carobj1.model << \" \" << carobj1.year <<endl;\n",
        "    cout << carobj2.brand << \" \" <<carobj2.model << \" \" << carobj2.year <<endl;\n",
        "    return 0;\n",
        "}"
      ],
      "execution_count": null,
      "outputs": []
    },
    {
      "cell_type": "markdown",
      "metadata": {
        "id": "YKs9jqr5ypCy"
      },
      "source": [
        "##**16.5-C++ Class Methods**\n",
        "Methods are functions that belongs to the class.\n",
        "\n",
        "There are two ways to define functions that belongs to a class:\n",
        "\n",
        "- Inside class definition\n",
        "- Outside class definition\n",
        "\n",
        "In the following example, we define a function inside the class, and we name it \"myMethod\".\n",
        "\n",
        "**Note**: You access methods just like you access attributes; by creating an object of the class and by using the dot syntax (.):"
      ]
    },
    {
      "cell_type": "markdown",
      "metadata": {
        "id": "8tNhfq4re__H"
      },
      "source": [
        "**inside**"
      ]
    },
    {
      "cell_type": "code",
      "metadata": {
        "id": "sm1ZZJQ9roBY",
        "colab": {
          "base_uri": "https://localhost:8080/",
          "height": 35
        },
        "outputId": "f230050b-58be-4e4a-8dac-36ac88010d4f"
      },
      "source": [
        "%%cu\n",
        "#include <iostream>\n",
        "using namespace std;\n",
        "\n",
        "class pakistan {\n",
        "    public:\n",
        "    void mymethod() {\n",
        "        cout <<\"pakistani people\";\n",
        "    }\n",
        "    };\n",
        "    int main() {\n",
        "        pakistan myobj;\n",
        "        myobj.mymethod();\n",
        "        return 0;\n",
        "    }\n"
      ],
      "execution_count": null,
      "outputs": [
        {
          "output_type": "stream",
          "text": [
            "pakistani people\n"
          ],
          "name": "stdout"
        }
      ]
    },
    {
      "cell_type": "markdown",
      "metadata": {
        "id": "30mXZ2RhfOZq"
      },
      "source": [
        "**0utside example**"
      ]
    },
    {
      "cell_type": "code",
      "metadata": {
        "id": "8ypQq7r9gS4b"
      },
      "source": [
        "%%cu\n",
        "#include <iostream>\n",
        "using namespace std;\n",
        "\n",
        "class myclass {\n",
        "    public:\n",
        "    void mymethod();\n",
        "};\n",
        "void myclass::mymethod(){\n",
        "    cout << \"pakistan\";\n",
        "}\n",
        " int main(){\n",
        "     myclass myobj;\n",
        "     myobj.mymethod();\n",
        "     return 0;\n",
        " }"
      ],
      "execution_count": null,
      "outputs": []
    },
    {
      "cell_type": "markdown",
      "metadata": {
        "id": "TjfHMajLi1Dm"
      },
      "source": [
        "#**17-C++ Constructors**\n",
        "\n",
        "A constructor in C++ is a special method that is automatically called when an object of a class is created.\n",
        "\n",
        "To create a constructor, use the same name as the class, followed by parentheses ():"
      ]
    },
    {
      "cell_type": "code",
      "metadata": {
        "id": "3AvaEXu2-QxC",
        "colab": {
          "base_uri": "https://localhost:8080/",
          "height": 35
        },
        "outputId": "0f95d523-49db-4d10-ce74-0d3caf355cd5"
      },
      "source": [
        "%%cu\n",
        "#include <iostream>\n",
        "using namespace std;\n",
        "\n",
        "class shahzad {     // class\n",
        "  public:           //  specifier\n",
        "    shahzad() {     // Constructor\n",
        "      cout << \"Hello World!\";\n",
        "    }\n",
        "};\n",
        "\n",
        "int main() {\n",
        "  shahzad myObj;    // this will call the constructor\n",
        "  return 0;\n",
        "}\n"
      ],
      "execution_count": null,
      "outputs": [
        {
          "output_type": "stream",
          "text": [
            "UsageError: Cell magic `%%cu` not found.\n"
          ],
          "name": "stderr"
        }
      ]
    },
    {
      "cell_type": "markdown",
      "metadata": {
        "id": "_F28EhuSu1eD"
      },
      "source": [
        "#**17.1-Constructor Parameters**\n",
        "\n",
        "Constructors can also take parameters (just like regular functions), which can be useful for setting initial values for attributes.\n",
        "\n",
        "The following class have brand, model and year attributes, and a constructor with different parameters. Inside the constructor we set the attributes equal to the constructor parameters (brand=x, etc). When we call the constructor (by creating an object of the class), we pass parameters to the constructor, which will set the value of the corresponding attributes to the same:"
      ]
    },
    {
      "cell_type": "code",
      "metadata": {
        "id": "Xn431nakKXzT"
      },
      "source": [
        "%%cu\n",
        "#include <iostream>\n",
        "using namespace std;\n",
        "\n",
        "class Car {        //  class\n",
        "  public:          //  specifier\n",
        "    string brand;  // Attribute\n",
        "    string model;  // Attribute\n",
        "    int year;      // Attribute\n",
        "    Car(string x, string y, int z) {  // Constructor with parameters\n",
        "      brand = x;\n",
        "      model = y;\n",
        "      year = z;\n",
        "    }\n",
        "};\n",
        "\n",
        "int main() {\n",
        "  // Create Car objects and call the constructor with different values\n",
        "  Car carObj1(\"toyota\", \"vvt\", 2006);\n",
        "  Car carObj2(\"honda\", \"vvtr\", 2012);\n",
        "\n",
        "  // Print values\n",
        "  cout << carObj1.brand << \" \" << carObj1.model << \" \" << carObj1.year << endl;\n",
        "  cout << carObj2.brand << \" \" << carObj2.model << \" \" << carObj2.year << endl;\n",
        "  return 0;\n",
        "}\n"
      ],
      "execution_count": null,
      "outputs": []
    },
    {
      "cell_type": "markdown",
      "metadata": {
        "id": "aNN7SeiV-53A"
      },
      "source": [
        "#**18-C++ Access Specifiers**\n",
        "By now, you are quite familiar with the public keyword that appears in all of our class examples:\n",
        "\n",
        "The public keyword is an access specifier. Access specifiers define how the members (attributes and methods) of a class can be accessed. In the example above, the members are public - which means that they can be accessed and modified from outside the code.\n",
        "\n",
        "However, what if we want members to be private and hidden from the outside world?\n",
        "\n",
        "In C++, there are three access specifiers:\n",
        "\n",
        "- public - members are accessible from outside the class\n",
        "- private - members cannot be accessed (or viewed) from outside the class\n",
        "- protected - members cannot be accessed from outside the class, however, they can be accessed in inherited classes. You will learn more about Inheritance later.\n",
        "\n",
        "In the following example, we demonstrate the differences between public and private members:"
      ]
    },
    {
      "cell_type": "code",
      "metadata": {
        "id": "q1lHdkf0_8pS",
        "colab": {
          "base_uri": "https://localhost:8080/",
          "height": 35
        },
        "outputId": "f4166a20-ea26-4a8b-8800-95eb999da2d8"
      },
      "source": [
        "%%cu\n",
        "#include <iostream>\n",
        "using namespace std;\n",
        "\n",
        "class myclass{     // class\n",
        "    public:        // public acccess specifier\n",
        "    int x;         // attributes\n",
        "    private:      // private access specifier\n",
        "    int y;         // attributes\n",
        "\n",
        "};\n",
        "\n",
        "int main() {\n",
        "  myclass myObj;\n",
        "  myObj.x = 90;\n",
        "  //myObj.y = 60;\n",
        "  return 0;\n",
        "}\n"
      ],
      "execution_count": null,
      "outputs": [
        {
          "output_type": "stream",
          "text": [
            "\n"
          ],
          "name": "stdout"
        }
      ]
    },
    {
      "cell_type": "markdown",
      "metadata": {
        "id": "wrzNmUoEKkc0"
      },
      "source": [
        "#**18-C++ Encapsulation**\n",
        "\n",
        " The meaning of Encapsulation, is to make sure that \"sensitive\" data is hidden from users. To achieve this, you must declare class variables/attributes as private (cannot be accessed from outside the class). If you want others to read or modify the value of a private member, you can provide public get and set methods.\n",
        "\n",
        " **Access Private Members**\n",
        "\n",
        "\n",
        "To access a private attribute, use public \"get\" and \"set\" methods:\n",
        "\n",
        "**Example explained**\n",
        "The salary attribute is private, which have restricted access.\n",
        "\n",
        "The public setSalary() method takes a parameter (s) and assigns it to the salary attribute (salary = s).\n",
        "\n",
        "The public getSalary() method returns the value of the private salary attribute.\n",
        "\n",
        "Inside main(), we create an object of the Employee class. Now we can use the setSalary() method to set the value of the private attribute to 50000. Then we call the getSalary() method on the object to return the value."
      ]
    },
    {
      "cell_type": "code",
      "metadata": {
        "id": "LZUtxrMBLG0Q"
      },
      "source": [
        "%%cu\n",
        "#include <iostream>\n",
        "using namespace std;\n",
        "\n",
        "class Employee {\n",
        "  private:\n",
        "    int salary;\n",
        "\n",
        "  public:\n",
        "    void setSalary(int s) {\n",
        "      salary = s;\n",
        "    }\n",
        "    int getSalary() {\n",
        "      return salary;\n",
        "    }\n",
        "};\n",
        "\n",
        "int main() {\n",
        "  Employee myObj;\n",
        "  myObj.setSalary(20000);\n",
        "  cout << myObj.getSalary();\n",
        "  return 0;\n",
        "}\n"
      ],
      "execution_count": null,
      "outputs": []
    },
    {
      "cell_type": "markdown",
      "metadata": {
        "id": "p_UUoBOcIPgl"
      },
      "source": [
        "#**19-C++ Inheritance**\n",
        "\n",
        "In C++, it is possible to inherit attributes and methods from one class to another. We group the \"inheritance concept\" into two categories:\n",
        "\n",
        "- derived class (child) - the class that inherits from another class\n",
        "- base class (parent) - the class being inherited from\n",
        "To inherit from a class, use the : symbol.\n",
        "\n",
        "In the example below, the Car class (child) inherits the attributes and methods from the Vehicle class (parent):"
      ]
    },
    {
      "cell_type": "code",
      "metadata": {
        "id": "f9VJ1RBkIiaR"
      },
      "source": [
        "%%cu\n",
        "#include <iostream>\n",
        "using namespace std;\n",
        "\n",
        "// Base class\n",
        "class Vehicle {\n",
        "  public:\n",
        "    string brand = \"toyota\";\n",
        "    void honk() {\n",
        "      cout << \"Tuut, tuut\"<<endl;\n",
        "    }\n",
        "};\n",
        "\n",
        "// Derived class\n",
        "class Car: public Vehicle {\n",
        "  public:\n",
        "    string model = \"Mustang\";\n",
        "};\n",
        "\n",
        "int main() {\n",
        "  Car myCar;\n",
        "  myCar.honk();\n",
        "  cout << myCar.brand + \" \" + myCar.model;\n",
        "  return 0;\n",
        "}\n",
        "\n"
      ],
      "execution_count": null,
      "outputs": []
    },
    {
      "cell_type": "markdown",
      "metadata": {
        "id": "5la1foDEJBf1"
      },
      "source": [
        "##**19.1-C++ Multilevel Inheritance**\n",
        "\n",
        " class can also be derived from one class, which is already derived from another class.\n",
        "\n",
        "In the following example, MyGrandChild is derived from class MyChild (which is derived from MyClass)"
      ]
    },
    {
      "cell_type": "code",
      "metadata": {
        "id": "dgrXvg5aJXZM"
      },
      "source": [
        "%%cu\n",
        "#include <iostream>\n",
        "using namespace std;\n",
        "\n",
        "// Parent class\n",
        "class MyClass {\n",
        "  public:\n",
        "    void myFunction() {\n",
        "      cout << \"Some content in parent class.\" ;\n",
        "    }\n",
        "};\n",
        "\n",
        "// Child class\n",
        "class MyChild: public MyClass {\n",
        "};\n",
        "\n",
        "// Grandchild class\n",
        "class MyGrandChild: public MyChild {\n",
        "};\n",
        "\n",
        "int main() {\n",
        "  MyGrandChild myObj;\n",
        "  myObj.myFunction();\n",
        "  return 0;\n",
        "}\n"
      ],
      "execution_count": null,
      "outputs": []
    },
    {
      "cell_type": "markdown",
      "metadata": {
        "id": "-K-eaTkjYOs7"
      },
      "source": [
        "##**19.2-Multiple Inheritance**\n",
        "\n",
        "A class can also be derived from more than one base class, using a comma-separated list:"
      ]
    },
    {
      "cell_type": "code",
      "metadata": {
        "id": "B5M8sy3SYm9g"
      },
      "source": [
        "%%cu\n",
        "#include <iostream>\n",
        "using namespace std;\n",
        "\n",
        "class myclass {\n",
        "    public:\n",
        "    void myfunction() {\n",
        "        cout <<\"shahzad hussain\"<<endl;\n",
        "    }\n",
        "};\n",
        "class myotherclass {\n",
        "    public:\n",
        "    void myotherfunction(){\n",
        "        cout <<\"pakistan\"<<endl;\n",
        "    }\n",
        "};\n",
        "class mychildclass:public myclass,public myotherclass{\n",
        "\n",
        "};\n",
        "int main() {\n",
        "    mychildclass myobj;\n",
        "    myobj.myfunction();\n",
        "    myobj.myotherfunction();\n",
        "    return 0;\n",
        "}"
      ],
      "execution_count": null,
      "outputs": []
    },
    {
      "cell_type": "markdown",
      "metadata": {
        "id": "iknD_cDNhdry"
      },
      "source": [
        "#**19.3-Access Specifiers**\n",
        "\n",
        "You learned from the Access Specifiers chapter that there are three specifiers available in C++. Until now, we have only used public (members of a class are accessible from outside the class) and private (members can only be accessed within the class). The third specifier, protected, is similar to private, but it can also be accessed in the inherited class:"
      ]
    },
    {
      "cell_type": "code",
      "metadata": {
        "id": "6TdQDC7GEN2_"
      },
      "source": [
        "%%cu\n",
        "#include <iostream>\n",
        "using namespace std;\n",
        "\n",
        "// Base class\n",
        "class Employee  {\n",
        "  protected:  // Protected access specifier\n",
        "    int salary;\n",
        "};\n",
        "\n",
        "// Derived class\n",
        "class Programmer: public Employee {\n",
        "  public:\n",
        "    int bonus;\n",
        "    void setSalary(int s) {\n",
        "      salary = s;\n",
        "    }\n",
        "    int getSalary() {\n",
        "      return salary;\n",
        "    }\n",
        "};\n",
        "\n",
        "int main() {\n",
        "  Programmer myObj;\n",
        "  myObj.setSalary(70000);\n",
        "  myObj.bonus = 1500;\n",
        "  cout << \"Salary: \" << myObj.getSalary() << \"\\n\";\n",
        "  cout << \"Bonus: \" << myObj.bonus << \"\\n\";\n",
        "  return 0;\n",
        "}\n"
      ],
      "execution_count": null,
      "outputs": []
    },
    {
      "cell_type": "markdown",
      "metadata": {
        "id": "IJgVGG4OglE2"
      },
      "source": [
        "#**20-Polymorphism**\n",
        "\n",
        "Polymorphism means \"many forms\", and it occurs when we have many classes that are related to each other by inheritance.\n",
        "\n",
        "Like we specified in the previous chapter; Inheritance lets us inherit attributes and methods from another class. Polymorphism uses those methods to perform different tasks. This allows us to perform a single action in different ways.\n",
        "\n",
        "For example, think of a base class called Animal that has a method called animalSound(). Derived classes of Animals could be Pigs, Cats, Dogs, Birds - And they also have their own implementation of an animal sound (the pig oinks, and the cat meows, etc.):\n",
        "\n",
        "Remember from the Inheritance chapter that we use the : symbol to inherit from a class.\n",
        "\n",
        "Now we can create Pig and Dog objects and override the animalSound() method:"
      ]
    },
    {
      "cell_type": "code",
      "metadata": {
        "id": "PqCHO3i1hHiT"
      },
      "source": [
        "%%cu\n",
        "#include <iostream>\n",
        "using namespace std;\n",
        "\n",
        "class animal{\n",
        "    public:\n",
        "    void animalsound(){\n",
        "        cout <<\"animal make a sound\"<<endl;\n",
        "    }\n",
        "};\n",
        "class pig:public animal{\n",
        "    public:\n",
        "    void animalsound(){\n",
        "        cout <<\"sound of wildforest\"<<endl;\n",
        "    }\n",
        "};\n",
        "class dog: public animal{\n",
        "    public:\n",
        "    void animalsound(){\n",
        "        cout <<\"sound of gangal\"<<endl;\n",
        "    }\n",
        "};\n",
        "\n",
        "int main(){\n",
        "    animal myanimal;\n",
        "    pig mypig;\n",
        "    dog mydog;\n",
        "\n",
        "    myanimal.animalsound();\n",
        "    mypig.animalsound();\n",
        "    mydog.animalsound();\n",
        "    return 0;\n",
        "\n",
        "}"
      ],
      "execution_count": null,
      "outputs": []
    },
    {
      "cell_type": "markdown",
      "metadata": {
        "id": "JrbtBoIiWTUX"
      },
      "source": [
        "#**Reference**\n",
        "C++ Tutorial\n",
        "https://www.w3schools.com/cpp/cpp_strings.asp\n",
        "\n",
        "https://www.learn-cpp.org/en/Variables_and_Types\n",
        "\n",
        "How to Run CUDA C or C++ on Jupyter (Google Colab)\n",
        "\n",
        "https://www.wikihow.com/Run-CUDA-C-or-C%2B%2B-on-Jupyter-(Google-Colab)\n",
        "\n",
        "Code block\n",
        "http://www.codeblocks.org/downloads/26\n",
        "\n",
        "Freebootcamp\n",
        "https://www.freecodecamp.org/\n",
        "\n",
        "ntroduction to C++ Programming in Urdu\n",
        "https://www.youtube.com/watch?v=dnCO124Uk1o\n",
        "\n",
        "6 Sentiment Analysis Projects with Python\n",
        "\n",
        "https://amankharwal.medium.com/6-sentiment-analysis-projects-with-python-1fdd3d43d90f"
      ]
    }
  ]
}